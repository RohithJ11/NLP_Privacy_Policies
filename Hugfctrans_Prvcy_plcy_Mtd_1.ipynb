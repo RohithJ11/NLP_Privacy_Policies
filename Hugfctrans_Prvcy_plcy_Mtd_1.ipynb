{
  "nbformat": 4,
  "nbformat_minor": 0,
  "metadata": {
    "colab": {
      "provenance": [],
      "mount_file_id": "1bSXsHAWKJptw5roNh5m0Ct1QRW_BhEHP",
      "authorship_tag": "ABX9TyMMm9lHzMu4TQfsiygsxmGR",
      "include_colab_link": true
    },
    "kernelspec": {
      "name": "python3",
      "display_name": "Python 3"
    },
    "language_info": {
      "name": "python"
    }
  },
  "cells": [
    {
      "cell_type": "markdown",
      "metadata": {
        "id": "view-in-github",
        "colab_type": "text"
      },
      "source": [
        "<a href=\"https://colab.research.google.com/github/RohithJ11/NLP_Privacy_Policies/blob/main/Hugfctrans_Prvcy_plcy_Mtd_1.ipynb\" target=\"_parent\"><img src=\"https://colab.research.google.com/assets/colab-badge.svg\" alt=\"Open In Colab\"/></a>"
      ]
    },
    {
      "cell_type": "markdown",
      "source": [
        "### Installing Packages"
      ],
      "metadata": {
        "id": "3Z8qlyigT3gK"
      }
    },
    {
      "cell_type": "code",
      "execution_count": null,
      "metadata": {
        "colab": {
          "base_uri": "https://localhost:8080/"
        },
        "id": "Hs7CSUH5J9RZ",
        "outputId": "f37c26bf-3ea8-4581-f832-e069b53244ba"
      },
      "outputs": [
        {
          "output_type": "stream",
          "name": "stdout",
          "text": [
            "Requirement already satisfied: transformers in /usr/local/lib/python3.10/dist-packages (4.38.2)\n",
            "Requirement already satisfied: pandas in /usr/local/lib/python3.10/dist-packages (1.5.3)\n",
            "Requirement already satisfied: nltk in /usr/local/lib/python3.10/dist-packages (3.8.1)\n",
            "Requirement already satisfied: filelock in /usr/local/lib/python3.10/dist-packages (from transformers) (3.13.3)\n",
            "Requirement already satisfied: huggingface-hub<1.0,>=0.19.3 in /usr/local/lib/python3.10/dist-packages (from transformers) (0.20.3)\n",
            "Requirement already satisfied: numpy>=1.17 in /usr/local/lib/python3.10/dist-packages (from transformers) (1.25.2)\n",
            "Requirement already satisfied: packaging>=20.0 in /usr/local/lib/python3.10/dist-packages (from transformers) (24.0)\n",
            "Requirement already satisfied: pyyaml>=5.1 in /usr/local/lib/python3.10/dist-packages (from transformers) (6.0.1)\n",
            "Requirement already satisfied: regex!=2019.12.17 in /usr/local/lib/python3.10/dist-packages (from transformers) (2023.12.25)\n",
            "Requirement already satisfied: requests in /usr/local/lib/python3.10/dist-packages (from transformers) (2.31.0)\n",
            "Requirement already satisfied: tokenizers<0.19,>=0.14 in /usr/local/lib/python3.10/dist-packages (from transformers) (0.15.2)\n",
            "Requirement already satisfied: safetensors>=0.4.1 in /usr/local/lib/python3.10/dist-packages (from transformers) (0.4.2)\n",
            "Requirement already satisfied: tqdm>=4.27 in /usr/local/lib/python3.10/dist-packages (from transformers) (4.66.2)\n",
            "Requirement already satisfied: python-dateutil>=2.8.1 in /usr/local/lib/python3.10/dist-packages (from pandas) (2.8.2)\n",
            "Requirement already satisfied: pytz>=2020.1 in /usr/local/lib/python3.10/dist-packages (from pandas) (2023.4)\n",
            "Requirement already satisfied: click in /usr/local/lib/python3.10/dist-packages (from nltk) (8.1.7)\n",
            "Requirement already satisfied: joblib in /usr/local/lib/python3.10/dist-packages (from nltk) (1.3.2)\n",
            "Requirement already satisfied: fsspec>=2023.5.0 in /usr/local/lib/python3.10/dist-packages (from huggingface-hub<1.0,>=0.19.3->transformers) (2023.6.0)\n",
            "Requirement already satisfied: typing-extensions>=3.7.4.3 in /usr/local/lib/python3.10/dist-packages (from huggingface-hub<1.0,>=0.19.3->transformers) (4.10.0)\n",
            "Requirement already satisfied: six>=1.5 in /usr/local/lib/python3.10/dist-packages (from python-dateutil>=2.8.1->pandas) (1.16.0)\n",
            "Requirement already satisfied: charset-normalizer<4,>=2 in /usr/local/lib/python3.10/dist-packages (from requests->transformers) (3.3.2)\n",
            "Requirement already satisfied: idna<4,>=2.5 in /usr/local/lib/python3.10/dist-packages (from requests->transformers) (3.6)\n",
            "Requirement already satisfied: urllib3<3,>=1.21.1 in /usr/local/lib/python3.10/dist-packages (from requests->transformers) (2.0.7)\n",
            "Requirement already satisfied: certifi>=2017.4.17 in /usr/local/lib/python3.10/dist-packages (from requests->transformers) (2024.2.2)\n"
          ]
        }
      ],
      "source": [
        "!pip install transformers pandas nltk\n"
      ]
    },
    {
      "cell_type": "markdown",
      "source": [
        "### Importing Modules"
      ],
      "metadata": {
        "id": "aVbF1ucqUEfK"
      }
    },
    {
      "cell_type": "code",
      "source": [
        "import pandas as pd\n",
        "import torch\n",
        "from transformers import pipeline\n",
        "from collections import Counter\n",
        "import nltk\n",
        "from nltk.tokenize import word_tokenize\n",
        "from nltk import pos_tag\n",
        "nltk.download('punkt')\n",
        "nltk.download('averaged_perceptron_tagger')\n"
      ],
      "metadata": {
        "colab": {
          "base_uri": "https://localhost:8080/"
        },
        "id": "w6pliikhKGqB",
        "outputId": "84b7b082-1016-4fa3-fd2b-7595e419ccfe"
      },
      "execution_count": null,
      "outputs": [
        {
          "output_type": "stream",
          "name": "stderr",
          "text": [
            "[nltk_data] Downloading package punkt to /root/nltk_data...\n",
            "[nltk_data]   Unzipping tokenizers/punkt.zip.\n",
            "[nltk_data] Downloading package averaged_perceptron_tagger to\n",
            "[nltk_data]     /root/nltk_data...\n",
            "[nltk_data]   Unzipping taggers/averaged_perceptron_tagger.zip.\n"
          ]
        },
        {
          "output_type": "execute_result",
          "data": {
            "text/plain": [
              "True"
            ]
          },
          "metadata": {},
          "execution_count": 2
        }
      ]
    },
    {
      "cell_type": "markdown",
      "source": [
        "### Define Functions for Summarization and Keyword Extraction"
      ],
      "metadata": {
        "id": "u6pScA2pUNdH"
      }
    },
    {
      "cell_type": "code",
      "source": [
        "# Function to summarize texts\n",
        "def summarize_text(text):\n",
        "    summarizer = pipeline(\"summarization\", model=\"t5-small\")\n",
        "    summary_text = summarizer(text, max_length=150, min_length=40, do_sample=False)\n",
        "    return summary_text[0]['summary_text']\n",
        "\n",
        "# Function to extract keywords\n",
        "def extract_keywords(text):\n",
        "    words = word_tokenize(text)\n",
        "    tagged = pos_tag(words)\n",
        "    # I selected nouns and adjectives as they tend to be most informative\n",
        "    keywords = [word for word, pos in tagged if pos in ['NN', 'NNS', 'JJ', 'JJR', 'JJS']]\n",
        "    # Counting the frequency of each keyword\n",
        "    freq_dist = Counter(keywords)\n",
        "    # Selecting the top 10 keywords based on their frequency\n",
        "    most_common_keywords = [word for word, freq in freq_dist.most_common(10)]\n",
        "    return most_common_keywords\n"
      ],
      "metadata": {
        "id": "-2n5mz6dKPTZ"
      },
      "execution_count": null,
      "outputs": []
    },
    {
      "cell_type": "markdown",
      "source": [
        "### Load Dataset and Process Each Privacy Policy"
      ],
      "metadata": {
        "id": "bMbQM1w-UWcm"
      }
    },
    {
      "cell_type": "code",
      "source": [
        "# Load the dataset\n",
        "df = pd.read_csv('/content/Privacyplcy_DS_3.csv')\n",
        "\n",
        "# Name of the column to summarize 'policy_text' dataset that contains the privacy policies\n",
        "column_name = 'Summary_of_Content'  # Example column name\n",
        "\n",
        "# Processing each privacy policy\n",
        "results = []\n",
        "for index, row in df.iterrows():\n",
        "    try:\n",
        "        summary = summarize_text(row[column_name])\n",
        "        keywords = extract_keywords(summary)\n",
        "        results.append({'summary': summary, 'keywords': keywords})\n",
        "    except Exception as e:\n",
        "        print(f\"Error processing row {index}: {e}\")\n",
        "        results.append({'summary': None, 'keywords': None})\n",
        "\n",
        "# Optionally, convert the results to a DataFrame and save it to a CSV file\n",
        "results_df = pd.DataFrame(results)\n",
        "results_df.to_csv('/content/Privacyplcy_DS_3 copy 2.csv', index=False)\n"
      ],
      "metadata": {
        "colab": {
          "base_uri": "https://localhost:8080/"
        },
        "id": "PPmijvf3KY9e",
        "outputId": "ec59358c-ca90-4b1d-f1c3-823c630a0875"
      },
      "execution_count": null,
      "outputs": [
        {
          "output_type": "stream",
          "name": "stderr",
          "text": [
            "Your max_length is set to 150, but your input_length is only 138. Since this is a summarization task, where outputs shorter than the input are typically wanted, you might consider decreasing max_length manually, e.g. summarizer('...', max_length=69)\n",
            "Your max_length is set to 150, but your input_length is only 124. Since this is a summarization task, where outputs shorter than the input are typically wanted, you might consider decreasing max_length manually, e.g. summarizer('...', max_length=62)\n",
            "Your max_length is set to 150, but your input_length is only 136. Since this is a summarization task, where outputs shorter than the input are typically wanted, you might consider decreasing max_length manually, e.g. summarizer('...', max_length=68)\n",
            "Your max_length is set to 150, but your input_length is only 109. Since this is a summarization task, where outputs shorter than the input are typically wanted, you might consider decreasing max_length manually, e.g. summarizer('...', max_length=54)\n",
            "Your max_length is set to 150, but your input_length is only 118. Since this is a summarization task, where outputs shorter than the input are typically wanted, you might consider decreasing max_length manually, e.g. summarizer('...', max_length=59)\n",
            "Your max_length is set to 150, but your input_length is only 81. Since this is a summarization task, where outputs shorter than the input are typically wanted, you might consider decreasing max_length manually, e.g. summarizer('...', max_length=40)\n",
            "Your max_length is set to 150, but your input_length is only 121. Since this is a summarization task, where outputs shorter than the input are typically wanted, you might consider decreasing max_length manually, e.g. summarizer('...', max_length=60)\n",
            "Your max_length is set to 150, but your input_length is only 101. Since this is a summarization task, where outputs shorter than the input are typically wanted, you might consider decreasing max_length manually, e.g. summarizer('...', max_length=50)\n",
            "Your max_length is set to 150, but your input_length is only 116. Since this is a summarization task, where outputs shorter than the input are typically wanted, you might consider decreasing max_length manually, e.g. summarizer('...', max_length=58)\n",
            "Your max_length is set to 150, but your input_length is only 101. Since this is a summarization task, where outputs shorter than the input are typically wanted, you might consider decreasing max_length manually, e.g. summarizer('...', max_length=50)\n",
            "Your max_length is set to 150, but your input_length is only 139. Since this is a summarization task, where outputs shorter than the input are typically wanted, you might consider decreasing max_length manually, e.g. summarizer('...', max_length=69)\n",
            "Your max_length is set to 150, but your input_length is only 146. Since this is a summarization task, where outputs shorter than the input are typically wanted, you might consider decreasing max_length manually, e.g. summarizer('...', max_length=73)\n",
            "Your max_length is set to 150, but your input_length is only 122. Since this is a summarization task, where outputs shorter than the input are typically wanted, you might consider decreasing max_length manually, e.g. summarizer('...', max_length=61)\n"
          ]
        }
      ]
    },
    {
      "cell_type": "markdown",
      "source": [
        "### After executing all the above code cells, the output will be generated and stored into the \"Privacyplcy_DS_3 copy 2.csv\" file."
      ],
      "metadata": {
        "id": "DPPyIXubilQX"
      }
    },
    {
      "cell_type": "markdown",
      "source": [
        "### Code to output the values in a downloadable .csv file"
      ],
      "metadata": {
        "id": "CR-WLxxpBZck"
      }
    },
    {
      "cell_type": "code",
      "source": [
        "# Assuming the earlier steps have been executed\n",
        "\n",
        "# Load the dataset\n",
        "df = pd.read_csv('/content/Privacyplcy_DS_3.csv')\n",
        "\n",
        "# Make sure to replace 'policy_text' with the actual column name from your dataset that contains the privacy policies\n",
        "column_name = 'Summary_of_Content'  # Example column name\n",
        "\n",
        "# Initialize summarizer and keyword extractor\n",
        "summarizer = pipeline(\"summarization\", model=\"t5-small\", device=0 if torch.cuda.is_available() else -1)\n",
        "\n",
        "def summarize_and_extract_keywords(text):\n",
        "    summary = summarizer(text, max_length=150, min_length=40, do_sample=False)[0]['summary_text']\n",
        "    keywords = extract_keywords(summary)\n",
        "    return summary, keywords\n",
        "\n",
        "# Processing each privacy policy\n",
        "processed_policies = []\n",
        "for index, row in df.iterrows():\n",
        "    try:\n",
        "        summary, keywords = summarize_and_extract_keywords(row[column_name])\n",
        "        processed_policies.append({'Summary': summary, 'Keywords': ', '.join(keywords)})\n",
        "    except Exception as e:\n",
        "        print(f\"Error processing row {index}: {e}\")\n",
        "        processed_policies.append({'Summary': 'Error processing text', 'Keywords': ''})\n",
        "\n",
        "# Convert the results to a DataFrame\n",
        "results_df = pd.DataFrame(processed_policies)\n",
        "\n",
        "# Save to CSV\n",
        "output_csv_path = '/content/summarized_privacy_policies_and_keywords.csv'\n",
        "results_df.to_csv(output_csv_path, index=False)\n",
        "print(f\"Output saved to {output_csv_path}\")\n"
      ],
      "metadata": {
        "colab": {
          "base_uri": "https://localhost:8080/"
        },
        "id": "tX6dbpEmAmGS",
        "outputId": "f8813f88-075e-45be-edaf-235221dd044c"
      },
      "execution_count": null,
      "outputs": [
        {
          "output_type": "stream",
          "name": "stderr",
          "text": [
            "Your max_length is set to 150, but your input_length is only 138. Since this is a summarization task, where outputs shorter than the input are typically wanted, you might consider decreasing max_length manually, e.g. summarizer('...', max_length=69)\n",
            "Your max_length is set to 150, but your input_length is only 124. Since this is a summarization task, where outputs shorter than the input are typically wanted, you might consider decreasing max_length manually, e.g. summarizer('...', max_length=62)\n",
            "Your max_length is set to 150, but your input_length is only 136. Since this is a summarization task, where outputs shorter than the input are typically wanted, you might consider decreasing max_length manually, e.g. summarizer('...', max_length=68)\n",
            "Your max_length is set to 150, but your input_length is only 109. Since this is a summarization task, where outputs shorter than the input are typically wanted, you might consider decreasing max_length manually, e.g. summarizer('...', max_length=54)\n",
            "Your max_length is set to 150, but your input_length is only 118. Since this is a summarization task, where outputs shorter than the input are typically wanted, you might consider decreasing max_length manually, e.g. summarizer('...', max_length=59)\n",
            "Your max_length is set to 150, but your input_length is only 81. Since this is a summarization task, where outputs shorter than the input are typically wanted, you might consider decreasing max_length manually, e.g. summarizer('...', max_length=40)\n",
            "Your max_length is set to 150, but your input_length is only 121. Since this is a summarization task, where outputs shorter than the input are typically wanted, you might consider decreasing max_length manually, e.g. summarizer('...', max_length=60)\n",
            "Your max_length is set to 150, but your input_length is only 101. Since this is a summarization task, where outputs shorter than the input are typically wanted, you might consider decreasing max_length manually, e.g. summarizer('...', max_length=50)\n",
            "Your max_length is set to 150, but your input_length is only 116. Since this is a summarization task, where outputs shorter than the input are typically wanted, you might consider decreasing max_length manually, e.g. summarizer('...', max_length=58)\n",
            "Your max_length is set to 150, but your input_length is only 101. Since this is a summarization task, where outputs shorter than the input are typically wanted, you might consider decreasing max_length manually, e.g. summarizer('...', max_length=50)\n",
            "Your max_length is set to 150, but your input_length is only 139. Since this is a summarization task, where outputs shorter than the input are typically wanted, you might consider decreasing max_length manually, e.g. summarizer('...', max_length=69)\n",
            "Your max_length is set to 150, but your input_length is only 146. Since this is a summarization task, where outputs shorter than the input are typically wanted, you might consider decreasing max_length manually, e.g. summarizer('...', max_length=73)\n",
            "Your max_length is set to 150, but your input_length is only 122. Since this is a summarization task, where outputs shorter than the input are typically wanted, you might consider decreasing max_length manually, e.g. summarizer('...', max_length=61)\n"
          ]
        },
        {
          "output_type": "stream",
          "name": "stdout",
          "text": [
            "Output saved to /content/summarized_privacy_policies_and_keywords.csv\n"
          ]
        }
      ]
    }
  ]
}