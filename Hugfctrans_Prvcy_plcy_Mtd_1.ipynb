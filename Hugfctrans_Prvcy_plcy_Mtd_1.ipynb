Installing Packages

!pip install transformers pandas nltk


Importing Modules

import pandas as pd
import torch
from transformers import pipeline
from collections import Counter
import nltk
from nltk.tokenize import word_tokenize
from nltk import pos_tag
nltk.download('punkt')
nltk.download('averaged_perceptron_tagger')


Define Functions for Summarization and Keyword Extraction

# Function to summarize texts
def summarize_text(text):
    summarizer = pipeline("summarization", model="t5-small")
    summary_text = summarizer(text, max_length=150, min_length=40, do_sample=False)
    return summary_text[0]['summary_text']

# Function to extract keywords
def extract_keywords(text):
    words = word_tokenize(text)
    tagged = pos_tag(words)
    # I selected nouns and adjectives as they tend to be most informative
    keywords = [word for word, pos in tagged if pos in ['NN', 'NNS', 'JJ', 'JJR', 'JJS']]
    # Counting the frequency of each keyword
    freq_dist = Counter(keywords)
    # Selecting the top 10 keywords based on their frequency
    most_common_keywords = [word for word, freq in freq_dist.most_common(10)]
    return most_common_keywords


Load Dataset and Process Each Privacy Policy

# Load the dataset
df = pd.read_csv('/content/Privacyplcy_DS_3.csv')

# Name of the column to summarize 'Summary_of_Content' dataset that contains the privacy policies
column_name = 'Summary_of_Content'  # Example column name

# Processing each privacy policy
results = []
for index, row in df.iterrows():
    try:
        summary = summarize_text(row[column_name])
        keywords = extract_keywords(summary)
        results.append({'summary': summary, 'keywords': keywords})
    except Exception as e:
        print(f"Error processing row {index}: {e}")
        results.append({'summary': None, 'keywords': None})

# Optionally, convert the results to a DataFrame and save it to a CSV file
results_df = pd.DataFrame(results)
results_df.to_csv('/content/Privacyplcy_DS_3 copy 2.csv', index=False)


After executing all the above code cells, the output will be generated and stored into the "Privacyplcy_DS_3 copy 2.csv" file.
