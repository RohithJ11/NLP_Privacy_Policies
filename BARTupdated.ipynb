{
  "nbformat": 4,
  "nbformat_minor": 0,
  "metadata": {
    "colab": {
      "provenance": [],
      "gpuType": "T4",
      "authorship_tag": "ABX9TyP8o9xPCRMKZj1xQUQtt5EE",
      "include_colab_link": true
    },
    "kernelspec": {
      "name": "python3",
      "display_name": "Python 3"
    },
    "language_info": {
      "name": "python"
    },
    "accelerator": "GPU",
    "widgets": {
      "application/vnd.jupyter.widget-state+json": {
        "e202af1c1b434c0a959ccef67be88bd4": {
          "model_module": "@jupyter-widgets/controls",
          "model_name": "HBoxModel",
          "model_module_version": "1.5.0",
          "state": {
            "_dom_classes": [],
            "_model_module": "@jupyter-widgets/controls",
            "_model_module_version": "1.5.0",
            "_model_name": "HBoxModel",
            "_view_count": null,
            "_view_module": "@jupyter-widgets/controls",
            "_view_module_version": "1.5.0",
            "_view_name": "HBoxView",
            "box_style": "",
            "children": [
              "IPY_MODEL_86130dc26adf4f52acffccc75dd8275a",
              "IPY_MODEL_04df752c081a494790b4d49e77b693bf",
              "IPY_MODEL_8ee6bea2a8ac4ae9abe7e97c54278759"
            ],
            "layout": "IPY_MODEL_57bbd08324f24611b15e6427219647f8"
          }
        },
        "86130dc26adf4f52acffccc75dd8275a": {
          "model_module": "@jupyter-widgets/controls",
          "model_name": "HTMLModel",
          "model_module_version": "1.5.0",
          "state": {
            "_dom_classes": [],
            "_model_module": "@jupyter-widgets/controls",
            "_model_module_version": "1.5.0",
            "_model_name": "HTMLModel",
            "_view_count": null,
            "_view_module": "@jupyter-widgets/controls",
            "_view_module_version": "1.5.0",
            "_view_name": "HTMLView",
            "description": "",
            "description_tooltip": null,
            "layout": "IPY_MODEL_a87840de76694dbd9a3fc96c33591d07",
            "placeholder": "​",
            "style": "IPY_MODEL_a98c57a672f24f3e8e1efa074d3c00e8",
            "value": "Map: 100%"
          }
        },
        "04df752c081a494790b4d49e77b693bf": {
          "model_module": "@jupyter-widgets/controls",
          "model_name": "FloatProgressModel",
          "model_module_version": "1.5.0",
          "state": {
            "_dom_classes": [],
            "_model_module": "@jupyter-widgets/controls",
            "_model_module_version": "1.5.0",
            "_model_name": "FloatProgressModel",
            "_view_count": null,
            "_view_module": "@jupyter-widgets/controls",
            "_view_module_version": "1.5.0",
            "_view_name": "ProgressView",
            "bar_style": "success",
            "description": "",
            "description_tooltip": null,
            "layout": "IPY_MODEL_2cb43d9a7fcd4a99b94ef842202b8105",
            "max": 51,
            "min": 0,
            "orientation": "horizontal",
            "style": "IPY_MODEL_3f7aaa24cdd64a21a58816de60298f30",
            "value": 51
          }
        },
        "8ee6bea2a8ac4ae9abe7e97c54278759": {
          "model_module": "@jupyter-widgets/controls",
          "model_name": "HTMLModel",
          "model_module_version": "1.5.0",
          "state": {
            "_dom_classes": [],
            "_model_module": "@jupyter-widgets/controls",
            "_model_module_version": "1.5.0",
            "_model_name": "HTMLModel",
            "_view_count": null,
            "_view_module": "@jupyter-widgets/controls",
            "_view_module_version": "1.5.0",
            "_view_name": "HTMLView",
            "description": "",
            "description_tooltip": null,
            "layout": "IPY_MODEL_562a5788d12242e1949179f6c91d1222",
            "placeholder": "​",
            "style": "IPY_MODEL_2051ba3646b64cc7828b4b67a7c8c73b",
            "value": " 51/51 [00:00&lt;00:00, 152.15 examples/s]"
          }
        },
        "57bbd08324f24611b15e6427219647f8": {
          "model_module": "@jupyter-widgets/base",
          "model_name": "LayoutModel",
          "model_module_version": "1.2.0",
          "state": {
            "_model_module": "@jupyter-widgets/base",
            "_model_module_version": "1.2.0",
            "_model_name": "LayoutModel",
            "_view_count": null,
            "_view_module": "@jupyter-widgets/base",
            "_view_module_version": "1.2.0",
            "_view_name": "LayoutView",
            "align_content": null,
            "align_items": null,
            "align_self": null,
            "border": null,
            "bottom": null,
            "display": null,
            "flex": null,
            "flex_flow": null,
            "grid_area": null,
            "grid_auto_columns": null,
            "grid_auto_flow": null,
            "grid_auto_rows": null,
            "grid_column": null,
            "grid_gap": null,
            "grid_row": null,
            "grid_template_areas": null,
            "grid_template_columns": null,
            "grid_template_rows": null,
            "height": null,
            "justify_content": null,
            "justify_items": null,
            "left": null,
            "margin": null,
            "max_height": null,
            "max_width": null,
            "min_height": null,
            "min_width": null,
            "object_fit": null,
            "object_position": null,
            "order": null,
            "overflow": null,
            "overflow_x": null,
            "overflow_y": null,
            "padding": null,
            "right": null,
            "top": null,
            "visibility": null,
            "width": null
          }
        },
        "a87840de76694dbd9a3fc96c33591d07": {
          "model_module": "@jupyter-widgets/base",
          "model_name": "LayoutModel",
          "model_module_version": "1.2.0",
          "state": {
            "_model_module": "@jupyter-widgets/base",
            "_model_module_version": "1.2.0",
            "_model_name": "LayoutModel",
            "_view_count": null,
            "_view_module": "@jupyter-widgets/base",
            "_view_module_version": "1.2.0",
            "_view_name": "LayoutView",
            "align_content": null,
            "align_items": null,
            "align_self": null,
            "border": null,
            "bottom": null,
            "display": null,
            "flex": null,
            "flex_flow": null,
            "grid_area": null,
            "grid_auto_columns": null,
            "grid_auto_flow": null,
            "grid_auto_rows": null,
            "grid_column": null,
            "grid_gap": null,
            "grid_row": null,
            "grid_template_areas": null,
            "grid_template_columns": null,
            "grid_template_rows": null,
            "height": null,
            "justify_content": null,
            "justify_items": null,
            "left": null,
            "margin": null,
            "max_height": null,
            "max_width": null,
            "min_height": null,
            "min_width": null,
            "object_fit": null,
            "object_position": null,
            "order": null,
            "overflow": null,
            "overflow_x": null,
            "overflow_y": null,
            "padding": null,
            "right": null,
            "top": null,
            "visibility": null,
            "width": null
          }
        },
        "a98c57a672f24f3e8e1efa074d3c00e8": {
          "model_module": "@jupyter-widgets/controls",
          "model_name": "DescriptionStyleModel",
          "model_module_version": "1.5.0",
          "state": {
            "_model_module": "@jupyter-widgets/controls",
            "_model_module_version": "1.5.0",
            "_model_name": "DescriptionStyleModel",
            "_view_count": null,
            "_view_module": "@jupyter-widgets/base",
            "_view_module_version": "1.2.0",
            "_view_name": "StyleView",
            "description_width": ""
          }
        },
        "2cb43d9a7fcd4a99b94ef842202b8105": {
          "model_module": "@jupyter-widgets/base",
          "model_name": "LayoutModel",
          "model_module_version": "1.2.0",
          "state": {
            "_model_module": "@jupyter-widgets/base",
            "_model_module_version": "1.2.0",
            "_model_name": "LayoutModel",
            "_view_count": null,
            "_view_module": "@jupyter-widgets/base",
            "_view_module_version": "1.2.0",
            "_view_name": "LayoutView",
            "align_content": null,
            "align_items": null,
            "align_self": null,
            "border": null,
            "bottom": null,
            "display": null,
            "flex": null,
            "flex_flow": null,
            "grid_area": null,
            "grid_auto_columns": null,
            "grid_auto_flow": null,
            "grid_auto_rows": null,
            "grid_column": null,
            "grid_gap": null,
            "grid_row": null,
            "grid_template_areas": null,
            "grid_template_columns": null,
            "grid_template_rows": null,
            "height": null,
            "justify_content": null,
            "justify_items": null,
            "left": null,
            "margin": null,
            "max_height": null,
            "max_width": null,
            "min_height": null,
            "min_width": null,
            "object_fit": null,
            "object_position": null,
            "order": null,
            "overflow": null,
            "overflow_x": null,
            "overflow_y": null,
            "padding": null,
            "right": null,
            "top": null,
            "visibility": null,
            "width": null
          }
        },
        "3f7aaa24cdd64a21a58816de60298f30": {
          "model_module": "@jupyter-widgets/controls",
          "model_name": "ProgressStyleModel",
          "model_module_version": "1.5.0",
          "state": {
            "_model_module": "@jupyter-widgets/controls",
            "_model_module_version": "1.5.0",
            "_model_name": "ProgressStyleModel",
            "_view_count": null,
            "_view_module": "@jupyter-widgets/base",
            "_view_module_version": "1.2.0",
            "_view_name": "StyleView",
            "bar_color": null,
            "description_width": ""
          }
        },
        "562a5788d12242e1949179f6c91d1222": {
          "model_module": "@jupyter-widgets/base",
          "model_name": "LayoutModel",
          "model_module_version": "1.2.0",
          "state": {
            "_model_module": "@jupyter-widgets/base",
            "_model_module_version": "1.2.0",
            "_model_name": "LayoutModel",
            "_view_count": null,
            "_view_module": "@jupyter-widgets/base",
            "_view_module_version": "1.2.0",
            "_view_name": "LayoutView",
            "align_content": null,
            "align_items": null,
            "align_self": null,
            "border": null,
            "bottom": null,
            "display": null,
            "flex": null,
            "flex_flow": null,
            "grid_area": null,
            "grid_auto_columns": null,
            "grid_auto_flow": null,
            "grid_auto_rows": null,
            "grid_column": null,
            "grid_gap": null,
            "grid_row": null,
            "grid_template_areas": null,
            "grid_template_columns": null,
            "grid_template_rows": null,
            "height": null,
            "justify_content": null,
            "justify_items": null,
            "left": null,
            "margin": null,
            "max_height": null,
            "max_width": null,
            "min_height": null,
            "min_width": null,
            "object_fit": null,
            "object_position": null,
            "order": null,
            "overflow": null,
            "overflow_x": null,
            "overflow_y": null,
            "padding": null,
            "right": null,
            "top": null,
            "visibility": null,
            "width": null
          }
        },
        "2051ba3646b64cc7828b4b67a7c8c73b": {
          "model_module": "@jupyter-widgets/controls",
          "model_name": "DescriptionStyleModel",
          "model_module_version": "1.5.0",
          "state": {
            "_model_module": "@jupyter-widgets/controls",
            "_model_module_version": "1.5.0",
            "_model_name": "DescriptionStyleModel",
            "_view_count": null,
            "_view_module": "@jupyter-widgets/base",
            "_view_module_version": "1.2.0",
            "_view_name": "StyleView",
            "description_width": ""
          }
        },
        "02973668ab89449ba2fecd3eb7ebe04e": {
          "model_module": "@jupyter-widgets/controls",
          "model_name": "HBoxModel",
          "model_module_version": "1.5.0",
          "state": {
            "_dom_classes": [],
            "_model_module": "@jupyter-widgets/controls",
            "_model_module_version": "1.5.0",
            "_model_name": "HBoxModel",
            "_view_count": null,
            "_view_module": "@jupyter-widgets/controls",
            "_view_module_version": "1.5.0",
            "_view_name": "HBoxView",
            "box_style": "",
            "children": [
              "IPY_MODEL_3adcb4d0e9e04323843f157bdecfdef5",
              "IPY_MODEL_f8383529287f41558381318a24ef45e0",
              "IPY_MODEL_1dc2e36dba794c27b68adc4cd4bee4ba"
            ],
            "layout": "IPY_MODEL_f79e93f070d544ee88810dd4393a213a"
          }
        },
        "3adcb4d0e9e04323843f157bdecfdef5": {
          "model_module": "@jupyter-widgets/controls",
          "model_name": "HTMLModel",
          "model_module_version": "1.5.0",
          "state": {
            "_dom_classes": [],
            "_model_module": "@jupyter-widgets/controls",
            "_model_module_version": "1.5.0",
            "_model_name": "HTMLModel",
            "_view_count": null,
            "_view_module": "@jupyter-widgets/controls",
            "_view_module_version": "1.5.0",
            "_view_name": "HTMLView",
            "description": "",
            "description_tooltip": null,
            "layout": "IPY_MODEL_c07d8fc613fb494e80e75335f009fab2",
            "placeholder": "​",
            "style": "IPY_MODEL_fcf264ffb16e46a39ad08e29ed17cdd7",
            "value": "Map: 100%"
          }
        },
        "f8383529287f41558381318a24ef45e0": {
          "model_module": "@jupyter-widgets/controls",
          "model_name": "FloatProgressModel",
          "model_module_version": "1.5.0",
          "state": {
            "_dom_classes": [],
            "_model_module": "@jupyter-widgets/controls",
            "_model_module_version": "1.5.0",
            "_model_name": "FloatProgressModel",
            "_view_count": null,
            "_view_module": "@jupyter-widgets/controls",
            "_view_module_version": "1.5.0",
            "_view_name": "ProgressView",
            "bar_style": "success",
            "description": "",
            "description_tooltip": null,
            "layout": "IPY_MODEL_185dcf45c8564628a51304810989caae",
            "max": 6,
            "min": 0,
            "orientation": "horizontal",
            "style": "IPY_MODEL_939027e6a05a48d68f39471bf9f45558",
            "value": 6
          }
        },
        "1dc2e36dba794c27b68adc4cd4bee4ba": {
          "model_module": "@jupyter-widgets/controls",
          "model_name": "HTMLModel",
          "model_module_version": "1.5.0",
          "state": {
            "_dom_classes": [],
            "_model_module": "@jupyter-widgets/controls",
            "_model_module_version": "1.5.0",
            "_model_name": "HTMLModel",
            "_view_count": null,
            "_view_module": "@jupyter-widgets/controls",
            "_view_module_version": "1.5.0",
            "_view_name": "HTMLView",
            "description": "",
            "description_tooltip": null,
            "layout": "IPY_MODEL_907d491a28e24377b57cce1888fd194b",
            "placeholder": "​",
            "style": "IPY_MODEL_92dbed719c2f446bae058174b8d0e774",
            "value": " 6/6 [00:00&lt;00:00, 55.09 examples/s]"
          }
        },
        "f79e93f070d544ee88810dd4393a213a": {
          "model_module": "@jupyter-widgets/base",
          "model_name": "LayoutModel",
          "model_module_version": "1.2.0",
          "state": {
            "_model_module": "@jupyter-widgets/base",
            "_model_module_version": "1.2.0",
            "_model_name": "LayoutModel",
            "_view_count": null,
            "_view_module": "@jupyter-widgets/base",
            "_view_module_version": "1.2.0",
            "_view_name": "LayoutView",
            "align_content": null,
            "align_items": null,
            "align_self": null,
            "border": null,
            "bottom": null,
            "display": null,
            "flex": null,
            "flex_flow": null,
            "grid_area": null,
            "grid_auto_columns": null,
            "grid_auto_flow": null,
            "grid_auto_rows": null,
            "grid_column": null,
            "grid_gap": null,
            "grid_row": null,
            "grid_template_areas": null,
            "grid_template_columns": null,
            "grid_template_rows": null,
            "height": null,
            "justify_content": null,
            "justify_items": null,
            "left": null,
            "margin": null,
            "max_height": null,
            "max_width": null,
            "min_height": null,
            "min_width": null,
            "object_fit": null,
            "object_position": null,
            "order": null,
            "overflow": null,
            "overflow_x": null,
            "overflow_y": null,
            "padding": null,
            "right": null,
            "top": null,
            "visibility": null,
            "width": null
          }
        },
        "c07d8fc613fb494e80e75335f009fab2": {
          "model_module": "@jupyter-widgets/base",
          "model_name": "LayoutModel",
          "model_module_version": "1.2.0",
          "state": {
            "_model_module": "@jupyter-widgets/base",
            "_model_module_version": "1.2.0",
            "_model_name": "LayoutModel",
            "_view_count": null,
            "_view_module": "@jupyter-widgets/base",
            "_view_module_version": "1.2.0",
            "_view_name": "LayoutView",
            "align_content": null,
            "align_items": null,
            "align_self": null,
            "border": null,
            "bottom": null,
            "display": null,
            "flex": null,
            "flex_flow": null,
            "grid_area": null,
            "grid_auto_columns": null,
            "grid_auto_flow": null,
            "grid_auto_rows": null,
            "grid_column": null,
            "grid_gap": null,
            "grid_row": null,
            "grid_template_areas": null,
            "grid_template_columns": null,
            "grid_template_rows": null,
            "height": null,
            "justify_content": null,
            "justify_items": null,
            "left": null,
            "margin": null,
            "max_height": null,
            "max_width": null,
            "min_height": null,
            "min_width": null,
            "object_fit": null,
            "object_position": null,
            "order": null,
            "overflow": null,
            "overflow_x": null,
            "overflow_y": null,
            "padding": null,
            "right": null,
            "top": null,
            "visibility": null,
            "width": null
          }
        },
        "fcf264ffb16e46a39ad08e29ed17cdd7": {
          "model_module": "@jupyter-widgets/controls",
          "model_name": "DescriptionStyleModel",
          "model_module_version": "1.5.0",
          "state": {
            "_model_module": "@jupyter-widgets/controls",
            "_model_module_version": "1.5.0",
            "_model_name": "DescriptionStyleModel",
            "_view_count": null,
            "_view_module": "@jupyter-widgets/base",
            "_view_module_version": "1.2.0",
            "_view_name": "StyleView",
            "description_width": ""
          }
        },
        "185dcf45c8564628a51304810989caae": {
          "model_module": "@jupyter-widgets/base",
          "model_name": "LayoutModel",
          "model_module_version": "1.2.0",
          "state": {
            "_model_module": "@jupyter-widgets/base",
            "_model_module_version": "1.2.0",
            "_model_name": "LayoutModel",
            "_view_count": null,
            "_view_module": "@jupyter-widgets/base",
            "_view_module_version": "1.2.0",
            "_view_name": "LayoutView",
            "align_content": null,
            "align_items": null,
            "align_self": null,
            "border": null,
            "bottom": null,
            "display": null,
            "flex": null,
            "flex_flow": null,
            "grid_area": null,
            "grid_auto_columns": null,
            "grid_auto_flow": null,
            "grid_auto_rows": null,
            "grid_column": null,
            "grid_gap": null,
            "grid_row": null,
            "grid_template_areas": null,
            "grid_template_columns": null,
            "grid_template_rows": null,
            "height": null,
            "justify_content": null,
            "justify_items": null,
            "left": null,
            "margin": null,
            "max_height": null,
            "max_width": null,
            "min_height": null,
            "min_width": null,
            "object_fit": null,
            "object_position": null,
            "order": null,
            "overflow": null,
            "overflow_x": null,
            "overflow_y": null,
            "padding": null,
            "right": null,
            "top": null,
            "visibility": null,
            "width": null
          }
        },
        "939027e6a05a48d68f39471bf9f45558": {
          "model_module": "@jupyter-widgets/controls",
          "model_name": "ProgressStyleModel",
          "model_module_version": "1.5.0",
          "state": {
            "_model_module": "@jupyter-widgets/controls",
            "_model_module_version": "1.5.0",
            "_model_name": "ProgressStyleModel",
            "_view_count": null,
            "_view_module": "@jupyter-widgets/base",
            "_view_module_version": "1.2.0",
            "_view_name": "StyleView",
            "bar_color": null,
            "description_width": ""
          }
        },
        "907d491a28e24377b57cce1888fd194b": {
          "model_module": "@jupyter-widgets/base",
          "model_name": "LayoutModel",
          "model_module_version": "1.2.0",
          "state": {
            "_model_module": "@jupyter-widgets/base",
            "_model_module_version": "1.2.0",
            "_model_name": "LayoutModel",
            "_view_count": null,
            "_view_module": "@jupyter-widgets/base",
            "_view_module_version": "1.2.0",
            "_view_name": "LayoutView",
            "align_content": null,
            "align_items": null,
            "align_self": null,
            "border": null,
            "bottom": null,
            "display": null,
            "flex": null,
            "flex_flow": null,
            "grid_area": null,
            "grid_auto_columns": null,
            "grid_auto_flow": null,
            "grid_auto_rows": null,
            "grid_column": null,
            "grid_gap": null,
            "grid_row": null,
            "grid_template_areas": null,
            "grid_template_columns": null,
            "grid_template_rows": null,
            "height": null,
            "justify_content": null,
            "justify_items": null,
            "left": null,
            "margin": null,
            "max_height": null,
            "max_width": null,
            "min_height": null,
            "min_width": null,
            "object_fit": null,
            "object_position": null,
            "order": null,
            "overflow": null,
            "overflow_x": null,
            "overflow_y": null,
            "padding": null,
            "right": null,
            "top": null,
            "visibility": null,
            "width": null
          }
        },
        "92dbed719c2f446bae058174b8d0e774": {
          "model_module": "@jupyter-widgets/controls",
          "model_name": "DescriptionStyleModel",
          "model_module_version": "1.5.0",
          "state": {
            "_model_module": "@jupyter-widgets/controls",
            "_model_module_version": "1.5.0",
            "_model_name": "DescriptionStyleModel",
            "_view_count": null,
            "_view_module": "@jupyter-widgets/base",
            "_view_module_version": "1.2.0",
            "_view_name": "StyleView",
            "description_width": ""
          }
        },
        "e8ef4ccf31544051be540b7877b28c63": {
          "model_module": "@jupyter-widgets/controls",
          "model_name": "HBoxModel",
          "model_module_version": "1.5.0",
          "state": {
            "_dom_classes": [],
            "_model_module": "@jupyter-widgets/controls",
            "_model_module_version": "1.5.0",
            "_model_name": "HBoxModel",
            "_view_count": null,
            "_view_module": "@jupyter-widgets/controls",
            "_view_module_version": "1.5.0",
            "_view_name": "HBoxView",
            "box_style": "",
            "children": [
              "IPY_MODEL_69c53fbfb33049b28a179a68eda59cb2",
              "IPY_MODEL_0b75564fcfd4446686cfee4a262987d9",
              "IPY_MODEL_11dcff9cedf84fbb86b87598e5b5abb1"
            ],
            "layout": "IPY_MODEL_bd46d074763f4b0bae15d042c90b3843"
          }
        },
        "69c53fbfb33049b28a179a68eda59cb2": {
          "model_module": "@jupyter-widgets/controls",
          "model_name": "HTMLModel",
          "model_module_version": "1.5.0",
          "state": {
            "_dom_classes": [],
            "_model_module": "@jupyter-widgets/controls",
            "_model_module_version": "1.5.0",
            "_model_name": "HTMLModel",
            "_view_count": null,
            "_view_module": "@jupyter-widgets/controls",
            "_view_module_version": "1.5.0",
            "_view_name": "HTMLView",
            "description": "",
            "description_tooltip": null,
            "layout": "IPY_MODEL_bd276d577d65445386591842789ef06f",
            "placeholder": "​",
            "style": "IPY_MODEL_c846c1ad9e354f36a67c5787643e2316",
            "value": "Map: 100%"
          }
        },
        "0b75564fcfd4446686cfee4a262987d9": {
          "model_module": "@jupyter-widgets/controls",
          "model_name": "FloatProgressModel",
          "model_module_version": "1.5.0",
          "state": {
            "_dom_classes": [],
            "_model_module": "@jupyter-widgets/controls",
            "_model_module_version": "1.5.0",
            "_model_name": "FloatProgressModel",
            "_view_count": null,
            "_view_module": "@jupyter-widgets/controls",
            "_view_module_version": "1.5.0",
            "_view_name": "ProgressView",
            "bar_style": "success",
            "description": "",
            "description_tooltip": null,
            "layout": "IPY_MODEL_d31a918fa3fc48baaa3b12fe46a69b66",
            "max": 7,
            "min": 0,
            "orientation": "horizontal",
            "style": "IPY_MODEL_829fd462c61248ae908dc8dbeaa9aadd",
            "value": 7
          }
        },
        "11dcff9cedf84fbb86b87598e5b5abb1": {
          "model_module": "@jupyter-widgets/controls",
          "model_name": "HTMLModel",
          "model_module_version": "1.5.0",
          "state": {
            "_dom_classes": [],
            "_model_module": "@jupyter-widgets/controls",
            "_model_module_version": "1.5.0",
            "_model_name": "HTMLModel",
            "_view_count": null,
            "_view_module": "@jupyter-widgets/controls",
            "_view_module_version": "1.5.0",
            "_view_name": "HTMLView",
            "description": "",
            "description_tooltip": null,
            "layout": "IPY_MODEL_e2c5217d058e4373a226807088dc7878",
            "placeholder": "​",
            "style": "IPY_MODEL_0a90bb603fb443c9aec9c3d49f20a0cc",
            "value": " 7/7 [00:00&lt;00:00, 69.04 examples/s]"
          }
        },
        "bd46d074763f4b0bae15d042c90b3843": {
          "model_module": "@jupyter-widgets/base",
          "model_name": "LayoutModel",
          "model_module_version": "1.2.0",
          "state": {
            "_model_module": "@jupyter-widgets/base",
            "_model_module_version": "1.2.0",
            "_model_name": "LayoutModel",
            "_view_count": null,
            "_view_module": "@jupyter-widgets/base",
            "_view_module_version": "1.2.0",
            "_view_name": "LayoutView",
            "align_content": null,
            "align_items": null,
            "align_self": null,
            "border": null,
            "bottom": null,
            "display": null,
            "flex": null,
            "flex_flow": null,
            "grid_area": null,
            "grid_auto_columns": null,
            "grid_auto_flow": null,
            "grid_auto_rows": null,
            "grid_column": null,
            "grid_gap": null,
            "grid_row": null,
            "grid_template_areas": null,
            "grid_template_columns": null,
            "grid_template_rows": null,
            "height": null,
            "justify_content": null,
            "justify_items": null,
            "left": null,
            "margin": null,
            "max_height": null,
            "max_width": null,
            "min_height": null,
            "min_width": null,
            "object_fit": null,
            "object_position": null,
            "order": null,
            "overflow": null,
            "overflow_x": null,
            "overflow_y": null,
            "padding": null,
            "right": null,
            "top": null,
            "visibility": null,
            "width": null
          }
        },
        "bd276d577d65445386591842789ef06f": {
          "model_module": "@jupyter-widgets/base",
          "model_name": "LayoutModel",
          "model_module_version": "1.2.0",
          "state": {
            "_model_module": "@jupyter-widgets/base",
            "_model_module_version": "1.2.0",
            "_model_name": "LayoutModel",
            "_view_count": null,
            "_view_module": "@jupyter-widgets/base",
            "_view_module_version": "1.2.0",
            "_view_name": "LayoutView",
            "align_content": null,
            "align_items": null,
            "align_self": null,
            "border": null,
            "bottom": null,
            "display": null,
            "flex": null,
            "flex_flow": null,
            "grid_area": null,
            "grid_auto_columns": null,
            "grid_auto_flow": null,
            "grid_auto_rows": null,
            "grid_column": null,
            "grid_gap": null,
            "grid_row": null,
            "grid_template_areas": null,
            "grid_template_columns": null,
            "grid_template_rows": null,
            "height": null,
            "justify_content": null,
            "justify_items": null,
            "left": null,
            "margin": null,
            "max_height": null,
            "max_width": null,
            "min_height": null,
            "min_width": null,
            "object_fit": null,
            "object_position": null,
            "order": null,
            "overflow": null,
            "overflow_x": null,
            "overflow_y": null,
            "padding": null,
            "right": null,
            "top": null,
            "visibility": null,
            "width": null
          }
        },
        "c846c1ad9e354f36a67c5787643e2316": {
          "model_module": "@jupyter-widgets/controls",
          "model_name": "DescriptionStyleModel",
          "model_module_version": "1.5.0",
          "state": {
            "_model_module": "@jupyter-widgets/controls",
            "_model_module_version": "1.5.0",
            "_model_name": "DescriptionStyleModel",
            "_view_count": null,
            "_view_module": "@jupyter-widgets/base",
            "_view_module_version": "1.2.0",
            "_view_name": "StyleView",
            "description_width": ""
          }
        },
        "d31a918fa3fc48baaa3b12fe46a69b66": {
          "model_module": "@jupyter-widgets/base",
          "model_name": "LayoutModel",
          "model_module_version": "1.2.0",
          "state": {
            "_model_module": "@jupyter-widgets/base",
            "_model_module_version": "1.2.0",
            "_model_name": "LayoutModel",
            "_view_count": null,
            "_view_module": "@jupyter-widgets/base",
            "_view_module_version": "1.2.0",
            "_view_name": "LayoutView",
            "align_content": null,
            "align_items": null,
            "align_self": null,
            "border": null,
            "bottom": null,
            "display": null,
            "flex": null,
            "flex_flow": null,
            "grid_area": null,
            "grid_auto_columns": null,
            "grid_auto_flow": null,
            "grid_auto_rows": null,
            "grid_column": null,
            "grid_gap": null,
            "grid_row": null,
            "grid_template_areas": null,
            "grid_template_columns": null,
            "grid_template_rows": null,
            "height": null,
            "justify_content": null,
            "justify_items": null,
            "left": null,
            "margin": null,
            "max_height": null,
            "max_width": null,
            "min_height": null,
            "min_width": null,
            "object_fit": null,
            "object_position": null,
            "order": null,
            "overflow": null,
            "overflow_x": null,
            "overflow_y": null,
            "padding": null,
            "right": null,
            "top": null,
            "visibility": null,
            "width": null
          }
        },
        "829fd462c61248ae908dc8dbeaa9aadd": {
          "model_module": "@jupyter-widgets/controls",
          "model_name": "ProgressStyleModel",
          "model_module_version": "1.5.0",
          "state": {
            "_model_module": "@jupyter-widgets/controls",
            "_model_module_version": "1.5.0",
            "_model_name": "ProgressStyleModel",
            "_view_count": null,
            "_view_module": "@jupyter-widgets/base",
            "_view_module_version": "1.2.0",
            "_view_name": "StyleView",
            "bar_color": null,
            "description_width": ""
          }
        },
        "e2c5217d058e4373a226807088dc7878": {
          "model_module": "@jupyter-widgets/base",
          "model_name": "LayoutModel",
          "model_module_version": "1.2.0",
          "state": {
            "_model_module": "@jupyter-widgets/base",
            "_model_module_version": "1.2.0",
            "_model_name": "LayoutModel",
            "_view_count": null,
            "_view_module": "@jupyter-widgets/base",
            "_view_module_version": "1.2.0",
            "_view_name": "LayoutView",
            "align_content": null,
            "align_items": null,
            "align_self": null,
            "border": null,
            "bottom": null,
            "display": null,
            "flex": null,
            "flex_flow": null,
            "grid_area": null,
            "grid_auto_columns": null,
            "grid_auto_flow": null,
            "grid_auto_rows": null,
            "grid_column": null,
            "grid_gap": null,
            "grid_row": null,
            "grid_template_areas": null,
            "grid_template_columns": null,
            "grid_template_rows": null,
            "height": null,
            "justify_content": null,
            "justify_items": null,
            "left": null,
            "margin": null,
            "max_height": null,
            "max_width": null,
            "min_height": null,
            "min_width": null,
            "object_fit": null,
            "object_position": null,
            "order": null,
            "overflow": null,
            "overflow_x": null,
            "overflow_y": null,
            "padding": null,
            "right": null,
            "top": null,
            "visibility": null,
            "width": null
          }
        },
        "0a90bb603fb443c9aec9c3d49f20a0cc": {
          "model_module": "@jupyter-widgets/controls",
          "model_name": "DescriptionStyleModel",
          "model_module_version": "1.5.0",
          "state": {
            "_model_module": "@jupyter-widgets/controls",
            "_model_module_version": "1.5.0",
            "_model_name": "DescriptionStyleModel",
            "_view_count": null,
            "_view_module": "@jupyter-widgets/base",
            "_view_module_version": "1.2.0",
            "_view_name": "StyleView",
            "description_width": ""
          }
        }
      }
    }
  },
  "cells": [
    {
      "cell_type": "markdown",
      "metadata": {
        "id": "view-in-github",
        "colab_type": "text"
      },
      "source": [
        "<a href=\"https://colab.research.google.com/github/RohithJ11/NLP_Privacy_Policies/blob/main/BARTupdated.ipynb\" target=\"_parent\"><img src=\"https://colab.research.google.com/assets/colab-badge.svg\" alt=\"Open In Colab\"/></a>"
      ]
    },
    {
      "cell_type": "code",
      "source": [
        "pip install transformers datasets\n"
      ],
      "metadata": {
        "colab": {
          "base_uri": "https://localhost:8080/"
        },
        "id": "3UWU-vnZVWsz",
        "outputId": "b889ebca-3c2b-43bd-afc5-2b5272e9e357"
      },
      "execution_count": null,
      "outputs": [
        {
          "output_type": "stream",
          "name": "stdout",
          "text": [
            "Requirement already satisfied: transformers in /usr/local/lib/python3.10/dist-packages (4.40.0)\n",
            "Requirement already satisfied: datasets in /usr/local/lib/python3.10/dist-packages (2.19.0)\n",
            "Requirement already satisfied: filelock in /usr/local/lib/python3.10/dist-packages (from transformers) (3.13.4)\n",
            "Requirement already satisfied: huggingface-hub<1.0,>=0.19.3 in /usr/local/lib/python3.10/dist-packages (from transformers) (0.22.2)\n",
            "Requirement already satisfied: numpy>=1.17 in /usr/local/lib/python3.10/dist-packages (from transformers) (1.25.2)\n",
            "Requirement already satisfied: packaging>=20.0 in /usr/local/lib/python3.10/dist-packages (from transformers) (24.0)\n",
            "Requirement already satisfied: pyyaml>=5.1 in /usr/local/lib/python3.10/dist-packages (from transformers) (6.0.1)\n",
            "Requirement already satisfied: regex!=2019.12.17 in /usr/local/lib/python3.10/dist-packages (from transformers) (2023.12.25)\n",
            "Requirement already satisfied: requests in /usr/local/lib/python3.10/dist-packages (from transformers) (2.31.0)\n",
            "Requirement already satisfied: tokenizers<0.20,>=0.19 in /usr/local/lib/python3.10/dist-packages (from transformers) (0.19.1)\n",
            "Requirement already satisfied: safetensors>=0.4.1 in /usr/local/lib/python3.10/dist-packages (from transformers) (0.4.3)\n",
            "Requirement already satisfied: tqdm>=4.27 in /usr/local/lib/python3.10/dist-packages (from transformers) (4.66.2)\n",
            "Requirement already satisfied: pyarrow>=12.0.0 in /usr/local/lib/python3.10/dist-packages (from datasets) (14.0.2)\n",
            "Requirement already satisfied: pyarrow-hotfix in /usr/local/lib/python3.10/dist-packages (from datasets) (0.6)\n",
            "Requirement already satisfied: dill<0.3.9,>=0.3.0 in /usr/local/lib/python3.10/dist-packages (from datasets) (0.3.8)\n",
            "Requirement already satisfied: pandas in /usr/local/lib/python3.10/dist-packages (from datasets) (2.0.3)\n",
            "Requirement already satisfied: xxhash in /usr/local/lib/python3.10/dist-packages (from datasets) (3.4.1)\n",
            "Requirement already satisfied: multiprocess in /usr/local/lib/python3.10/dist-packages (from datasets) (0.70.16)\n",
            "Requirement already satisfied: fsspec[http]<=2024.3.1,>=2023.1.0 in /usr/local/lib/python3.10/dist-packages (from datasets) (2023.6.0)\n",
            "Requirement already satisfied: aiohttp in /usr/local/lib/python3.10/dist-packages (from datasets) (3.9.5)\n",
            "Requirement already satisfied: aiosignal>=1.1.2 in /usr/local/lib/python3.10/dist-packages (from aiohttp->datasets) (1.3.1)\n",
            "Requirement already satisfied: attrs>=17.3.0 in /usr/local/lib/python3.10/dist-packages (from aiohttp->datasets) (23.2.0)\n",
            "Requirement already satisfied: frozenlist>=1.1.1 in /usr/local/lib/python3.10/dist-packages (from aiohttp->datasets) (1.4.1)\n",
            "Requirement already satisfied: multidict<7.0,>=4.5 in /usr/local/lib/python3.10/dist-packages (from aiohttp->datasets) (6.0.5)\n",
            "Requirement already satisfied: yarl<2.0,>=1.0 in /usr/local/lib/python3.10/dist-packages (from aiohttp->datasets) (1.9.4)\n",
            "Requirement already satisfied: async-timeout<5.0,>=4.0 in /usr/local/lib/python3.10/dist-packages (from aiohttp->datasets) (4.0.3)\n",
            "Requirement already satisfied: typing-extensions>=3.7.4.3 in /usr/local/lib/python3.10/dist-packages (from huggingface-hub<1.0,>=0.19.3->transformers) (4.11.0)\n",
            "Requirement already satisfied: charset-normalizer<4,>=2 in /usr/local/lib/python3.10/dist-packages (from requests->transformers) (3.3.2)\n",
            "Requirement already satisfied: idna<4,>=2.5 in /usr/local/lib/python3.10/dist-packages (from requests->transformers) (3.7)\n",
            "Requirement already satisfied: urllib3<3,>=1.21.1 in /usr/local/lib/python3.10/dist-packages (from requests->transformers) (2.0.7)\n",
            "Requirement already satisfied: certifi>=2017.4.17 in /usr/local/lib/python3.10/dist-packages (from requests->transformers) (2024.2.2)\n",
            "Requirement already satisfied: python-dateutil>=2.8.2 in /usr/local/lib/python3.10/dist-packages (from pandas->datasets) (2.8.2)\n",
            "Requirement already satisfied: pytz>=2020.1 in /usr/local/lib/python3.10/dist-packages (from pandas->datasets) (2023.4)\n",
            "Requirement already satisfied: tzdata>=2022.1 in /usr/local/lib/python3.10/dist-packages (from pandas->datasets) (2024.1)\n",
            "Requirement already satisfied: six>=1.5 in /usr/local/lib/python3.10/dist-packages (from python-dateutil>=2.8.2->pandas->datasets) (1.16.0)\n"
          ]
        }
      ]
    },
    {
      "cell_type": "code",
      "source": [
        "pip install accelerate -U"
      ],
      "metadata": {
        "colab": {
          "base_uri": "https://localhost:8080/"
        },
        "id": "PV13sD9SV3VB",
        "outputId": "7a689f59-6026-4c77-aa7d-05f1869ebc44"
      },
      "execution_count": null,
      "outputs": [
        {
          "output_type": "stream",
          "name": "stdout",
          "text": [
            "Collecting accelerate\n",
            "  Downloading accelerate-0.29.3-py3-none-any.whl (297 kB)\n",
            "\u001b[2K     \u001b[90m━━━━━━━━━━━━━━━━━━━━━━━━━━━━━━━━━━━━━━━━\u001b[0m \u001b[32m297.6/297.6 kB\u001b[0m \u001b[31m4.9 MB/s\u001b[0m eta \u001b[36m0:00:00\u001b[0m\n",
            "\u001b[?25hRequirement already satisfied: numpy>=1.17 in /usr/local/lib/python3.10/dist-packages (from accelerate) (1.25.2)\n",
            "Requirement already satisfied: packaging>=20.0 in /usr/local/lib/python3.10/dist-packages (from accelerate) (24.0)\n",
            "Requirement already satisfied: psutil in /usr/local/lib/python3.10/dist-packages (from accelerate) (5.9.5)\n",
            "Requirement already satisfied: pyyaml in /usr/local/lib/python3.10/dist-packages (from accelerate) (6.0.1)\n",
            "Requirement already satisfied: torch>=1.10.0 in /usr/local/lib/python3.10/dist-packages (from accelerate) (2.2.1+cu121)\n",
            "Requirement already satisfied: huggingface-hub in /usr/local/lib/python3.10/dist-packages (from accelerate) (0.22.2)\n",
            "Requirement already satisfied: safetensors>=0.3.1 in /usr/local/lib/python3.10/dist-packages (from accelerate) (0.4.3)\n",
            "Requirement already satisfied: filelock in /usr/local/lib/python3.10/dist-packages (from torch>=1.10.0->accelerate) (3.13.4)\n",
            "Requirement already satisfied: typing-extensions>=4.8.0 in /usr/local/lib/python3.10/dist-packages (from torch>=1.10.0->accelerate) (4.11.0)\n",
            "Requirement already satisfied: sympy in /usr/local/lib/python3.10/dist-packages (from torch>=1.10.0->accelerate) (1.12)\n",
            "Requirement already satisfied: networkx in /usr/local/lib/python3.10/dist-packages (from torch>=1.10.0->accelerate) (3.3)\n",
            "Requirement already satisfied: jinja2 in /usr/local/lib/python3.10/dist-packages (from torch>=1.10.0->accelerate) (3.1.3)\n",
            "Requirement already satisfied: fsspec in /usr/local/lib/python3.10/dist-packages (from torch>=1.10.0->accelerate) (2023.6.0)\n",
            "Collecting nvidia-cuda-nvrtc-cu12==12.1.105 (from torch>=1.10.0->accelerate)\n",
            "  Using cached nvidia_cuda_nvrtc_cu12-12.1.105-py3-none-manylinux1_x86_64.whl (23.7 MB)\n",
            "Collecting nvidia-cuda-runtime-cu12==12.1.105 (from torch>=1.10.0->accelerate)\n",
            "  Using cached nvidia_cuda_runtime_cu12-12.1.105-py3-none-manylinux1_x86_64.whl (823 kB)\n",
            "Collecting nvidia-cuda-cupti-cu12==12.1.105 (from torch>=1.10.0->accelerate)\n",
            "  Using cached nvidia_cuda_cupti_cu12-12.1.105-py3-none-manylinux1_x86_64.whl (14.1 MB)\n",
            "Collecting nvidia-cudnn-cu12==8.9.2.26 (from torch>=1.10.0->accelerate)\n",
            "  Using cached nvidia_cudnn_cu12-8.9.2.26-py3-none-manylinux1_x86_64.whl (731.7 MB)\n",
            "Collecting nvidia-cublas-cu12==12.1.3.1 (from torch>=1.10.0->accelerate)\n",
            "  Using cached nvidia_cublas_cu12-12.1.3.1-py3-none-manylinux1_x86_64.whl (410.6 MB)\n",
            "Collecting nvidia-cufft-cu12==11.0.2.54 (from torch>=1.10.0->accelerate)\n",
            "  Using cached nvidia_cufft_cu12-11.0.2.54-py3-none-manylinux1_x86_64.whl (121.6 MB)\n",
            "Collecting nvidia-curand-cu12==10.3.2.106 (from torch>=1.10.0->accelerate)\n",
            "  Using cached nvidia_curand_cu12-10.3.2.106-py3-none-manylinux1_x86_64.whl (56.5 MB)\n",
            "Collecting nvidia-cusolver-cu12==11.4.5.107 (from torch>=1.10.0->accelerate)\n",
            "  Using cached nvidia_cusolver_cu12-11.4.5.107-py3-none-manylinux1_x86_64.whl (124.2 MB)\n",
            "Collecting nvidia-cusparse-cu12==12.1.0.106 (from torch>=1.10.0->accelerate)\n",
            "  Using cached nvidia_cusparse_cu12-12.1.0.106-py3-none-manylinux1_x86_64.whl (196.0 MB)\n",
            "Collecting nvidia-nccl-cu12==2.19.3 (from torch>=1.10.0->accelerate)\n",
            "  Using cached nvidia_nccl_cu12-2.19.3-py3-none-manylinux1_x86_64.whl (166.0 MB)\n",
            "Collecting nvidia-nvtx-cu12==12.1.105 (from torch>=1.10.0->accelerate)\n",
            "  Using cached nvidia_nvtx_cu12-12.1.105-py3-none-manylinux1_x86_64.whl (99 kB)\n",
            "Requirement already satisfied: triton==2.2.0 in /usr/local/lib/python3.10/dist-packages (from torch>=1.10.0->accelerate) (2.2.0)\n",
            "Collecting nvidia-nvjitlink-cu12 (from nvidia-cusolver-cu12==11.4.5.107->torch>=1.10.0->accelerate)\n",
            "  Using cached nvidia_nvjitlink_cu12-12.4.127-py3-none-manylinux2014_x86_64.whl (21.1 MB)\n",
            "Requirement already satisfied: requests in /usr/local/lib/python3.10/dist-packages (from huggingface-hub->accelerate) (2.31.0)\n",
            "Requirement already satisfied: tqdm>=4.42.1 in /usr/local/lib/python3.10/dist-packages (from huggingface-hub->accelerate) (4.66.2)\n",
            "Requirement already satisfied: MarkupSafe>=2.0 in /usr/local/lib/python3.10/dist-packages (from jinja2->torch>=1.10.0->accelerate) (2.1.5)\n",
            "Requirement already satisfied: charset-normalizer<4,>=2 in /usr/local/lib/python3.10/dist-packages (from requests->huggingface-hub->accelerate) (3.3.2)\n",
            "Requirement already satisfied: idna<4,>=2.5 in /usr/local/lib/python3.10/dist-packages (from requests->huggingface-hub->accelerate) (3.7)\n",
            "Requirement already satisfied: urllib3<3,>=1.21.1 in /usr/local/lib/python3.10/dist-packages (from requests->huggingface-hub->accelerate) (2.0.7)\n",
            "Requirement already satisfied: certifi>=2017.4.17 in /usr/local/lib/python3.10/dist-packages (from requests->huggingface-hub->accelerate) (2024.2.2)\n",
            "Requirement already satisfied: mpmath>=0.19 in /usr/local/lib/python3.10/dist-packages (from sympy->torch>=1.10.0->accelerate) (1.3.0)\n",
            "Installing collected packages: nvidia-nvtx-cu12, nvidia-nvjitlink-cu12, nvidia-nccl-cu12, nvidia-curand-cu12, nvidia-cufft-cu12, nvidia-cuda-runtime-cu12, nvidia-cuda-nvrtc-cu12, nvidia-cuda-cupti-cu12, nvidia-cublas-cu12, nvidia-cusparse-cu12, nvidia-cudnn-cu12, nvidia-cusolver-cu12, accelerate\n",
            "Successfully installed accelerate-0.29.3 nvidia-cublas-cu12-12.1.3.1 nvidia-cuda-cupti-cu12-12.1.105 nvidia-cuda-nvrtc-cu12-12.1.105 nvidia-cuda-runtime-cu12-12.1.105 nvidia-cudnn-cu12-8.9.2.26 nvidia-cufft-cu12-11.0.2.54 nvidia-curand-cu12-10.3.2.106 nvidia-cusolver-cu12-11.4.5.107 nvidia-cusparse-cu12-12.1.0.106 nvidia-nccl-cu12-2.19.3 nvidia-nvjitlink-cu12-12.4.127 nvidia-nvtx-cu12-12.1.105\n"
          ]
        }
      ]
    },
    {
      "cell_type": "code",
      "source": [
        "pip install transformers[torch] -U"
      ],
      "metadata": {
        "colab": {
          "base_uri": "https://localhost:8080/"
        },
        "id": "dcJjL_aFVrrs",
        "outputId": "84e3a1a7-32f2-48b6-ff5b-6ea33cb809c1"
      },
      "execution_count": null,
      "outputs": [
        {
          "output_type": "stream",
          "name": "stdout",
          "text": [
            "Requirement already satisfied: transformers[torch] in /usr/local/lib/python3.10/dist-packages (4.40.0)\n",
            "Collecting transformers[torch]\n",
            "  Downloading transformers-4.40.1-py3-none-any.whl (9.0 MB)\n",
            "\u001b[2K     \u001b[90m━━━━━━━━━━━━━━━━━━━━━━━━━━━━━━━━━━━━━━━━\u001b[0m \u001b[32m9.0/9.0 MB\u001b[0m \u001b[31m17.4 MB/s\u001b[0m eta \u001b[36m0:00:00\u001b[0m\n",
            "\u001b[?25hRequirement already satisfied: filelock in /usr/local/lib/python3.10/dist-packages (from transformers[torch]) (3.13.4)\n",
            "Requirement already satisfied: huggingface-hub<1.0,>=0.19.3 in /usr/local/lib/python3.10/dist-packages (from transformers[torch]) (0.22.2)\n",
            "Requirement already satisfied: numpy>=1.17 in /usr/local/lib/python3.10/dist-packages (from transformers[torch]) (1.25.2)\n",
            "Requirement already satisfied: packaging>=20.0 in /usr/local/lib/python3.10/dist-packages (from transformers[torch]) (24.0)\n",
            "Requirement already satisfied: pyyaml>=5.1 in /usr/local/lib/python3.10/dist-packages (from transformers[torch]) (6.0.1)\n",
            "Requirement already satisfied: regex!=2019.12.17 in /usr/local/lib/python3.10/dist-packages (from transformers[torch]) (2023.12.25)\n",
            "Requirement already satisfied: requests in /usr/local/lib/python3.10/dist-packages (from transformers[torch]) (2.31.0)\n",
            "Requirement already satisfied: tokenizers<0.20,>=0.19 in /usr/local/lib/python3.10/dist-packages (from transformers[torch]) (0.19.1)\n",
            "Requirement already satisfied: safetensors>=0.4.1 in /usr/local/lib/python3.10/dist-packages (from transformers[torch]) (0.4.3)\n",
            "Requirement already satisfied: tqdm>=4.27 in /usr/local/lib/python3.10/dist-packages (from transformers[torch]) (4.66.2)\n",
            "Requirement already satisfied: torch in /usr/local/lib/python3.10/dist-packages (from transformers[torch]) (2.2.1+cu121)\n",
            "Requirement already satisfied: accelerate>=0.21.0 in /usr/local/lib/python3.10/dist-packages (from transformers[torch]) (0.29.3)\n",
            "Requirement already satisfied: psutil in /usr/local/lib/python3.10/dist-packages (from accelerate>=0.21.0->transformers[torch]) (5.9.5)\n",
            "Requirement already satisfied: fsspec>=2023.5.0 in /usr/local/lib/python3.10/dist-packages (from huggingface-hub<1.0,>=0.19.3->transformers[torch]) (2023.6.0)\n",
            "Requirement already satisfied: typing-extensions>=3.7.4.3 in /usr/local/lib/python3.10/dist-packages (from huggingface-hub<1.0,>=0.19.3->transformers[torch]) (4.11.0)\n",
            "Requirement already satisfied: sympy in /usr/local/lib/python3.10/dist-packages (from torch->transformers[torch]) (1.12)\n",
            "Requirement already satisfied: networkx in /usr/local/lib/python3.10/dist-packages (from torch->transformers[torch]) (3.3)\n",
            "Requirement already satisfied: jinja2 in /usr/local/lib/python3.10/dist-packages (from torch->transformers[torch]) (3.1.3)\n",
            "Requirement already satisfied: nvidia-cuda-nvrtc-cu12==12.1.105 in /usr/local/lib/python3.10/dist-packages (from torch->transformers[torch]) (12.1.105)\n",
            "Requirement already satisfied: nvidia-cuda-runtime-cu12==12.1.105 in /usr/local/lib/python3.10/dist-packages (from torch->transformers[torch]) (12.1.105)\n",
            "Requirement already satisfied: nvidia-cuda-cupti-cu12==12.1.105 in /usr/local/lib/python3.10/dist-packages (from torch->transformers[torch]) (12.1.105)\n",
            "Requirement already satisfied: nvidia-cudnn-cu12==8.9.2.26 in /usr/local/lib/python3.10/dist-packages (from torch->transformers[torch]) (8.9.2.26)\n",
            "Requirement already satisfied: nvidia-cublas-cu12==12.1.3.1 in /usr/local/lib/python3.10/dist-packages (from torch->transformers[torch]) (12.1.3.1)\n",
            "Requirement already satisfied: nvidia-cufft-cu12==11.0.2.54 in /usr/local/lib/python3.10/dist-packages (from torch->transformers[torch]) (11.0.2.54)\n",
            "Requirement already satisfied: nvidia-curand-cu12==10.3.2.106 in /usr/local/lib/python3.10/dist-packages (from torch->transformers[torch]) (10.3.2.106)\n",
            "Requirement already satisfied: nvidia-cusolver-cu12==11.4.5.107 in /usr/local/lib/python3.10/dist-packages (from torch->transformers[torch]) (11.4.5.107)\n",
            "Requirement already satisfied: nvidia-cusparse-cu12==12.1.0.106 in /usr/local/lib/python3.10/dist-packages (from torch->transformers[torch]) (12.1.0.106)\n",
            "Requirement already satisfied: nvidia-nccl-cu12==2.19.3 in /usr/local/lib/python3.10/dist-packages (from torch->transformers[torch]) (2.19.3)\n",
            "Requirement already satisfied: nvidia-nvtx-cu12==12.1.105 in /usr/local/lib/python3.10/dist-packages (from torch->transformers[torch]) (12.1.105)\n",
            "Requirement already satisfied: triton==2.2.0 in /usr/local/lib/python3.10/dist-packages (from torch->transformers[torch]) (2.2.0)\n",
            "Requirement already satisfied: nvidia-nvjitlink-cu12 in /usr/local/lib/python3.10/dist-packages (from nvidia-cusolver-cu12==11.4.5.107->torch->transformers[torch]) (12.4.127)\n",
            "Requirement already satisfied: charset-normalizer<4,>=2 in /usr/local/lib/python3.10/dist-packages (from requests->transformers[torch]) (3.3.2)\n",
            "Requirement already satisfied: idna<4,>=2.5 in /usr/local/lib/python3.10/dist-packages (from requests->transformers[torch]) (3.7)\n",
            "Requirement already satisfied: urllib3<3,>=1.21.1 in /usr/local/lib/python3.10/dist-packages (from requests->transformers[torch]) (2.0.7)\n",
            "Requirement already satisfied: certifi>=2017.4.17 in /usr/local/lib/python3.10/dist-packages (from requests->transformers[torch]) (2024.2.2)\n",
            "Requirement already satisfied: MarkupSafe>=2.0 in /usr/local/lib/python3.10/dist-packages (from jinja2->torch->transformers[torch]) (2.1.5)\n",
            "Requirement already satisfied: mpmath>=0.19 in /usr/local/lib/python3.10/dist-packages (from sympy->torch->transformers[torch]) (1.3.0)\n",
            "Installing collected packages: transformers\n",
            "  Attempting uninstall: transformers\n",
            "    Found existing installation: transformers 4.40.0\n",
            "    Uninstalling transformers-4.40.0:\n",
            "      Successfully uninstalled transformers-4.40.0\n",
            "Successfully installed transformers-4.40.1\n"
          ]
        }
      ]
    },
    {
      "cell_type": "code",
      "source": [
        "from transformers import BartTokenizer, BartForConditionalGeneration, Trainer, TrainingArguments\n",
        "from datasets import load_dataset\n",
        "\n",
        "# Step 1: Load your dataset\n",
        "dataset = load_dataset('RohithJ/cleaned_dataset_prvy_plcy')  # Replace with your actual dataset name\n",
        "\n",
        "# Step 2: Preprocess the data\n",
        "model_name = 'facebook/bart-large-cnn'  # BART model pre-trained for summarization\n",
        "tokenizer = BartTokenizer.from_pretrained(model_name)\n",
        "\n",
        "def preprocess_function(examples):\n",
        "    # Tokenize the inputs and labels\n",
        "    inputs = tokenizer(examples['Content'], max_length=1024, truncation=True, padding=\"max_length\", return_tensors=\"pt\")\n",
        "    outputs = tokenizer(examples['Summary_of_Content'], max_length=128, truncation=True, padding=\"max_length\", return_tensors=\"pt\")\n",
        "\n",
        "    # inputs and outputs now include padding and are truncated\n",
        "    return {\"input_ids\": inputs['input_ids'], \"attention_mask\": inputs['attention_mask'], \"labels\": outputs['input_ids']}\n",
        "\n",
        "\n",
        "tokenized_datasets = dataset.map(preprocess_function, batched=True)\n",
        "\n",
        "# Step 3: Define the model\n",
        "model = BartForConditionalGeneration.from_pretrained(model_name)\n",
        "\n",
        "# Step 4: Define training arguments\n",
        "training_args = TrainingArguments(\n",
        "    output_dir='./results',          # Output directory\n",
        "    evaluation_strategy=\"epoch\",     # Evaluation each epoch\n",
        "    learning_rate=2e-5,              # Learning rate\n",
        "    per_device_train_batch_size=4,   # Batch size for training\n",
        "    per_device_eval_batch_size=4,    # Batch size for evaluation\n",
        "    weight_decay=0.01,               # Strength of weight decay\n",
        "    save_total_limit=3,              # Only last 3 models are saved\n",
        "    num_train_epochs=3              # Number of training epochs\n",
        ")\n",
        "\n",
        "# Initialize the Trainer with generation settings for evaluation\n",
        "trainer = Trainer(\n",
        "    model=model,\n",
        "    args=training_args,\n",
        "    train_dataset=tokenized_datasets['train'],\n",
        "    eval_dataset=tokenized_datasets['validation'],\n",
        ")\n",
        "\n",
        "# Step 6: Train the model\n",
        "trainer.train()\n",
        "\n"
      ],
      "metadata": {
        "colab": {
          "base_uri": "https://localhost:8080/",
          "height": 319,
          "referenced_widgets": [
            "e202af1c1b434c0a959ccef67be88bd4",
            "86130dc26adf4f52acffccc75dd8275a",
            "04df752c081a494790b4d49e77b693bf",
            "8ee6bea2a8ac4ae9abe7e97c54278759",
            "57bbd08324f24611b15e6427219647f8",
            "a87840de76694dbd9a3fc96c33591d07",
            "a98c57a672f24f3e8e1efa074d3c00e8",
            "2cb43d9a7fcd4a99b94ef842202b8105",
            "3f7aaa24cdd64a21a58816de60298f30",
            "562a5788d12242e1949179f6c91d1222",
            "2051ba3646b64cc7828b4b67a7c8c73b",
            "02973668ab89449ba2fecd3eb7ebe04e",
            "3adcb4d0e9e04323843f157bdecfdef5",
            "f8383529287f41558381318a24ef45e0",
            "1dc2e36dba794c27b68adc4cd4bee4ba",
            "f79e93f070d544ee88810dd4393a213a",
            "c07d8fc613fb494e80e75335f009fab2",
            "fcf264ffb16e46a39ad08e29ed17cdd7",
            "185dcf45c8564628a51304810989caae",
            "939027e6a05a48d68f39471bf9f45558",
            "907d491a28e24377b57cce1888fd194b",
            "92dbed719c2f446bae058174b8d0e774",
            "e8ef4ccf31544051be540b7877b28c63",
            "69c53fbfb33049b28a179a68eda59cb2",
            "0b75564fcfd4446686cfee4a262987d9",
            "11dcff9cedf84fbb86b87598e5b5abb1",
            "bd46d074763f4b0bae15d042c90b3843",
            "bd276d577d65445386591842789ef06f",
            "c846c1ad9e354f36a67c5787643e2316",
            "d31a918fa3fc48baaa3b12fe46a69b66",
            "829fd462c61248ae908dc8dbeaa9aadd",
            "e2c5217d058e4373a226807088dc7878",
            "0a90bb603fb443c9aec9c3d49f20a0cc"
          ]
        },
        "id": "qJE66EklVERh",
        "outputId": "d83e75dc-3d6c-42d6-d948-b983fc304928"
      },
      "execution_count": null,
      "outputs": [
        {
          "output_type": "display_data",
          "data": {
            "text/plain": [
              "Map:   0%|          | 0/51 [00:00<?, ? examples/s]"
            ],
            "application/vnd.jupyter.widget-view+json": {
              "version_major": 2,
              "version_minor": 0,
              "model_id": "e202af1c1b434c0a959ccef67be88bd4"
            }
          },
          "metadata": {}
        },
        {
          "output_type": "display_data",
          "data": {
            "text/plain": [
              "Map:   0%|          | 0/6 [00:00<?, ? examples/s]"
            ],
            "application/vnd.jupyter.widget-view+json": {
              "version_major": 2,
              "version_minor": 0,
              "model_id": "02973668ab89449ba2fecd3eb7ebe04e"
            }
          },
          "metadata": {}
        },
        {
          "output_type": "display_data",
          "data": {
            "text/plain": [
              "Map:   0%|          | 0/7 [00:00<?, ? examples/s]"
            ],
            "application/vnd.jupyter.widget-view+json": {
              "version_major": 2,
              "version_minor": 0,
              "model_id": "e8ef4ccf31544051be540b7877b28c63"
            }
          },
          "metadata": {}
        },
        {
          "output_type": "display_data",
          "data": {
            "text/plain": [
              "<IPython.core.display.HTML object>"
            ],
            "text/html": [
              "\n",
              "    <div>\n",
              "      \n",
              "      <progress value='39' max='39' style='width:300px; height:20px; vertical-align: middle;'></progress>\n",
              "      [39/39 01:12, Epoch 3/3]\n",
              "    </div>\n",
              "    <table border=\"1\" class=\"dataframe\">\n",
              "  <thead>\n",
              " <tr style=\"text-align: left;\">\n",
              "      <th>Epoch</th>\n",
              "      <th>Training Loss</th>\n",
              "      <th>Validation Loss</th>\n",
              "    </tr>\n",
              "  </thead>\n",
              "  <tbody>\n",
              "    <tr>\n",
              "      <td>1</td>\n",
              "      <td>No log</td>\n",
              "      <td>2.329527</td>\n",
              "    </tr>\n",
              "    <tr>\n",
              "      <td>2</td>\n",
              "      <td>No log</td>\n",
              "      <td>2.027047</td>\n",
              "    </tr>\n",
              "    <tr>\n",
              "      <td>3</td>\n",
              "      <td>No log</td>\n",
              "      <td>1.888458</td>\n",
              "    </tr>\n",
              "  </tbody>\n",
              "</table><p>"
            ]
          },
          "metadata": {}
        },
        {
          "output_type": "execute_result",
          "data": {
            "text/plain": [
              "TrainOutput(global_step=39, training_loss=1.844606448442508, metrics={'train_runtime': 75.3347, 'train_samples_per_second': 2.031, 'train_steps_per_second': 0.518, 'total_flos': 331567004123136.0, 'train_loss': 1.844606448442508, 'epoch': 3.0})"
            ]
          },
          "metadata": {},
          "execution_count": 8
        }
      ]
    },
    {
      "cell_type": "code",
      "source": [
        "model.save_pretrained('/content/drive/MyDrive/trained_model')\n",
        "tokenizer.save_pretrained('/content/drive/MyDrive/trained_model')"
      ],
      "metadata": {
        "id": "WqTeq1veYLkJ",
        "colab": {
          "base_uri": "https://localhost:8080/"
        },
        "outputId": "c79de626-d81e-461b-d761-a0450b48501d"
      },
      "execution_count": 10,
      "outputs": [
        {
          "output_type": "stream",
          "name": "stderr",
          "text": [
            "Some non-default generation parameters are set in the model config. These should go into a GenerationConfig file (https://huggingface.co/docs/transformers/generation_strategies#save-a-custom-decoding-strategy-with-your-model) instead. This warning will be raised to an exception in v4.41.\n",
            "Non-default generation parameters: {'max_length': 142, 'min_length': 56, 'early_stopping': True, 'num_beams': 4, 'length_penalty': 2.0, 'no_repeat_ngram_size': 3, 'forced_bos_token_id': 0, 'forced_eos_token_id': 2}\n"
          ]
        },
        {
          "output_type": "execute_result",
          "data": {
            "text/plain": [
              "('/content/drive/MyDrive/trained_model/tokenizer_config.json',\n",
              " '/content/drive/MyDrive/trained_model/special_tokens_map.json',\n",
              " '/content/drive/MyDrive/trained_model/vocab.json',\n",
              " '/content/drive/MyDrive/trained_model/merges.txt',\n",
              " '/content/drive/MyDrive/trained_model/added_tokens.json')"
            ]
          },
          "metadata": {},
          "execution_count": 10
        }
      ]
    },
    {
      "cell_type": "code",
      "source": [
        "from transformers import BartTokenizer, BartForConditionalGeneration\n",
        "\n",
        "# Load the model and tokenizer\n",
        "model_path = '/content/drive/MyDrive/trained_model'  # Adjust the path if necessary\n",
        "model = BartForConditionalGeneration.from_pretrained(model_path)\n",
        "tokenizer = BartTokenizer.from_pretrained(model_path)\n"
      ],
      "metadata": {
        "id": "LNOTsl6WXy1Y"
      },
      "execution_count": 11,
      "outputs": []
    },
    {
      "cell_type": "code",
      "source": [
        "def summarize(text):\n",
        "    # Encode the text into tensor of token ids\n",
        "    inputs = tokenizer.encode(\"summarize: \" + text, return_tensors=\"pt\", max_length=1024, truncation=True)\n",
        "\n",
        "    # Generate summary with the model\n",
        "    summary_ids = model.generate(inputs, max_length=3000, min_length=200, length_penalty=2.0, num_beams=4, early_stopping=True)\n",
        "\n",
        "    # Decode the summary\n",
        "    summary = tokenizer.decode(summary_ids[0], skip_special_tokens=True)\n",
        "\n",
        "    return summary\n"
      ],
      "metadata": {
        "id": "Esx2mWzXZbD4"
      },
      "execution_count": 19,
      "outputs": []
    },
    {
      "cell_type": "code",
      "source": [
        "pip install pdfplumber\n"
      ],
      "metadata": {
        "colab": {
          "base_uri": "https://localhost:8080/"
        },
        "id": "lAR4Ul0faQrd",
        "outputId": "37adb3a4-7a1a-489e-9606-eda4ac202a24"
      },
      "execution_count": 14,
      "outputs": [
        {
          "output_type": "stream",
          "name": "stdout",
          "text": [
            "Collecting pdfplumber\n",
            "  Downloading pdfplumber-0.11.0-py3-none-any.whl (56 kB)\n",
            "\u001b[?25l     \u001b[90m━━━━━━━━━━━━━━━━━━━━━━━━━━━━━━━━━━━━━━━━\u001b[0m \u001b[32m0.0/56.4 kB\u001b[0m \u001b[31m?\u001b[0m eta \u001b[36m-:--:--\u001b[0m\r\u001b[2K     \u001b[91m━━━━━━━━━━━━━━━━━━━━━━━━━━━━━━━━━━━━\u001b[0m\u001b[90m╺\u001b[0m\u001b[90m━━━\u001b[0m \u001b[32m51.2/56.4 kB\u001b[0m \u001b[31m5.0 MB/s\u001b[0m eta \u001b[36m0:00:01\u001b[0m\r\u001b[2K     \u001b[90m━━━━━━━━━━━━━━━━━━━━━━━━━━━━━━━━━━━━━━━━\u001b[0m \u001b[32m56.4/56.4 kB\u001b[0m \u001b[31m1.1 MB/s\u001b[0m eta \u001b[36m0:00:00\u001b[0m\n",
            "\u001b[?25hCollecting pdfminer.six==20231228 (from pdfplumber)\n",
            "  Downloading pdfminer.six-20231228-py3-none-any.whl (5.6 MB)\n",
            "\u001b[2K     \u001b[90m━━━━━━━━━━━━━━━━━━━━━━━━━━━━━━━━━━━━━━━━\u001b[0m \u001b[32m5.6/5.6 MB\u001b[0m \u001b[31m32.8 MB/s\u001b[0m eta \u001b[36m0:00:00\u001b[0m\n",
            "\u001b[?25hRequirement already satisfied: Pillow>=9.1 in /usr/local/lib/python3.10/dist-packages (from pdfplumber) (9.4.0)\n",
            "Collecting pypdfium2>=4.18.0 (from pdfplumber)\n",
            "  Downloading pypdfium2-4.29.0-py3-none-manylinux_2_17_x86_64.manylinux2014_x86_64.whl (2.8 MB)\n",
            "\u001b[2K     \u001b[90m━━━━━━━━━━━━━━━━━━━━━━━━━━━━━━━━━━━━━━━━\u001b[0m \u001b[32m2.8/2.8 MB\u001b[0m \u001b[31m52.7 MB/s\u001b[0m eta \u001b[36m0:00:00\u001b[0m\n",
            "\u001b[?25hRequirement already satisfied: charset-normalizer>=2.0.0 in /usr/local/lib/python3.10/dist-packages (from pdfminer.six==20231228->pdfplumber) (3.3.2)\n",
            "Requirement already satisfied: cryptography>=36.0.0 in /usr/local/lib/python3.10/dist-packages (from pdfminer.six==20231228->pdfplumber) (42.0.5)\n",
            "Requirement already satisfied: cffi>=1.12 in /usr/local/lib/python3.10/dist-packages (from cryptography>=36.0.0->pdfminer.six==20231228->pdfplumber) (1.16.0)\n",
            "Requirement already satisfied: pycparser in /usr/local/lib/python3.10/dist-packages (from cffi>=1.12->cryptography>=36.0.0->pdfminer.six==20231228->pdfplumber) (2.22)\n",
            "Installing collected packages: pypdfium2, pdfminer.six, pdfplumber\n",
            "Successfully installed pdfminer.six-20231228 pdfplumber-0.11.0 pypdfium2-4.29.0\n"
          ]
        }
      ]
    },
    {
      "cell_type": "code",
      "source": [
        "import pdfplumber\n",
        "import re\n",
        "\n",
        "def clean_text(text):\n",
        "    # Replace double spaces with single spaces\n",
        "    text = re.sub(r'\\s+', ' ', text)\n",
        "    # Replace double quotes with single quotes\n",
        "    text = re.sub(r'\\\"+', '\"', text)\n",
        "    return text\n",
        "\n",
        "def extract_text_from_pdf(pdf_path):\n",
        "    all_text = ''\n",
        "    with pdfplumber.open(pdf_path) as pdf:\n",
        "        for page in pdf.pages:\n",
        "            text = page.extract_text()\n",
        "            if text:  # Ensure there's text on the page\n",
        "                all_text += text + ' '  # Add a space between texts from different pages\n",
        "\n",
        "    cleaned_text = clean_text(all_text)\n",
        "    return cleaned_text\n",
        "\n",
        "# Example usage\n",
        "pdf_path = '/content/drive/MyDrive/Privacy_Policy_Pfizer.pdf'\n",
        "only_text = extract_text_from_pdf(pdf_path)\n",
        "print(only_text)\n"
      ],
      "metadata": {
        "colab": {
          "base_uri": "https://localhost:8080/"
        },
        "id": "3vv-3I6taRst",
        "outputId": "48da2cec-5492-4c76-f287-6bc9255bb93a"
      },
      "execution_count": 15,
      "outputs": [
        {
          "output_type": "stream",
          "name": "stdout",
          "text": [
            "Pfizer Privacy Policy U.S. Effective August 23rd, 2023 This Privacy Policy describes the information that we collect about you on the website from which you linked (“Site”); how we use that information; how we protect it; and the choices you may make with respect to it. Except as specifically provided below in the Additional State Disclosures Section, this Privacy Policy does not apply to any other information collected by Pfizer by or through any other means, such as information collected offline. When we refer to ourselves as “we\" or \"Pfizer,\" we mean Pfizer Inc. and all of its subsidiary companies. Our Site may contain links to third party websites/content/services that are not owned or controlled by Pfizer. Pfizer is not responsible for how these properties operate or treat your personal data so we recommend that you read the privacy policies and terms associated with these third party properties carefully. California Residents: This Privacy Policy describes how we collect, use, disclose, and retain your personal information. For additional information relating to your rights and our processing of your personal information collected both online and offline, please navigate to the Additional State Disclosures Section below. Our Privacy Policy is organized in the following sections. CONTENTS DATA WE COLLECT AND USE ............................................................................................................ 1 HOW WE USE PERSONAL DATA ........................................................................................................ 2 HOW WE DISCLOSE YOUR PERSONAL DATA ................................................................................. 4 ADDITIONAL STATE DISCLOSURES .................................................................................................. 5 COOKIES AND OTHER TOOLS ........................................................................................................... 9 SECURITY POLICIES ......................................................................................................................... 10 YOUR PRIVACY CHOICES AND UPDATES...................................................................................... 11 RETENTION PERIOD .......................................................................................................................... 11 CROSS BORDER TRANSFERS ......................................................................................................... 11 CHILDREN’S PRIVACY ....................................................................................................................... 11 CONTACT US ..................................................................................................................................... 12 UPDATES TO OUR PRIVACY POLICY .............................................................................................. 12 DATA WE COLLECT AND USE We collect information about you directly from you, automatically through your use of our Site, and from third parties. 1 Information We Collect Directly From You. We collect personal data you choose to provide, e.g., through registrations, applications and surveys, and in connection with your inquiries and purchases. For example, you may choose to provide your name, contact information, health, insurance and/or financial information in connection with a promotion or a patient assistance or support program. Healthcare providers may choose to provide information relating to their specialties and professional affiliations. Information We Collect Automatically. We and our third party business partners, including analytics and advertising partners, automatically collect information when you use our Site through cookies, pixel tags, clear GIFs, or similar technologies, such as your browser type and operating system, web pages you view, your interactions with content or webpages on the Site, links you click, your IP address or other identifiers, the length of time you visit our Site, the referring URL or webpage that led you to our Site, the information, content, or advertisements you view, hover over, or click on, and the search terms you enter. Our third party business partners may use these technologies to collect information about your online activities over time and across different websites and services. See also, the Section below on Cookies and Other Tools. Information We Collect From Other Sources. From time to time, we may use or augment the personal data we have about you with information obtained from other sources, such as public databases, social media platforms and other third parties. For example, we may use such third party information to confirm contact or financial information, to verify licensure of healthcare professionals or to better understand your interests by associating demographic information with the information you have provided. If you submit any personal data relating to other people to us, you represent that you have the authority to do so and to permit us to use the information in accordance with this Privacy Policy. HOW WE USE PERSONAL DATA We may use your personal data in the following ways for our business purposes: To Serve You We use your personal data to: • Operate our business; • Deliver our products and services; • Process, complete and fulfill your requested transactions; • Provide customer service and respond to requests or inquiries; • Communicate with you; • Tailor our marketing programs and campaigns; and • Provide you with newsletters, articles, alerts, announcements, invitations, and other information about products, brands, health topics and disease states. To Connect You with Third Parties We may provide functionality on the Site that will allow you to forward and share certain content with a friend or colleague. If you choose to use Pfizer sharing functionality to refer someone to our content, products or services, we will use your data and that of the individual you are sharing with to send the content or link you request. In addition, we may offer access to third party sharing functionality, such as third party social media widgets/tools/buttons. If you use that functionality, your use is subject to the third party’s privacy policy and terms. As with all links to non-Pfizer websites/content/services, we recommend that you read the privacy policies and terms associated with third party properties carefully. To Validate Your Ability to Access/Use Certain Products, Services and Information Some products, services and information we offer may only be suitable for/accessible to individuals meeting certain eligibility or other criteria. In such cases, we may verify that you meet such criteria. For example, certain information relating to our products is only intended for and accessible to licensed healthcare professionals and we may use information we collect directly from you and from outside sources to validate your licensure and eligibility to view such information. In Accordance with Special Program Terms On occasion, Pfizer may offer special programs, activities, events or promotions via the Site (“Special Programs”) that have specific terms, privacy notices and/or consent forms that explain how any personal data you provide will be processed in connection with the Special Program. We strongly suggest you review the terms applicable to the Special Program before participating. To Improve Products and Services and Protect Patients and Consumers We use the information you provide for data analysis, to better understand how our products and services impact you and those you care for, to track and respond to concerns, for fraud prevention and to further develop and improve our products and services. In addition, we use the information you provide to comply with our regulatory monitoring and reporting obligations including those related to adverse events, product complaints and patient safety. For Advertising and Analytics Purposes We and our third party business partners, including analytics and advertising partners, may use your personal data to communicate with you about new features, events, or products that may be of interest to you, including based on your interactions with the Site where you instruct us to do so, such as when you grant permission to use cookies associated with these purposes. Our third party business partners may also use your personal data to analyze and track your interactions and movements around the Site and elsewhere on the internet for our and their own purposes. We and our third party business partners may merge, co-mingle, or otherwise combine information, including your personal data, in furtherance of these purposes. To learn more, refer to the Cookies and Other Tools Section below. In Aggregated or De-identified Form We may aggregate and/or de-identify data about visitors to our Site and use it for any purpose, including product and service development and improvement activities. To the extent we deidentify any data originally based on personal information, we will maintain and use such data only in deidentified form and will not attempt to reidentify the data. HOW WE DISCLOSE YOUR PERSONAL DATA Pfizer may disclose your personal data for our business purposes as follows: Within Our Family of Companies Pfizer Inc. and its subsidiary companies may disclose your personal data amongst and between each other for the purposes set forth in this Privacy Policy. In Connection with Business Transfers If we sell or transfer a business unit (such as a subsidiary) or an asset (such as a website) to another company (including in connection with any bankruptcy or similar proceedings), we will disclose your personal data to such company and will require such company to use and protect your personal data consistent with this Privacy Policy. We may also disclose your personal data to companies that were formerly wholly or partly included in the Pfizer family of companies to whom we provide services during a transition period following separation. With Providers We may retain other companies and individuals to perform services on our behalf and we may collaborate with other companies and individuals with respect to particular products or services (collectively, “Providers”). These third parties may be provided with access to personal data, including through cookies, pixels, and similar technologies, to perform their functions. Examples of Providers include credit card processing companies, customer service and support providers, email and SMS vendors, advertising vendors, data analytics firms, web hosting and development companies and fulfillment companies. Providers also include our co-promote partners for products that we jointly develop and/or market with other companies. Some Providers may collect personal data on our behalf on our Site. To Comply with Law/Protect We reserve the right to disclose your personal data as required by law, when we believe disclosure is necessary or appropriate to comply with a regulatory requirement, judicial proceeding, court order, government request, or legal process served on us, or to protect the safety, rights, or property of our customers, the public, Pfizer or others. In the Aggregate/De-identified Pfizer may also disclose aggregate or de-identified data that is not personally identifiable to third parties for any purpose permitted under applicable law. Additional State Disclosures You may have certain rights regarding our processing of your personal data under applicable local state law, including, for example, if you are a consumer in California or Virginia. If our processing of your personal data is governed by such laws, the following provisions apply to our processing of your personal data, whether collected online or offline. These provisions supplement the other sections of the Privacy Policy. We do not “sell” or “share” for cross-contextual behavioral advertising (as those terms are defined under applicable local law) the categories of personal data described below. Instead, where we may use cookies for analytics purposes, for example, we do so at your instruction based on your permission to use cookies associated with this processing. We do not use or disclose sensitive personal data for purposes other than permitted under applicable local law. CATEGORIES OF PERSONAL DATA THAT WE COLLECT AND DISCLOSE As may be required under applicable local law, the chart below provides the categories of personal data that we: (1) collect and have collected in the preceding 12 months; and (2) disclose for a business purpose and have disclosed for a business purpose in the preceding 12 months. For more information about how we disclose your personal data, refer to the How We Disclose Your Personal Data Section above. CATEGORIES OF PERSONAL DATA WE DISCLOSED TO WHICH CATEGORIES OF COLLECT AND DISCLOSE THIRD PARTIES A. NAME, CONTACT INFORMATION AND IDENTIFIERS: Identifiers such as a real name, alias, postal address, unique personal identifier, Pfizer Inc.’s subsidiary companies; online identifier, Internet Protocol address, email Providers; professional advisors; public and address, account name, user name, social government entities security number, tax ID, driver’s license number, passport number, or other similar identifiers. B. CUSTOMER AND OTHER RECORDS: Paper and electronic customer records containing personal data, such as name, signature, physical characteristics or description, address, telephone Pfizer Inc.’s subsidiary companies; number, driver’s license or state identification card Providers; professional advisors; public and number, insurance policy number, education, government entities employment, employment history, bank account number, credit card number, debit card number, or any other financial information, medical information, or health insurance information CATEGORIES OF PERSONAL DATA WE DISCLOSED TO WHICH CATEGORIES OF COLLECT AND DISCLOSE THIRD PARTIES C. PROTECTED CLASSIFICATIONS: Characteristics of protected Pfizer Inc.’s subsidiary companies; classifications under applicable state or federal Providers; professional advisors; public and law such as race, color, sex, gender, age, national government entities origin, disability, and citizenship status. D. PURCHASE HISTORY AND Pfizer Inc.’s subsidiary companies; TENDENCIES: Commercial information, including Providers; professional advisors; public and records of products or services considered, government entities purchased or owned. E. BIOMETRIC INFORMATION: Physiological, biological or behavioral characteristics that can be used alone or in combination with each other to Pfizer Inc.’s subsidiary companies; establish individual identity, including DNA, Providers; professional advisors; public and fingerprint, diagnostic or lab results, imagery of the government entities face from which an identifier template can be extracted, and sleep, health, or exercise data that contain identifying information. F. USAGE DATA: Internet or other electronic network activity information, including, but not Pfizer Inc.’s subsidiary companies; limited to, browsing history, search history, and Providers; professional advisors; public and information regarding a resident’s interaction with government entities an internet website, application, or advertisement. G. GEOLOCATION DATA: Precise geographic Pfizer Inc.’s subsidiary companies; location information about a particular individual or Providers; professional advisors; public and device. government entities Pfizer Inc.’s subsidiary companies; H. AUDIO/VISUAL: Audio, electronic, or visual Providers; professional advisors; public and recordings, or similar information. government entities Pfizer Inc.’s subsidiary companies; I. EMPLOYMENT HISTORY: Professional or Providers; professional advisors; public and employment-related information. government entities CATEGORIES OF PERSONAL DATA WE DISCLOSED TO WHICH CATEGORIES OF COLLECT AND DISCLOSE THIRD PARTIES J. EDUCATION INFORMATION: Information that is not publicly available personally identifiable Pfizer Inc.’s subsidiary companies; information as defined in the federal Family Providers; professional advisors; public and Educational Rights and Privacy Act (20 U.S.C. government entities section 1232g, 34 C.F.R. Part 99). K. SENSITIVE INFORMATION: as defined under applicable local law, such as certain Pfizer Inc.’s subsidiary companies; characteristics of protected classifications, precise Providers; professional advisors; public and geolocation, account login credential and government entities passwords, health information, and financial information. L. PROFILES AND INFERENCES: Inferences drawn from any of the information identified above Pfizer Inc.’s subsidiary companies; to create a profile about a resident reflecting the Providers; professional advisors; public and resident’s preferences, characteristics, government entities psychological trends, predispositions, behavior, attitudes, intelligence, abilities, and aptitudes. As described in the Data We Collect And Use Section above, we collect this personal data directly from you, automatically through your use of our Site, and from other categories of sources: public databases; social media platforms; and other third parties, when they share the information with us. For example, we may use such third party information to confirm contact or financial information, to verify licensure of healthcare professionals, or to better understand your interests by associating demographic information with the information you have provided. Also as described above in the How We Use Personal Data Section, we may use this personal data to serve you; to connect you with third parties; to validate your ability to access and/or use certain products, services and information; to provide and improve products and services; to protect patients and consumers; in accordance with special program terms; to operate, manage, and maintain our business; to respond to your inquiries and fulfill your requests; to send administrative information to you; to send you certain marketing communications; to personalize certain experiences; and to facilitate social sharing or messages services when available. We may also use your personal data for our business purposes and objectives, including, data analysis; audits; developing new products; improving existing products; identifying usage trends; determining the effectiveness of promotional campaigns; preventing fraud; and expanding our business activities. Additionally, we may use this personal data to comply with applicable law, legal process, respond to requests from public and government authorities, and to protect our rights, operations, and enforce our terms of service. As described in the Retention Period Section below, we may retain your personal data for as long as needed or permitted in light of the purpose(s) for which it was obtained and as outlined in this Privacy Policy, depending on the length of our relationship with you, whether there is a legal obligation to which we are subject; or whether retention is advisable in light of our legal position. INDIVIDUAL RIGHTS Subject to certain exceptions and depending on where you live, you may have the right to make the following requests, at no charge: • Copy: You may request, up to twice every 12 months, a copy of the specific pieces of personal data that we have collected, used or disclosed about you in the prior 12 months and to have this delivered, free of charge, either (a) by mail or (b) electronically in a portable and, to the extent technically feasible, readily useable format that allows you to transmit this information to another entity without hindrance. • Correct: You may request correction of your personal data that we have collected about you if it is inaccurate or incomplete. • Delete: You may request deletion of your personal data that we have collected about you. • Know: You may request that we provide you certain information about how we have handled your personal data, including the: categories of personal data collected; o categories of sources of personal data; o business and/or commercial purposes for collecting your personal data; o categories of third parties/with whom we have disclosed or shared your personal data; o and categories of personal data that we have disclosed or shared with a third party for a o business purpose. You have the right to be free from unlawful discrimination for exercising your rights under applicable state law. Submitting Requests. You may submit requests to delete, correct, access a copy and/or know personal data we have collected about you by accessing our webform at www.pfizer.com/individualrights, or by contacting us at 833-991-1933 (toll free). You will be asked to provide certain personal information when submitting your request including your relationship with Pfizer, first and last name, email address, telephone number and postal address in order for us to determine if your information is in our systems. We will further verify and respond to your request consistent with applicable law, taking into account the type and sensitivity of the personal information subject to the request. We may need to request additional personal information from you, such as your date of birth or government identifier, in order to protect against fraudulent or spoofed requests. If you want to make a request as an authorized agent on behalf of an individual under applicable local law, you may use the submission methods noted above. As part of our verification process, we may request that you provide us with proof that you have been authorized by the individual on whose behalf you are making the request under applicable local law, which may include signed permission provided by such individual. Appeals. You may have a right to appeal a decision we make relating to requests to exercise your rights under applicable local law. To appeal a decision, please access our webform at www.pfizer.com/individualrights. Please contact us according to the Contact Us Section below, if you have any questions regarding this Section. COOKIES AND OTHER TOOLS Pfizer and its third party business partners, including analytics and advertising partners, collect information about you by using cookies, tracking pixels and other technologies (collectively, “Tools”) when you visit or interact with our Site, including where you direct us to do so through the cookie banner on the Site you are viewing. We use this information to better understand, customize and improve user experience with our websites, services and offerings as well as to manage our advertising and analytics purposes. For example, we use web analytics services that leverage these Tools to help us to understand how visitors engage with and navigate our Site, e.g., how and when pages in a site are visited and by how many visitors. We are also able to offer our visitors a more customized, relevant experience on our sites using these Tools by delivering content and functionality based on your preferences and interests. If we or our third party business partners have collected your personal data, e.g., through a registration or a request for certain materials, we may associate this personal data with information gathered through the Tools. This allows us to offer increased personalization and functionality on the Site. You can change your settings for these Tools, including opting out of their use for advertising, by visiting the preference center in the cookie banner of the Site you are viewing. If you have already closed the cookie banner, you may need to select the cookie icon on the site or click the “cookie preferences” link in the footer to access the preference center. Your web browser can also be set to allow you to control whether you will accept cookies, reject cookies, or to notify you each time a cookie is sent to your browser. If your browser is set to reject cookies, websites that are cookie-enabled will not recognize you when you return to the website, and some website functionality may be lost. The Help section of your browser may tell you how to prevent your browser from accepting cookies. To find out more about cookies, visit www.aboutcookies.org. Certain information is collected by most browsers or automatically through your device, such as your Media Access Control (MAC) address, computer type (Windows or Macintosh), screen resolution, operating system name and version, device manufacturer and model, language and Internet browser type and version. We use this information to ensure that the services function properly. Your IP address is a number that is automatically assigned to the computer that you are using by your Internet Service Provider. An IP address may be identified and logged automatically in our server log files whenever a user accesses the Site, along with the time of the visit and the pages visited. Collecting IP addresses is standard practice and is done automatically by many websites, applications and other services. We use IP addresses for purposes such as calculating usage levels, diagnosing server problems and administering the Site. We may also derive your approximate location from your IP address. We may use Google Analytics, which uses cookies and similar technologies to collect and analyze information about use of the Site and report on activities and trends. This service may also collect information regarding the use of other websites, apps and online resources. You can learn about Google’s practices by going to www.google.com/policies/privacy/partners/, and opt-out of them by downloading the Google Analytics opt-out browser add-on, available at https://tools.google.com/dlpage/gaoptout. We may use Flash Local Shared Objects (“Flash LSOs”) and other technologies to, among other things, collect and store information about your use of the Site. If you do not want Flash LSOs stored on your computer, you can adjust the settings of your Flash player to block Flash LSO storage using the tools contained in the Website Storage Settings Panel. You can also control Flash LSOs by going to the Global Storage Settings Panel and following the instructions (which may include instructions that explain, for example, how to delete existing Flash LSOs (referred to as “information” on the Macromedia site), how to prevent Flash LSOs from being placed on your computer without your being asked, and (for Flash Player 8 and later) how to block Flash LSOs that are not being delivered by the operator of the page you are on at the time). Please note that setting the Flash Player to restrict or limit acceptance of Flash LSOs may reduce or impede the functionality of some Flash applications, including those used in connection with the Site. SECURITY POLICIES We use technical, administrative and procedural measures designed to safeguard your personal data from unauthorized access or use. No such measure is ever 100% effective though, so we do not guarantee that your personal data will be secure from theft, loss, or unauthorized access or use, and we make no representation as to the reasonableness, efficacy, or appropriateness of the measures we use to safeguard such data. YOUR PRIVACY CHOICES AND UPDATES You may update your personal data and your preferences. Different programs and services may offer different phone numbers, links or preference managers that allow you to inform us of your updates and choices, including opting out of particular communications. These contact options are typically available on our Sites or in the emails or texts we send, but you may always contact our Privacy Officer for assistance at Privacy.Officer@pfizer.com if you have any difficulty finding these tools or otherwise updating your data or preferences. Please remember that limited communications may be necessary in order to complete your transaction or for you to participate in a particular program or service. RETENTION PERIOD We will retain your personal data for as long as needed or permitted in light of the purpose(s) for which it was obtained and as outlined in this Privacy Policy. The criteria used to determine our retention periods include: (i) the length of time we have an ongoing relationship with you and provide the Site to you; (ii) whether there is a legal obligation to which we are subject; or (iii) whether retention is advisable in light of our legal position (such as in regard to the enforcement of the Site Terms of Use, applicable statutes of limitations, litigation or regulatory investigations). CROSS BORDER TRANSFERS The Site is controlled and operated by us from the United States and is not intended to subject us to the laws or jurisdiction of any state, country or territory other than that of the United States. Any information you provide to Pfizer through use of the Site may be stored and processed, transferred between and accessed from the United States and other countries which may not guarantee the same level of protection of personal data as the one in which you reside. However, Pfizer will handle your personal data in accordance with this Privacy Policy regardless of where your personal data is stored/accessed. CHILDREN’S PRIVACY The Site is not directed to individuals under the age of thirteen (13), and we do not knowingly collect personal data from children under the age of 13. CONTACT US The company responsible for collection, use and disclosure of your personal data under this Privacy Policy is Pfizer Inc. If you would like to exercise any individual rights, please contact us by accessing our webform at www.pfizer.com/individualrights, or by contacting us at 833-991-1933 (toll free). We will respond to your request consistent with applicable law. If you have questions about this Privacy Policy, please contact us by emailing the Privacy Officer, or write to the following address: Pfizer Inc. Privacy Officer 66 Hudson Boulevard East New York, NY 10001 Privacy Officer UPDATES TO OUR PRIVACY POLICY From time to time, we may update this Privacy Policy. Any changes will be effective when we post the revised Privacy Policy. This Privacy Policy was last updated as of the effective date listed above. If the Privacy Policy changes in a way that significantly affects how we handle personal data, we will not use the personal data we previously gathered in the manner described in the new policy without providing notice and/or obtaining your consent, as appropriate. Minor changes to the policy may occur that will not significantly affect our use of personal data without notice or consent. We encourage you to periodically review this page for the latest information on our privacy practices. \n"
          ]
        }
      ]
    },
    {
      "cell_type": "code",
      "source": [],
      "metadata": {
        "id": "AR7kkSolamoQ"
      },
      "execution_count": null,
      "outputs": []
    },
    {
      "cell_type": "code",
      "source": [
        "# Example text\n",
        "text = only_text\n",
        "\n",
        "# Generate the summary\n",
        "summary = summarize(text)\n",
        "print(\"Summary:\", summary)\n",
        "print(only_text)\n"
      ],
      "metadata": {
        "id": "fXvnJrkOYK_q",
        "colab": {
          "base_uri": "https://localhost:8080/"
        },
        "outputId": "a4fb4ff2-22e8-4690-8ea1-2230fb61a222"
      },
      "execution_count": 20,
      "outputs": [
        {
          "output_type": "stream",
          "name": "stdout",
          "text": [
            "Summary: The Pfizer Privacy Policy U.S. is effective August 23, 2023. It outlines how Pfizer collects and uses personal data collected through its website, how it uses that information, and the choices made with respect to it. This Privacy Policy does not apply to information collected by Pfizer by or through other means, such as offline information collected through third-party websites or services. Data collected directly from users through registration, applications, surveys, and purchases, and from third parties such as healthcare providers, cookies, pixel tags, clear GIFs, or similar technologies, as well as browser type, operating system, browser settings, web pages viewed, interactions, interactions with content, interaction with webpages, links clicked, and other identifiers. Additionally, cookies and other tools are used to collect information about users' online activities over time and across different websites and services. Pfizer may augment personal data gathered from other sources, including public databases, social media platforms, and third parties, to confirm contact or financial information, verify licensure of healthcare professionals, or to better understand interests by associating demographic information with the information provided by users.\n",
            "Pfizer Privacy Policy U.S. Effective August 23rd, 2023 This Privacy Policy describes the information that we collect about you on the website from which you linked (“Site”); how we use that information; how we protect it; and the choices you may make with respect to it. Except as specifically provided below in the Additional State Disclosures Section, this Privacy Policy does not apply to any other information collected by Pfizer by or through any other means, such as information collected offline. When we refer to ourselves as “we\" or \"Pfizer,\" we mean Pfizer Inc. and all of its subsidiary companies. Our Site may contain links to third party websites/content/services that are not owned or controlled by Pfizer. Pfizer is not responsible for how these properties operate or treat your personal data so we recommend that you read the privacy policies and terms associated with these third party properties carefully. California Residents: This Privacy Policy describes how we collect, use, disclose, and retain your personal information. For additional information relating to your rights and our processing of your personal information collected both online and offline, please navigate to the Additional State Disclosures Section below. Our Privacy Policy is organized in the following sections. CONTENTS DATA WE COLLECT AND USE ............................................................................................................ 1 HOW WE USE PERSONAL DATA ........................................................................................................ 2 HOW WE DISCLOSE YOUR PERSONAL DATA ................................................................................. 4 ADDITIONAL STATE DISCLOSURES .................................................................................................. 5 COOKIES AND OTHER TOOLS ........................................................................................................... 9 SECURITY POLICIES ......................................................................................................................... 10 YOUR PRIVACY CHOICES AND UPDATES...................................................................................... 11 RETENTION PERIOD .......................................................................................................................... 11 CROSS BORDER TRANSFERS ......................................................................................................... 11 CHILDREN’S PRIVACY ....................................................................................................................... 11 CONTACT US ..................................................................................................................................... 12 UPDATES TO OUR PRIVACY POLICY .............................................................................................. 12 DATA WE COLLECT AND USE We collect information about you directly from you, automatically through your use of our Site, and from third parties. 1 Information We Collect Directly From You. We collect personal data you choose to provide, e.g., through registrations, applications and surveys, and in connection with your inquiries and purchases. For example, you may choose to provide your name, contact information, health, insurance and/or financial information in connection with a promotion or a patient assistance or support program. Healthcare providers may choose to provide information relating to their specialties and professional affiliations. Information We Collect Automatically. We and our third party business partners, including analytics and advertising partners, automatically collect information when you use our Site through cookies, pixel tags, clear GIFs, or similar technologies, such as your browser type and operating system, web pages you view, your interactions with content or webpages on the Site, links you click, your IP address or other identifiers, the length of time you visit our Site, the referring URL or webpage that led you to our Site, the information, content, or advertisements you view, hover over, or click on, and the search terms you enter. Our third party business partners may use these technologies to collect information about your online activities over time and across different websites and services. See also, the Section below on Cookies and Other Tools. Information We Collect From Other Sources. From time to time, we may use or augment the personal data we have about you with information obtained from other sources, such as public databases, social media platforms and other third parties. For example, we may use such third party information to confirm contact or financial information, to verify licensure of healthcare professionals or to better understand your interests by associating demographic information with the information you have provided. If you submit any personal data relating to other people to us, you represent that you have the authority to do so and to permit us to use the information in accordance with this Privacy Policy. HOW WE USE PERSONAL DATA We may use your personal data in the following ways for our business purposes: To Serve You We use your personal data to: • Operate our business; • Deliver our products and services; • Process, complete and fulfill your requested transactions; • Provide customer service and respond to requests or inquiries; • Communicate with you; • Tailor our marketing programs and campaigns; and • Provide you with newsletters, articles, alerts, announcements, invitations, and other information about products, brands, health topics and disease states. To Connect You with Third Parties We may provide functionality on the Site that will allow you to forward and share certain content with a friend or colleague. If you choose to use Pfizer sharing functionality to refer someone to our content, products or services, we will use your data and that of the individual you are sharing with to send the content or link you request. In addition, we may offer access to third party sharing functionality, such as third party social media widgets/tools/buttons. If you use that functionality, your use is subject to the third party’s privacy policy and terms. As with all links to non-Pfizer websites/content/services, we recommend that you read the privacy policies and terms associated with third party properties carefully. To Validate Your Ability to Access/Use Certain Products, Services and Information Some products, services and information we offer may only be suitable for/accessible to individuals meeting certain eligibility or other criteria. In such cases, we may verify that you meet such criteria. For example, certain information relating to our products is only intended for and accessible to licensed healthcare professionals and we may use information we collect directly from you and from outside sources to validate your licensure and eligibility to view such information. In Accordance with Special Program Terms On occasion, Pfizer may offer special programs, activities, events or promotions via the Site (“Special Programs”) that have specific terms, privacy notices and/or consent forms that explain how any personal data you provide will be processed in connection with the Special Program. We strongly suggest you review the terms applicable to the Special Program before participating. To Improve Products and Services and Protect Patients and Consumers We use the information you provide for data analysis, to better understand how our products and services impact you and those you care for, to track and respond to concerns, for fraud prevention and to further develop and improve our products and services. In addition, we use the information you provide to comply with our regulatory monitoring and reporting obligations including those related to adverse events, product complaints and patient safety. For Advertising and Analytics Purposes We and our third party business partners, including analytics and advertising partners, may use your personal data to communicate with you about new features, events, or products that may be of interest to you, including based on your interactions with the Site where you instruct us to do so, such as when you grant permission to use cookies associated with these purposes. Our third party business partners may also use your personal data to analyze and track your interactions and movements around the Site and elsewhere on the internet for our and their own purposes. We and our third party business partners may merge, co-mingle, or otherwise combine information, including your personal data, in furtherance of these purposes. To learn more, refer to the Cookies and Other Tools Section below. In Aggregated or De-identified Form We may aggregate and/or de-identify data about visitors to our Site and use it for any purpose, including product and service development and improvement activities. To the extent we deidentify any data originally based on personal information, we will maintain and use such data only in deidentified form and will not attempt to reidentify the data. HOW WE DISCLOSE YOUR PERSONAL DATA Pfizer may disclose your personal data for our business purposes as follows: Within Our Family of Companies Pfizer Inc. and its subsidiary companies may disclose your personal data amongst and between each other for the purposes set forth in this Privacy Policy. In Connection with Business Transfers If we sell or transfer a business unit (such as a subsidiary) or an asset (such as a website) to another company (including in connection with any bankruptcy or similar proceedings), we will disclose your personal data to such company and will require such company to use and protect your personal data consistent with this Privacy Policy. We may also disclose your personal data to companies that were formerly wholly or partly included in the Pfizer family of companies to whom we provide services during a transition period following separation. With Providers We may retain other companies and individuals to perform services on our behalf and we may collaborate with other companies and individuals with respect to particular products or services (collectively, “Providers”). These third parties may be provided with access to personal data, including through cookies, pixels, and similar technologies, to perform their functions. Examples of Providers include credit card processing companies, customer service and support providers, email and SMS vendors, advertising vendors, data analytics firms, web hosting and development companies and fulfillment companies. Providers also include our co-promote partners for products that we jointly develop and/or market with other companies. Some Providers may collect personal data on our behalf on our Site. To Comply with Law/Protect We reserve the right to disclose your personal data as required by law, when we believe disclosure is necessary or appropriate to comply with a regulatory requirement, judicial proceeding, court order, government request, or legal process served on us, or to protect the safety, rights, or property of our customers, the public, Pfizer or others. In the Aggregate/De-identified Pfizer may also disclose aggregate or de-identified data that is not personally identifiable to third parties for any purpose permitted under applicable law. Additional State Disclosures You may have certain rights regarding our processing of your personal data under applicable local state law, including, for example, if you are a consumer in California or Virginia. If our processing of your personal data is governed by such laws, the following provisions apply to our processing of your personal data, whether collected online or offline. These provisions supplement the other sections of the Privacy Policy. We do not “sell” or “share” for cross-contextual behavioral advertising (as those terms are defined under applicable local law) the categories of personal data described below. Instead, where we may use cookies for analytics purposes, for example, we do so at your instruction based on your permission to use cookies associated with this processing. We do not use or disclose sensitive personal data for purposes other than permitted under applicable local law. CATEGORIES OF PERSONAL DATA THAT WE COLLECT AND DISCLOSE As may be required under applicable local law, the chart below provides the categories of personal data that we: (1) collect and have collected in the preceding 12 months; and (2) disclose for a business purpose and have disclosed for a business purpose in the preceding 12 months. For more information about how we disclose your personal data, refer to the How We Disclose Your Personal Data Section above. CATEGORIES OF PERSONAL DATA WE DISCLOSED TO WHICH CATEGORIES OF COLLECT AND DISCLOSE THIRD PARTIES A. NAME, CONTACT INFORMATION AND IDENTIFIERS: Identifiers such as a real name, alias, postal address, unique personal identifier, Pfizer Inc.’s subsidiary companies; online identifier, Internet Protocol address, email Providers; professional advisors; public and address, account name, user name, social government entities security number, tax ID, driver’s license number, passport number, or other similar identifiers. B. CUSTOMER AND OTHER RECORDS: Paper and electronic customer records containing personal data, such as name, signature, physical characteristics or description, address, telephone Pfizer Inc.’s subsidiary companies; number, driver’s license or state identification card Providers; professional advisors; public and number, insurance policy number, education, government entities employment, employment history, bank account number, credit card number, debit card number, or any other financial information, medical information, or health insurance information CATEGORIES OF PERSONAL DATA WE DISCLOSED TO WHICH CATEGORIES OF COLLECT AND DISCLOSE THIRD PARTIES C. PROTECTED CLASSIFICATIONS: Characteristics of protected Pfizer Inc.’s subsidiary companies; classifications under applicable state or federal Providers; professional advisors; public and law such as race, color, sex, gender, age, national government entities origin, disability, and citizenship status. D. PURCHASE HISTORY AND Pfizer Inc.’s subsidiary companies; TENDENCIES: Commercial information, including Providers; professional advisors; public and records of products or services considered, government entities purchased or owned. E. BIOMETRIC INFORMATION: Physiological, biological or behavioral characteristics that can be used alone or in combination with each other to Pfizer Inc.’s subsidiary companies; establish individual identity, including DNA, Providers; professional advisors; public and fingerprint, diagnostic or lab results, imagery of the government entities face from which an identifier template can be extracted, and sleep, health, or exercise data that contain identifying information. F. USAGE DATA: Internet or other electronic network activity information, including, but not Pfizer Inc.’s subsidiary companies; limited to, browsing history, search history, and Providers; professional advisors; public and information regarding a resident’s interaction with government entities an internet website, application, or advertisement. G. GEOLOCATION DATA: Precise geographic Pfizer Inc.’s subsidiary companies; location information about a particular individual or Providers; professional advisors; public and device. government entities Pfizer Inc.’s subsidiary companies; H. AUDIO/VISUAL: Audio, electronic, or visual Providers; professional advisors; public and recordings, or similar information. government entities Pfizer Inc.’s subsidiary companies; I. EMPLOYMENT HISTORY: Professional or Providers; professional advisors; public and employment-related information. government entities CATEGORIES OF PERSONAL DATA WE DISCLOSED TO WHICH CATEGORIES OF COLLECT AND DISCLOSE THIRD PARTIES J. EDUCATION INFORMATION: Information that is not publicly available personally identifiable Pfizer Inc.’s subsidiary companies; information as defined in the federal Family Providers; professional advisors; public and Educational Rights and Privacy Act (20 U.S.C. government entities section 1232g, 34 C.F.R. Part 99). K. SENSITIVE INFORMATION: as defined under applicable local law, such as certain Pfizer Inc.’s subsidiary companies; characteristics of protected classifications, precise Providers; professional advisors; public and geolocation, account login credential and government entities passwords, health information, and financial information. L. PROFILES AND INFERENCES: Inferences drawn from any of the information identified above Pfizer Inc.’s subsidiary companies; to create a profile about a resident reflecting the Providers; professional advisors; public and resident’s preferences, characteristics, government entities psychological trends, predispositions, behavior, attitudes, intelligence, abilities, and aptitudes. As described in the Data We Collect And Use Section above, we collect this personal data directly from you, automatically through your use of our Site, and from other categories of sources: public databases; social media platforms; and other third parties, when they share the information with us. For example, we may use such third party information to confirm contact or financial information, to verify licensure of healthcare professionals, or to better understand your interests by associating demographic information with the information you have provided. Also as described above in the How We Use Personal Data Section, we may use this personal data to serve you; to connect you with third parties; to validate your ability to access and/or use certain products, services and information; to provide and improve products and services; to protect patients and consumers; in accordance with special program terms; to operate, manage, and maintain our business; to respond to your inquiries and fulfill your requests; to send administrative information to you; to send you certain marketing communications; to personalize certain experiences; and to facilitate social sharing or messages services when available. We may also use your personal data for our business purposes and objectives, including, data analysis; audits; developing new products; improving existing products; identifying usage trends; determining the effectiveness of promotional campaigns; preventing fraud; and expanding our business activities. Additionally, we may use this personal data to comply with applicable law, legal process, respond to requests from public and government authorities, and to protect our rights, operations, and enforce our terms of service. As described in the Retention Period Section below, we may retain your personal data for as long as needed or permitted in light of the purpose(s) for which it was obtained and as outlined in this Privacy Policy, depending on the length of our relationship with you, whether there is a legal obligation to which we are subject; or whether retention is advisable in light of our legal position. INDIVIDUAL RIGHTS Subject to certain exceptions and depending on where you live, you may have the right to make the following requests, at no charge: • Copy: You may request, up to twice every 12 months, a copy of the specific pieces of personal data that we have collected, used or disclosed about you in the prior 12 months and to have this delivered, free of charge, either (a) by mail or (b) electronically in a portable and, to the extent technically feasible, readily useable format that allows you to transmit this information to another entity without hindrance. • Correct: You may request correction of your personal data that we have collected about you if it is inaccurate or incomplete. • Delete: You may request deletion of your personal data that we have collected about you. • Know: You may request that we provide you certain information about how we have handled your personal data, including the: categories of personal data collected; o categories of sources of personal data; o business and/or commercial purposes for collecting your personal data; o categories of third parties/with whom we have disclosed or shared your personal data; o and categories of personal data that we have disclosed or shared with a third party for a o business purpose. You have the right to be free from unlawful discrimination for exercising your rights under applicable state law. Submitting Requests. You may submit requests to delete, correct, access a copy and/or know personal data we have collected about you by accessing our webform at www.pfizer.com/individualrights, or by contacting us at 833-991-1933 (toll free). You will be asked to provide certain personal information when submitting your request including your relationship with Pfizer, first and last name, email address, telephone number and postal address in order for us to determine if your information is in our systems. We will further verify and respond to your request consistent with applicable law, taking into account the type and sensitivity of the personal information subject to the request. We may need to request additional personal information from you, such as your date of birth or government identifier, in order to protect against fraudulent or spoofed requests. If you want to make a request as an authorized agent on behalf of an individual under applicable local law, you may use the submission methods noted above. As part of our verification process, we may request that you provide us with proof that you have been authorized by the individual on whose behalf you are making the request under applicable local law, which may include signed permission provided by such individual. Appeals. You may have a right to appeal a decision we make relating to requests to exercise your rights under applicable local law. To appeal a decision, please access our webform at www.pfizer.com/individualrights. Please contact us according to the Contact Us Section below, if you have any questions regarding this Section. COOKIES AND OTHER TOOLS Pfizer and its third party business partners, including analytics and advertising partners, collect information about you by using cookies, tracking pixels and other technologies (collectively, “Tools”) when you visit or interact with our Site, including where you direct us to do so through the cookie banner on the Site you are viewing. We use this information to better understand, customize and improve user experience with our websites, services and offerings as well as to manage our advertising and analytics purposes. For example, we use web analytics services that leverage these Tools to help us to understand how visitors engage with and navigate our Site, e.g., how and when pages in a site are visited and by how many visitors. We are also able to offer our visitors a more customized, relevant experience on our sites using these Tools by delivering content and functionality based on your preferences and interests. If we or our third party business partners have collected your personal data, e.g., through a registration or a request for certain materials, we may associate this personal data with information gathered through the Tools. This allows us to offer increased personalization and functionality on the Site. You can change your settings for these Tools, including opting out of their use for advertising, by visiting the preference center in the cookie banner of the Site you are viewing. If you have already closed the cookie banner, you may need to select the cookie icon on the site or click the “cookie preferences” link in the footer to access the preference center. Your web browser can also be set to allow you to control whether you will accept cookies, reject cookies, or to notify you each time a cookie is sent to your browser. If your browser is set to reject cookies, websites that are cookie-enabled will not recognize you when you return to the website, and some website functionality may be lost. The Help section of your browser may tell you how to prevent your browser from accepting cookies. To find out more about cookies, visit www.aboutcookies.org. Certain information is collected by most browsers or automatically through your device, such as your Media Access Control (MAC) address, computer type (Windows or Macintosh), screen resolution, operating system name and version, device manufacturer and model, language and Internet browser type and version. We use this information to ensure that the services function properly. Your IP address is a number that is automatically assigned to the computer that you are using by your Internet Service Provider. An IP address may be identified and logged automatically in our server log files whenever a user accesses the Site, along with the time of the visit and the pages visited. Collecting IP addresses is standard practice and is done automatically by many websites, applications and other services. We use IP addresses for purposes such as calculating usage levels, diagnosing server problems and administering the Site. We may also derive your approximate location from your IP address. We may use Google Analytics, which uses cookies and similar technologies to collect and analyze information about use of the Site and report on activities and trends. This service may also collect information regarding the use of other websites, apps and online resources. You can learn about Google’s practices by going to www.google.com/policies/privacy/partners/, and opt-out of them by downloading the Google Analytics opt-out browser add-on, available at https://tools.google.com/dlpage/gaoptout. We may use Flash Local Shared Objects (“Flash LSOs”) and other technologies to, among other things, collect and store information about your use of the Site. If you do not want Flash LSOs stored on your computer, you can adjust the settings of your Flash player to block Flash LSO storage using the tools contained in the Website Storage Settings Panel. You can also control Flash LSOs by going to the Global Storage Settings Panel and following the instructions (which may include instructions that explain, for example, how to delete existing Flash LSOs (referred to as “information” on the Macromedia site), how to prevent Flash LSOs from being placed on your computer without your being asked, and (for Flash Player 8 and later) how to block Flash LSOs that are not being delivered by the operator of the page you are on at the time). Please note that setting the Flash Player to restrict or limit acceptance of Flash LSOs may reduce or impede the functionality of some Flash applications, including those used in connection with the Site. SECURITY POLICIES We use technical, administrative and procedural measures designed to safeguard your personal data from unauthorized access or use. No such measure is ever 100% effective though, so we do not guarantee that your personal data will be secure from theft, loss, or unauthorized access or use, and we make no representation as to the reasonableness, efficacy, or appropriateness of the measures we use to safeguard such data. YOUR PRIVACY CHOICES AND UPDATES You may update your personal data and your preferences. Different programs and services may offer different phone numbers, links or preference managers that allow you to inform us of your updates and choices, including opting out of particular communications. These contact options are typically available on our Sites or in the emails or texts we send, but you may always contact our Privacy Officer for assistance at Privacy.Officer@pfizer.com if you have any difficulty finding these tools or otherwise updating your data or preferences. Please remember that limited communications may be necessary in order to complete your transaction or for you to participate in a particular program or service. RETENTION PERIOD We will retain your personal data for as long as needed or permitted in light of the purpose(s) for which it was obtained and as outlined in this Privacy Policy. The criteria used to determine our retention periods include: (i) the length of time we have an ongoing relationship with you and provide the Site to you; (ii) whether there is a legal obligation to which we are subject; or (iii) whether retention is advisable in light of our legal position (such as in regard to the enforcement of the Site Terms of Use, applicable statutes of limitations, litigation or regulatory investigations). CROSS BORDER TRANSFERS The Site is controlled and operated by us from the United States and is not intended to subject us to the laws or jurisdiction of any state, country or territory other than that of the United States. Any information you provide to Pfizer through use of the Site may be stored and processed, transferred between and accessed from the United States and other countries which may not guarantee the same level of protection of personal data as the one in which you reside. However, Pfizer will handle your personal data in accordance with this Privacy Policy regardless of where your personal data is stored/accessed. CHILDREN’S PRIVACY The Site is not directed to individuals under the age of thirteen (13), and we do not knowingly collect personal data from children under the age of 13. CONTACT US The company responsible for collection, use and disclosure of your personal data under this Privacy Policy is Pfizer Inc. If you would like to exercise any individual rights, please contact us by accessing our webform at www.pfizer.com/individualrights, or by contacting us at 833-991-1933 (toll free). We will respond to your request consistent with applicable law. If you have questions about this Privacy Policy, please contact us by emailing the Privacy Officer, or write to the following address: Pfizer Inc. Privacy Officer 66 Hudson Boulevard East New York, NY 10001 Privacy Officer UPDATES TO OUR PRIVACY POLICY From time to time, we may update this Privacy Policy. Any changes will be effective when we post the revised Privacy Policy. This Privacy Policy was last updated as of the effective date listed above. If the Privacy Policy changes in a way that significantly affects how we handle personal data, we will not use the personal data we previously gathered in the manner described in the new policy without providing notice and/or obtaining your consent, as appropriate. Minor changes to the policy may occur that will not significantly affect our use of personal data without notice or consent. We encourage you to periodically review this page for the latest information on our privacy practices. \n"
          ]
        }
      ]
    }
  ]
}