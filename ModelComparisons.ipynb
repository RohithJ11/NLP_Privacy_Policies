{
  "nbformat": 4,
  "nbformat_minor": 0,
  "metadata": {
    "colab": {
      "provenance": [],
      "gpuType": "T4",
      "mount_file_id": "1wF-nhXKCM6sdIxWH9FSoDKPQ0uk0RIuU",
      "authorship_tag": "ABX9TyN/hUJoESWzVV8hiYDfN6sK",
      "include_colab_link": true
    },
    "kernelspec": {
      "name": "python3",
      "display_name": "Python 3"
    },
    "language_info": {
      "name": "python"
    },
    "accelerator": "GPU"
  },
  "cells": [
    {
      "cell_type": "markdown",
      "metadata": {
        "id": "view-in-github",
        "colab_type": "text"
      },
      "source": [
        "<a href=\"https://colab.research.google.com/github/RohithJ11/NLP_Privacy_Policies/blob/main/ModelComparisons.ipynb\" target=\"_parent\"><img src=\"https://colab.research.google.com/assets/colab-badge.svg\" alt=\"Open In Colab\"/></a>"
      ]
    },
    {
      "cell_type": "code",
      "execution_count": 1,
      "metadata": {
        "colab": {
          "base_uri": "https://localhost:8080/"
        },
        "id": "uST6tuUnp30t",
        "outputId": "90f877c5-d401-4f65-e0c4-8738c8005a66"
      },
      "outputs": [
        {
          "output_type": "stream",
          "name": "stdout",
          "text": [
            "Requirement already satisfied: transformers in /usr/local/lib/python3.10/dist-packages (4.40.2)\n",
            "Collecting datasets\n",
            "  Downloading datasets-2.19.1-py3-none-any.whl (542 kB)\n",
            "\u001b[2K     \u001b[90m━━━━━━━━━━━━━━━━━━━━━━━━━━━━━━━━━━━━━━━━\u001b[0m \u001b[32m542.0/542.0 kB\u001b[0m \u001b[31m3.2 MB/s\u001b[0m eta \u001b[36m0:00:00\u001b[0m\n",
            "\u001b[?25hRequirement already satisfied: torch in /usr/local/lib/python3.10/dist-packages (2.2.1+cu121)\n",
            "Requirement already satisfied: filelock in /usr/local/lib/python3.10/dist-packages (from transformers) (3.14.0)\n",
            "Requirement already satisfied: huggingface-hub<1.0,>=0.19.3 in /usr/local/lib/python3.10/dist-packages (from transformers) (0.20.3)\n",
            "Requirement already satisfied: numpy>=1.17 in /usr/local/lib/python3.10/dist-packages (from transformers) (1.25.2)\n",
            "Requirement already satisfied: packaging>=20.0 in /usr/local/lib/python3.10/dist-packages (from transformers) (24.0)\n",
            "Requirement already satisfied: pyyaml>=5.1 in /usr/local/lib/python3.10/dist-packages (from transformers) (6.0.1)\n",
            "Requirement already satisfied: regex!=2019.12.17 in /usr/local/lib/python3.10/dist-packages (from transformers) (2023.12.25)\n",
            "Requirement already satisfied: requests in /usr/local/lib/python3.10/dist-packages (from transformers) (2.31.0)\n",
            "Requirement already satisfied: tokenizers<0.20,>=0.19 in /usr/local/lib/python3.10/dist-packages (from transformers) (0.19.1)\n",
            "Requirement already satisfied: safetensors>=0.4.1 in /usr/local/lib/python3.10/dist-packages (from transformers) (0.4.3)\n",
            "Requirement already satisfied: tqdm>=4.27 in /usr/local/lib/python3.10/dist-packages (from transformers) (4.66.4)\n",
            "Requirement already satisfied: pyarrow>=12.0.0 in /usr/local/lib/python3.10/dist-packages (from datasets) (14.0.2)\n",
            "Requirement already satisfied: pyarrow-hotfix in /usr/local/lib/python3.10/dist-packages (from datasets) (0.6)\n",
            "Collecting dill<0.3.9,>=0.3.0 (from datasets)\n",
            "  Downloading dill-0.3.8-py3-none-any.whl (116 kB)\n",
            "\u001b[2K     \u001b[90m━━━━━━━━━━━━━━━━━━━━━━━━━━━━━━━━━━━━━━━━\u001b[0m \u001b[32m116.3/116.3 kB\u001b[0m \u001b[31m9.4 MB/s\u001b[0m eta \u001b[36m0:00:00\u001b[0m\n",
            "\u001b[?25hRequirement already satisfied: pandas in /usr/local/lib/python3.10/dist-packages (from datasets) (2.0.3)\n",
            "Collecting xxhash (from datasets)\n",
            "  Downloading xxhash-3.4.1-cp310-cp310-manylinux_2_17_x86_64.manylinux2014_x86_64.whl (194 kB)\n",
            "\u001b[2K     \u001b[90m━━━━━━━━━━━━━━━━━━━━━━━━━━━━━━━━━━━━━━━━\u001b[0m \u001b[32m194.1/194.1 kB\u001b[0m \u001b[31m12.3 MB/s\u001b[0m eta \u001b[36m0:00:00\u001b[0m\n",
            "\u001b[?25hCollecting multiprocess (from datasets)\n",
            "  Downloading multiprocess-0.70.16-py310-none-any.whl (134 kB)\n",
            "\u001b[2K     \u001b[90m━━━━━━━━━━━━━━━━━━━━━━━━━━━━━━━━━━━━━━━━\u001b[0m \u001b[32m134.8/134.8 kB\u001b[0m \u001b[31m13.2 MB/s\u001b[0m eta \u001b[36m0:00:00\u001b[0m\n",
            "\u001b[?25hRequirement already satisfied: fsspec[http]<=2024.3.1,>=2023.1.0 in /usr/local/lib/python3.10/dist-packages (from datasets) (2023.6.0)\n",
            "Requirement already satisfied: aiohttp in /usr/local/lib/python3.10/dist-packages (from datasets) (3.9.5)\n",
            "Collecting huggingface-hub<1.0,>=0.19.3 (from transformers)\n",
            "  Downloading huggingface_hub-0.23.0-py3-none-any.whl (401 kB)\n",
            "\u001b[2K     \u001b[90m━━━━━━━━━━━━━━━━━━━━━━━━━━━━━━━━━━━━━━━━\u001b[0m \u001b[32m401.2/401.2 kB\u001b[0m \u001b[31m24.6 MB/s\u001b[0m eta \u001b[36m0:00:00\u001b[0m\n",
            "\u001b[?25hRequirement already satisfied: typing-extensions>=4.8.0 in /usr/local/lib/python3.10/dist-packages (from torch) (4.11.0)\n",
            "Requirement already satisfied: sympy in /usr/local/lib/python3.10/dist-packages (from torch) (1.12)\n",
            "Requirement already satisfied: networkx in /usr/local/lib/python3.10/dist-packages (from torch) (3.3)\n",
            "Requirement already satisfied: jinja2 in /usr/local/lib/python3.10/dist-packages (from torch) (3.1.4)\n",
            "Collecting nvidia-cuda-nvrtc-cu12==12.1.105 (from torch)\n",
            "  Using cached nvidia_cuda_nvrtc_cu12-12.1.105-py3-none-manylinux1_x86_64.whl (23.7 MB)\n",
            "Collecting nvidia-cuda-runtime-cu12==12.1.105 (from torch)\n",
            "  Using cached nvidia_cuda_runtime_cu12-12.1.105-py3-none-manylinux1_x86_64.whl (823 kB)\n",
            "Collecting nvidia-cuda-cupti-cu12==12.1.105 (from torch)\n",
            "  Using cached nvidia_cuda_cupti_cu12-12.1.105-py3-none-manylinux1_x86_64.whl (14.1 MB)\n",
            "Collecting nvidia-cudnn-cu12==8.9.2.26 (from torch)\n",
            "  Using cached nvidia_cudnn_cu12-8.9.2.26-py3-none-manylinux1_x86_64.whl (731.7 MB)\n",
            "Collecting nvidia-cublas-cu12==12.1.3.1 (from torch)\n",
            "  Using cached nvidia_cublas_cu12-12.1.3.1-py3-none-manylinux1_x86_64.whl (410.6 MB)\n",
            "Collecting nvidia-cufft-cu12==11.0.2.54 (from torch)\n",
            "  Using cached nvidia_cufft_cu12-11.0.2.54-py3-none-manylinux1_x86_64.whl (121.6 MB)\n",
            "Collecting nvidia-curand-cu12==10.3.2.106 (from torch)\n",
            "  Using cached nvidia_curand_cu12-10.3.2.106-py3-none-manylinux1_x86_64.whl (56.5 MB)\n",
            "Collecting nvidia-cusolver-cu12==11.4.5.107 (from torch)\n",
            "  Using cached nvidia_cusolver_cu12-11.4.5.107-py3-none-manylinux1_x86_64.whl (124.2 MB)\n",
            "Collecting nvidia-cusparse-cu12==12.1.0.106 (from torch)\n",
            "  Using cached nvidia_cusparse_cu12-12.1.0.106-py3-none-manylinux1_x86_64.whl (196.0 MB)\n",
            "Collecting nvidia-nccl-cu12==2.19.3 (from torch)\n",
            "  Using cached nvidia_nccl_cu12-2.19.3-py3-none-manylinux1_x86_64.whl (166.0 MB)\n",
            "Collecting nvidia-nvtx-cu12==12.1.105 (from torch)\n",
            "  Using cached nvidia_nvtx_cu12-12.1.105-py3-none-manylinux1_x86_64.whl (99 kB)\n",
            "Requirement already satisfied: triton==2.2.0 in /usr/local/lib/python3.10/dist-packages (from torch) (2.2.0)\n",
            "Collecting nvidia-nvjitlink-cu12 (from nvidia-cusolver-cu12==11.4.5.107->torch)\n",
            "  Using cached nvidia_nvjitlink_cu12-12.4.127-py3-none-manylinux2014_x86_64.whl (21.1 MB)\n",
            "Requirement already satisfied: aiosignal>=1.1.2 in /usr/local/lib/python3.10/dist-packages (from aiohttp->datasets) (1.3.1)\n",
            "Requirement already satisfied: attrs>=17.3.0 in /usr/local/lib/python3.10/dist-packages (from aiohttp->datasets) (23.2.0)\n",
            "Requirement already satisfied: frozenlist>=1.1.1 in /usr/local/lib/python3.10/dist-packages (from aiohttp->datasets) (1.4.1)\n",
            "Requirement already satisfied: multidict<7.0,>=4.5 in /usr/local/lib/python3.10/dist-packages (from aiohttp->datasets) (6.0.5)\n",
            "Requirement already satisfied: yarl<2.0,>=1.0 in /usr/local/lib/python3.10/dist-packages (from aiohttp->datasets) (1.9.4)\n",
            "Requirement already satisfied: async-timeout<5.0,>=4.0 in /usr/local/lib/python3.10/dist-packages (from aiohttp->datasets) (4.0.3)\n",
            "Requirement already satisfied: charset-normalizer<4,>=2 in /usr/local/lib/python3.10/dist-packages (from requests->transformers) (3.3.2)\n",
            "Requirement already satisfied: idna<4,>=2.5 in /usr/local/lib/python3.10/dist-packages (from requests->transformers) (3.7)\n",
            "Requirement already satisfied: urllib3<3,>=1.21.1 in /usr/local/lib/python3.10/dist-packages (from requests->transformers) (2.0.7)\n",
            "Requirement already satisfied: certifi>=2017.4.17 in /usr/local/lib/python3.10/dist-packages (from requests->transformers) (2024.2.2)\n",
            "Requirement already satisfied: MarkupSafe>=2.0 in /usr/local/lib/python3.10/dist-packages (from jinja2->torch) (2.1.5)\n",
            "Requirement already satisfied: python-dateutil>=2.8.2 in /usr/local/lib/python3.10/dist-packages (from pandas->datasets) (2.8.2)\n",
            "Requirement already satisfied: pytz>=2020.1 in /usr/local/lib/python3.10/dist-packages (from pandas->datasets) (2023.4)\n",
            "Requirement already satisfied: tzdata>=2022.1 in /usr/local/lib/python3.10/dist-packages (from pandas->datasets) (2024.1)\n",
            "Requirement already satisfied: mpmath>=0.19 in /usr/local/lib/python3.10/dist-packages (from sympy->torch) (1.3.0)\n",
            "Requirement already satisfied: six>=1.5 in /usr/local/lib/python3.10/dist-packages (from python-dateutil>=2.8.2->pandas->datasets) (1.16.0)\n",
            "Installing collected packages: xxhash, nvidia-nvtx-cu12, nvidia-nvjitlink-cu12, nvidia-nccl-cu12, nvidia-curand-cu12, nvidia-cufft-cu12, nvidia-cuda-runtime-cu12, nvidia-cuda-nvrtc-cu12, nvidia-cuda-cupti-cu12, nvidia-cublas-cu12, dill, nvidia-cusparse-cu12, nvidia-cudnn-cu12, multiprocess, huggingface-hub, nvidia-cusolver-cu12, datasets\n",
            "  Attempting uninstall: huggingface-hub\n",
            "    Found existing installation: huggingface-hub 0.20.3\n",
            "    Uninstalling huggingface-hub-0.20.3:\n",
            "      Successfully uninstalled huggingface-hub-0.20.3\n",
            "Successfully installed datasets-2.19.1 dill-0.3.8 huggingface-hub-0.23.0 multiprocess-0.70.16 nvidia-cublas-cu12-12.1.3.1 nvidia-cuda-cupti-cu12-12.1.105 nvidia-cuda-nvrtc-cu12-12.1.105 nvidia-cuda-runtime-cu12-12.1.105 nvidia-cudnn-cu12-8.9.2.26 nvidia-cufft-cu12-11.0.2.54 nvidia-curand-cu12-10.3.2.106 nvidia-cusolver-cu12-11.4.5.107 nvidia-cusparse-cu12-12.1.0.106 nvidia-nccl-cu12-2.19.3 nvidia-nvjitlink-cu12-12.4.127 nvidia-nvtx-cu12-12.1.105 xxhash-3.4.1\n"
          ]
        }
      ],
      "source": [
        "pip install transformers datasets torch"
      ]
    },
    {
      "cell_type": "code",
      "source": [
        "pip install accelerate -U"
      ],
      "metadata": {
        "colab": {
          "base_uri": "https://localhost:8080/"
        },
        "id": "gFA_b002p9iT",
        "outputId": "79aba2a1-eeaf-4aa6-ceaa-66925ffcf812"
      },
      "execution_count": 2,
      "outputs": [
        {
          "output_type": "stream",
          "name": "stdout",
          "text": [
            "Collecting accelerate\n",
            "  Downloading accelerate-0.30.1-py3-none-any.whl (302 kB)\n",
            "\u001b[2K     \u001b[90m━━━━━━━━━━━━━━━━━━━━━━━━━━━━━━━━━━━━━━━━\u001b[0m \u001b[32m302.6/302.6 kB\u001b[0m \u001b[31m2.4 MB/s\u001b[0m eta \u001b[36m0:00:00\u001b[0m\n",
            "\u001b[?25hRequirement already satisfied: numpy>=1.17 in /usr/local/lib/python3.10/dist-packages (from accelerate) (1.25.2)\n",
            "Requirement already satisfied: packaging>=20.0 in /usr/local/lib/python3.10/dist-packages (from accelerate) (24.0)\n",
            "Requirement already satisfied: psutil in /usr/local/lib/python3.10/dist-packages (from accelerate) (5.9.5)\n",
            "Requirement already satisfied: pyyaml in /usr/local/lib/python3.10/dist-packages (from accelerate) (6.0.1)\n",
            "Requirement already satisfied: torch>=1.10.0 in /usr/local/lib/python3.10/dist-packages (from accelerate) (2.2.1+cu121)\n",
            "Requirement already satisfied: huggingface-hub in /usr/local/lib/python3.10/dist-packages (from accelerate) (0.23.0)\n",
            "Requirement already satisfied: safetensors>=0.3.1 in /usr/local/lib/python3.10/dist-packages (from accelerate) (0.4.3)\n",
            "Requirement already satisfied: filelock in /usr/local/lib/python3.10/dist-packages (from torch>=1.10.0->accelerate) (3.14.0)\n",
            "Requirement already satisfied: typing-extensions>=4.8.0 in /usr/local/lib/python3.10/dist-packages (from torch>=1.10.0->accelerate) (4.11.0)\n",
            "Requirement already satisfied: sympy in /usr/local/lib/python3.10/dist-packages (from torch>=1.10.0->accelerate) (1.12)\n",
            "Requirement already satisfied: networkx in /usr/local/lib/python3.10/dist-packages (from torch>=1.10.0->accelerate) (3.3)\n",
            "Requirement already satisfied: jinja2 in /usr/local/lib/python3.10/dist-packages (from torch>=1.10.0->accelerate) (3.1.4)\n",
            "Requirement already satisfied: fsspec in /usr/local/lib/python3.10/dist-packages (from torch>=1.10.0->accelerate) (2023.6.0)\n",
            "Requirement already satisfied: nvidia-cuda-nvrtc-cu12==12.1.105 in /usr/local/lib/python3.10/dist-packages (from torch>=1.10.0->accelerate) (12.1.105)\n",
            "Requirement already satisfied: nvidia-cuda-runtime-cu12==12.1.105 in /usr/local/lib/python3.10/dist-packages (from torch>=1.10.0->accelerate) (12.1.105)\n",
            "Requirement already satisfied: nvidia-cuda-cupti-cu12==12.1.105 in /usr/local/lib/python3.10/dist-packages (from torch>=1.10.0->accelerate) (12.1.105)\n",
            "Requirement already satisfied: nvidia-cudnn-cu12==8.9.2.26 in /usr/local/lib/python3.10/dist-packages (from torch>=1.10.0->accelerate) (8.9.2.26)\n",
            "Requirement already satisfied: nvidia-cublas-cu12==12.1.3.1 in /usr/local/lib/python3.10/dist-packages (from torch>=1.10.0->accelerate) (12.1.3.1)\n",
            "Requirement already satisfied: nvidia-cufft-cu12==11.0.2.54 in /usr/local/lib/python3.10/dist-packages (from torch>=1.10.0->accelerate) (11.0.2.54)\n",
            "Requirement already satisfied: nvidia-curand-cu12==10.3.2.106 in /usr/local/lib/python3.10/dist-packages (from torch>=1.10.0->accelerate) (10.3.2.106)\n",
            "Requirement already satisfied: nvidia-cusolver-cu12==11.4.5.107 in /usr/local/lib/python3.10/dist-packages (from torch>=1.10.0->accelerate) (11.4.5.107)\n",
            "Requirement already satisfied: nvidia-cusparse-cu12==12.1.0.106 in /usr/local/lib/python3.10/dist-packages (from torch>=1.10.0->accelerate) (12.1.0.106)\n",
            "Requirement already satisfied: nvidia-nccl-cu12==2.19.3 in /usr/local/lib/python3.10/dist-packages (from torch>=1.10.0->accelerate) (2.19.3)\n",
            "Requirement already satisfied: nvidia-nvtx-cu12==12.1.105 in /usr/local/lib/python3.10/dist-packages (from torch>=1.10.0->accelerate) (12.1.105)\n",
            "Requirement already satisfied: triton==2.2.0 in /usr/local/lib/python3.10/dist-packages (from torch>=1.10.0->accelerate) (2.2.0)\n",
            "Requirement already satisfied: nvidia-nvjitlink-cu12 in /usr/local/lib/python3.10/dist-packages (from nvidia-cusolver-cu12==11.4.5.107->torch>=1.10.0->accelerate) (12.4.127)\n",
            "Requirement already satisfied: requests in /usr/local/lib/python3.10/dist-packages (from huggingface-hub->accelerate) (2.31.0)\n",
            "Requirement already satisfied: tqdm>=4.42.1 in /usr/local/lib/python3.10/dist-packages (from huggingface-hub->accelerate) (4.66.4)\n",
            "Requirement already satisfied: MarkupSafe>=2.0 in /usr/local/lib/python3.10/dist-packages (from jinja2->torch>=1.10.0->accelerate) (2.1.5)\n",
            "Requirement already satisfied: charset-normalizer<4,>=2 in /usr/local/lib/python3.10/dist-packages (from requests->huggingface-hub->accelerate) (3.3.2)\n",
            "Requirement already satisfied: idna<4,>=2.5 in /usr/local/lib/python3.10/dist-packages (from requests->huggingface-hub->accelerate) (3.7)\n",
            "Requirement already satisfied: urllib3<3,>=1.21.1 in /usr/local/lib/python3.10/dist-packages (from requests->huggingface-hub->accelerate) (2.0.7)\n",
            "Requirement already satisfied: certifi>=2017.4.17 in /usr/local/lib/python3.10/dist-packages (from requests->huggingface-hub->accelerate) (2024.2.2)\n",
            "Requirement already satisfied: mpmath>=0.19 in /usr/local/lib/python3.10/dist-packages (from sympy->torch>=1.10.0->accelerate) (1.3.0)\n",
            "Installing collected packages: accelerate\n",
            "Successfully installed accelerate-0.30.1\n"
          ]
        }
      ]
    },
    {
      "cell_type": "code",
      "source": [
        "pip install transformers\n"
      ],
      "metadata": {
        "colab": {
          "base_uri": "https://localhost:8080/"
        },
        "id": "ySmz6i8gqZuU",
        "outputId": "d8abd0af-bb12-4132-9e9a-918acea002bd"
      },
      "execution_count": 3,
      "outputs": [
        {
          "output_type": "stream",
          "name": "stdout",
          "text": [
            "Requirement already satisfied: transformers in /usr/local/lib/python3.10/dist-packages (4.40.2)\n",
            "Requirement already satisfied: filelock in /usr/local/lib/python3.10/dist-packages (from transformers) (3.14.0)\n",
            "Requirement already satisfied: huggingface-hub<1.0,>=0.19.3 in /usr/local/lib/python3.10/dist-packages (from transformers) (0.23.0)\n",
            "Requirement already satisfied: numpy>=1.17 in /usr/local/lib/python3.10/dist-packages (from transformers) (1.25.2)\n",
            "Requirement already satisfied: packaging>=20.0 in /usr/local/lib/python3.10/dist-packages (from transformers) (24.0)\n",
            "Requirement already satisfied: pyyaml>=5.1 in /usr/local/lib/python3.10/dist-packages (from transformers) (6.0.1)\n",
            "Requirement already satisfied: regex!=2019.12.17 in /usr/local/lib/python3.10/dist-packages (from transformers) (2023.12.25)\n",
            "Requirement already satisfied: requests in /usr/local/lib/python3.10/dist-packages (from transformers) (2.31.0)\n",
            "Requirement already satisfied: tokenizers<0.20,>=0.19 in /usr/local/lib/python3.10/dist-packages (from transformers) (0.19.1)\n",
            "Requirement already satisfied: safetensors>=0.4.1 in /usr/local/lib/python3.10/dist-packages (from transformers) (0.4.3)\n",
            "Requirement already satisfied: tqdm>=4.27 in /usr/local/lib/python3.10/dist-packages (from transformers) (4.66.4)\n",
            "Requirement already satisfied: fsspec>=2023.5.0 in /usr/local/lib/python3.10/dist-packages (from huggingface-hub<1.0,>=0.19.3->transformers) (2023.6.0)\n",
            "Requirement already satisfied: typing-extensions>=3.7.4.3 in /usr/local/lib/python3.10/dist-packages (from huggingface-hub<1.0,>=0.19.3->transformers) (4.11.0)\n",
            "Requirement already satisfied: charset-normalizer<4,>=2 in /usr/local/lib/python3.10/dist-packages (from requests->transformers) (3.3.2)\n",
            "Requirement already satisfied: idna<4,>=2.5 in /usr/local/lib/python3.10/dist-packages (from requests->transformers) (3.7)\n",
            "Requirement already satisfied: urllib3<3,>=1.21.1 in /usr/local/lib/python3.10/dist-packages (from requests->transformers) (2.0.7)\n",
            "Requirement already satisfied: certifi>=2017.4.17 in /usr/local/lib/python3.10/dist-packages (from requests->transformers) (2024.2.2)\n"
          ]
        }
      ]
    },
    {
      "cell_type": "code",
      "source": [
        "from transformers import BartTokenizer, BartForConditionalGeneration\n",
        "\n",
        "def load_model(model_path):\n",
        "    # Load the trained model and tokenizer\n",
        "    model = BartForConditionalGeneration.from_pretrained(model_path)\n",
        "    tokenizer = BartTokenizer.from_pretrained(model_path)\n",
        "    return model, tokenizer\n",
        "\n",
        "def summarize(text, model, tokenizer):\n",
        "    # Encode the text into tensor of token ids\n",
        "    inputs = tokenizer.encode(\"summarize: \" + text, return_tensors=\"pt\", max_length=1024, truncation=True)\n",
        "\n",
        "    # Generate summary with the model\n",
        "    summary_ids = model.generate(inputs, max_length=45, min_length=40, length_penalty=2.0, num_beams=4, early_stopping=True)\n",
        "\n",
        "    # Decode the summary\n",
        "    summary = tokenizer.decode(summary_ids[0], skip_special_tokens=True)\n",
        "    return summary\n",
        "\n",
        "# Load your model (adjust the path to where your model is saved)\n",
        "model_path = '/content/drive/MyDrive/trained_model/BARTsavedmodel'\n",
        "model, tokenizer = load_model(model_path)\n",
        "\n",
        "# Example text to summarize\n",
        "text = \"We may disclose deidentified, anonymized, or aggregated information internally and to third parties for any purpose, to the extent not prohibited by law. We will do our best to ensure the information will not identify you individually and otherwise comply with our obligations under applicable law, but we do not make assurances that such information is not capable of re-identification. However, we will not attempt to re-identify any information that we identify as de-identified information.\"\n",
        "\n",
        "# Generate the summary\n",
        "summary = summarize(text, model, tokenizer)\n",
        "print(\"Summary:\", summary)\n"
      ],
      "metadata": {
        "colab": {
          "base_uri": "https://localhost:8080/"
        },
        "id": "dMCcOc8osNXc",
        "outputId": "b28bda55-dcaa-4032-c12a-ad166420226b"
      },
      "execution_count": 7,
      "outputs": [
        {
          "output_type": "stream",
          "name": "stdout",
          "text": [
            "Summary: We may disclose deidentified, anonymized, or aggregated information internally and to third parties for any purpose, to the extent not prohibited by law. We will do our best to ensure the information will not identify\n"
          ]
        }
      ]
    },
    {
      "cell_type": "code",
      "source": [
        "from transformers import BartTokenizer, BartForConditionalGeneration\n",
        "\n",
        "def load_model(model_path):\n",
        "    # Load the trained model and tokenizer\n",
        "    model = BartForConditionalGeneration.from_pretrained(model_path)\n",
        "    tokenizer = BartTokenizer.from_pretrained(model_path)\n",
        "    return model, tokenizer\n",
        "\n",
        "def summarize(text, model, tokenizer):\n",
        "    # Encode the text into tensor of token ids\n",
        "    inputs = tokenizer.encode(\"summarize: \" + text, return_tensors=\"pt\", max_length=512, truncation=True)  # Reduced max_length\n",
        "\n",
        "    # Adjust the generation parameters for short content\n",
        "    summary_ids = model.generate(\n",
        "        inputs,\n",
        "        max_length=75,  # Reduced max_length for summaries\n",
        "        min_length=25,  # Set a reasonable minimum length to avoid overly terse summaries\n",
        "        length_penalty=1.0,  # Lower penalty for shorter lengths\n",
        "        num_beams=4,  # Moderate number of beams for balance between speed and quality\n",
        "        early_stopping=True\n",
        "    )\n",
        "\n",
        "    # Decode the summary\n",
        "    summary = tokenizer.decode(summary_ids[0], skip_special_tokens=True)\n",
        "    return summary\n",
        "\n",
        "# Load your model (adjust the path to where your model is saved)\n",
        "model_path = '/content/drive/MyDrive/trained_model/BARTsavedmodel'\n",
        "model, tokenizer = load_model(model_path)\n",
        "\n",
        "# Example text to summarize\n",
        "text = \"We may disclose deidentified, anonymized, or aggregated information internally and to third parties for any purpose, to the extent not prohibited by law. We will do our best to ensure the information will not identify you individually and otherwise comply with our obligations under applicable law, but we do not make assurances that such information is not capable of re-identification. However, we will not attempt to re-identify any information that we identify as de-identified information.\"\n",
        "\n",
        "# Generate the summary\n",
        "summary = summarize(text, model, tokenizer)\n",
        "print(\"Summary:\", summary)\n"
      ],
      "metadata": {
        "colab": {
          "base_uri": "https://localhost:8080/"
        },
        "id": "EVaL5RGYwQ2G",
        "outputId": "0c10be00-7043-4a0e-c140-98bb66231614"
      },
      "execution_count": 8,
      "outputs": [
        {
          "output_type": "stream",
          "name": "stdout",
          "text": [
            "Summary: We may disclose deidentified, anonymized, or aggregated information internally and to third parties for any purpose, to the extent not prohibited by law. We will do our best to ensure the information will not identify you individually and comply with obligations under applicable law, but we do not make assurances that such information is not capable of re-identification. However,\n"
          ]
        }
      ]
    },
    {
      "cell_type": "code",
      "source": [
        "from transformers import BartTokenizer, BartForConditionalGeneration\n",
        "\n",
        "def load_model(model_path):\n",
        "    # Load the trained model and tokenizer\n",
        "    model = BartForConditionalGeneration.from_pretrained(model_path)\n",
        "    tokenizer = BartTokenizer.from_pretrained(model_path)\n",
        "    return model, tokenizer\n",
        "\n",
        "def summarize(text, model, tokenizer):\n",
        "    # Encode the text into tensor of token ids\n",
        "    inputs = tokenizer.encode(\"summarize: \" + text, return_tensors=\"pt\", max_length=250,   truncation=True)\n",
        "\n",
        "    # Adjust the generation parameters to encourage more concise and varied outputs\n",
        "    summary_ids = model.generate(\n",
        "        inputs,\n",
        "        max_length=250,\n",
        "        min_length=100,\n",
        "        length_penalty=2.0,  # Increase length penalty to encourage shorter outputs\n",
        "        num_beams=4,\n",
        "        early_stopping=True,\n",
        "        no_repeat_ngram_size=2,  # Prevent repeating n-grams in short summaries\n",
        "\n",
        "    )\n",
        "\n",
        "    # Decode the summary\n",
        "    summary = tokenizer.decode(summary_ids[0], skip_special_tokens=True)\n",
        "    return summary\n",
        "\n",
        "# Load your model (adjust the path to where your model is saved)\n",
        "model_path = '/content/drive/MyDrive/trained_model/BARTsavedmodel'\n",
        "model, tokenizer = load_model(model_path)\n",
        "\n",
        "# Example text to summarize\n",
        "text = \"As a general rule, the Department does not collect PII about you when you visit our website, unless you choose to provide such information to us. Submitting PII through our website is voluntary. By doing so, you are giving the Department your permission to use the information for the stated purpose. However, not providing certain information may result in the Department’s inability to provide you with the service you desire. If you choose to provide us with PII on a Department website, through such methods as completing a web form or sending us an email, we will use that information to help us provide you the information or service you have requested or to respond to your message. The information we may receive from you varies based on what you do when visiting our site. Generally, the information requested by the Department will be used to respond to your inquiry or to provide you with the service you request. When this information is requested, the reasons for collecting it, a description of the Department’s intended use of the information, how to grant consent to use mandatorily provided information, and how to grant consent for other than statutorily mandated uses will be fully described in a separate customized “Privacy Notice.” This customized Privacy Notice will either appear on the web page collecting the information or be accessible through a hyperlink (link) prominently displayed immediately above or below the information request.\"\n",
        "\n",
        "# Generate the summary\n",
        "summary = summarize(text, model, tokenizer)\n",
        "print(\"Summary:\", summary)\n"
      ],
      "metadata": {
        "colab": {
          "base_uri": "https://localhost:8080/"
        },
        "id": "gF6yIsEGxkHY",
        "outputId": "556548b0-ff0a-4f8f-8725-fbb4e16c1d5d"
      },
      "execution_count": 17,
      "outputs": [
        {
          "output_type": "stream",
          "name": "stdout",
          "text": [
            "Summary: As a general rule, the Department does not collect PII about you when you visit its website, unless you choose to provide such information to us through a web form or email. By doing so, you are giving the department permission to use the information for the stated purpose. However, not providing certain information may result in the lack of service provided to you. The information requested will be used to respond to your inquiry or provide the service you request. When requested, a detailed description of the reasons for collecting P II and how to grant consent for non-mandatory uses are included in a customized privacy notice.\n"
          ]
        }
      ]
    },
    {
      "cell_type": "code",
      "source": [
        "pip install rouge-score\n"
      ],
      "metadata": {
        "colab": {
          "base_uri": "https://localhost:8080/"
        },
        "id": "jksIPPPtEGNZ",
        "outputId": "33051b5a-d0ba-4125-ff16-2d3cfdae30b3"
      },
      "execution_count": 1,
      "outputs": [
        {
          "output_type": "stream",
          "name": "stdout",
          "text": [
            "Collecting rouge-score\n",
            "  Downloading rouge_score-0.1.2.tar.gz (17 kB)\n",
            "  Preparing metadata (setup.py) ... \u001b[?25l\u001b[?25hdone\n",
            "Requirement already satisfied: absl-py in /usr/local/lib/python3.10/dist-packages (from rouge-score) (1.4.0)\n",
            "Requirement already satisfied: nltk in /usr/local/lib/python3.10/dist-packages (from rouge-score) (3.8.1)\n",
            "Requirement already satisfied: numpy in /usr/local/lib/python3.10/dist-packages (from rouge-score) (1.25.2)\n",
            "Requirement already satisfied: six>=1.14.0 in /usr/local/lib/python3.10/dist-packages (from rouge-score) (1.16.0)\n",
            "Requirement already satisfied: click in /usr/local/lib/python3.10/dist-packages (from nltk->rouge-score) (8.1.7)\n",
            "Requirement already satisfied: joblib in /usr/local/lib/python3.10/dist-packages (from nltk->rouge-score) (1.4.2)\n",
            "Requirement already satisfied: regex>=2021.8.3 in /usr/local/lib/python3.10/dist-packages (from nltk->rouge-score) (2023.12.25)\n",
            "Requirement already satisfied: tqdm in /usr/local/lib/python3.10/dist-packages (from nltk->rouge-score) (4.66.4)\n",
            "Building wheels for collected packages: rouge-score\n",
            "  Building wheel for rouge-score (setup.py) ... \u001b[?25l\u001b[?25hdone\n",
            "  Created wheel for rouge-score: filename=rouge_score-0.1.2-py3-none-any.whl size=24933 sha256=718fb34a5a1ed0e5bde632d37142f641486f23b7919a63b6a1dce6dcaee0418c\n",
            "  Stored in directory: /root/.cache/pip/wheels/5f/dd/89/461065a73be61a532ff8599a28e9beef17985c9e9c31e541b4\n",
            "Successfully built rouge-score\n",
            "Installing collected packages: rouge-score\n",
            "Successfully installed rouge-score-0.1.2\n"
          ]
        }
      ]
    },
    {
      "cell_type": "markdown",
      "source": [
        "#Content 1"
      ],
      "metadata": {
        "id": "SdPiiGVmLW-d"
      }
    },
    {
      "cell_type": "code",
      "source": [
        "model_path = '/content/drive/MyDrive/trained_model/BARTsavedmodel'  # Replace with your own directory path\n",
        "from transformers import BartTokenizer, BartForConditionalGeneration\n",
        "\n",
        "\n",
        "extracted_text = \"As a general rule, the Department does not collect PII about you when you visit our website, unless you choose to provide such information to us. Submitting PII through our website is voluntary. By doing so, you are giving the Department your permission to use the information for the stated purpose. However, not providing certain information may result in the Department’s inability to provide you with the service you desire. If you choose to provide us with PII on a Department website, through such methods as completing a web form or sending us an email, we will use that information to help us provide you the information or service you have requested or to respond to your message. The information we may receive from you varies based on what you do when visiting our site. Generally, the information requested by the Department will be used to respond to your inquiry or to provide you with the service you request. When this information is requested, the reasons for collecting it, a description of the Department’s intended use of the information, how to grant consent to use mandatorily provided information, and how to grant consent for other than statutorily mandated uses will be fully described in a separate customized “Privacy Notice.” This customized Privacy Notice will either appear on the web page collecting the information or be accessible through a hyperlink (link) prominently displayed immediately above or below the information request.\"\n",
        "\n",
        "\n",
        "# Load the tokenizer\n",
        "tokenizer = BartTokenizer.from_pretrained(model_path)\n",
        "\n",
        "# Load the model\n",
        "model = BartForConditionalGeneration.from_pretrained(model_path)\n",
        "\n",
        "# Function to generate a summary\n",
        "def generate_summary(text, tokenizer, model):\n",
        "    inputs = tokenizer.encode_plus(text, return_tensors=\"pt\", max_length=512, truncation=True)\n",
        "    summary_ids = model.generate(\n",
        "        inputs['input_ids'],\n",
        "        attention_mask=inputs['attention_mask'],\n",
        "        max_length=5000,  # Adjust based on expected summary length\n",
        "        min_length=500,\n",
        "        num_beams=5,\n",
        "        early_stopping=True\n",
        "    )\n",
        "    summary = tokenizer.decode(summary_ids[0], skip_special_tokens=True)\n",
        "    return summary\n",
        "\n",
        "# Assuming 'extracted_text' is the variable that contains your cleaned text\n",
        "summary = generate_summary(extracted_text, tokenizer, model)\n",
        "print(summary)\n",
        "\n",
        "\n",
        "\n",
        "from rouge_score import rouge_scorer\n",
        "\n",
        "def compute_rouge_scores(reference, generated):\n",
        "    scorer = rouge_scorer.RougeScorer(['rouge1', 'rouge2', 'rougeL'], use_stemmer=True)\n",
        "    scores = scorer.score(reference, generated)\n",
        "    return scores\n",
        "\n",
        "# Example usage\n",
        "reference_summary = \"We only collect Personally Identifiable Information (PII) that you provide to us on our website. This is voluntary and if you choose to provide us with PII, we will use that information to respond to your inquiry or to provide you with the service you request. If you don't provide certain information, we may not be able to provide you with the service you desire. The reasons for collecting your information, its intended use, and how to grant consent for its use will be fully explained in a Privacy Notice. This notice will either appear on the web page where the information is collected or be accessible through a hyperlink.\"\n",
        "#generated_summary = summarize(text, model, tokenizer)\n",
        "\n",
        "# Compute ROUGE scores\n",
        "rouge_scores = compute_rouge_scores(reference_summary, summary)\n",
        "print(\"ROUGE Scores:\", rouge_scores)"
      ],
      "metadata": {
        "colab": {
          "base_uri": "https://localhost:8080/"
        },
        "id": "UyUrfYpbGd4o",
        "outputId": "f053a119-3e0d-45dd-c41f-7385e9fa25b6"
      },
      "execution_count": 5,
      "outputs": [
        {
          "output_type": "stream",
          "name": "stdout",
          "text": [
            "As a general rule, the Department does not collect PII about you when you visit its website. Submitting PII through our website is voluntary, and by doing so, you are giving the Department permission to use the information for the stated purpose. However, not providing certain information may result in the Department's inability to provide you with the service you desire. If you choose to provide PII via a web form or email, the information will be used to provide the information or service you have requested or to respond to your message. The reasons for collecting PII, the intended use of the information, and how to grant consent for mandatorily mandated uses will be detailed in a customized Privacy Notice. This Privacy Notice will appear on the web page collecting the information and can be accessible through a hyperlink prominently displayed above or below the information request. The information requested by the Department will typically be used for responding to your inquiry or providing you with a service you request. For non-mandatory uses, a customized \"Privacy Notice\" will be created detailing the reasons for collection and consent requests. This privacy notice will be displayed on the website or prominently displayed in a prominent location, such as the hyperlink (link) prominently displayed below or above the information requested. The Department will provide a detailed description of its intended uses for the information in this Privacy Notice, including details about mandatorly mandated uses and non-statutorily mandated requests for information, as well as details about how to consent for non-strictly mandated requests. The specific purposes for collecting information and requesting consent will be outlined in the customized \" Privacy Notice,\" which will appear either on the webpage collecting it or through a prominently displayed hyperlink. The details of the requested information will vary based on the type of information requested and the activities involved. For example, information may be collected based on how users interact with the website, including completing web forms, sending emails, or responding to messages via social media platforms like Facebook, Twitter, or other platforms like LinkedIn, with the information being used to assist with the response or service provided. Generally, information is used to respond or provide the requested service or information, depending on the activity involved. This information may also be used in response to inquiries or requests for additional information or services. The purposes for which the information is requested are detailed in the Privacy Notice's description, which will include details about the information's intended use, including the purpose for collecting it, the context of the request, and consent requirements.\n",
            "ROUGE Scores: {'rouge1': Score(precision=0.214123006833713, recall=0.8468468468468469, fmeasure=0.34181818181818185), 'rouge2': Score(precision=0.12557077625570776, recall=0.5, fmeasure=0.20072992700729925), 'rougeL': Score(precision=0.14578587699316628, recall=0.5765765765765766, fmeasure=0.23272727272727273)}\n"
          ]
        }
      ]
    },
    {
      "cell_type": "code",
      "source": [
        "model_path = '/content/drive/MyDrive/trained_model/BARTsavedmodel'  # Replace with your own directory path\n",
        "from transformers import BartTokenizer, BartForConditionalGeneration\n",
        "\n",
        "\n",
        "extracted_text = \"The Department uses social media websites and other kinds of third-party websites. The Department uses social media websites to interact with foreign constituencies and engage in public diplomacy worldwide. Social media websites are used to publicize embassy and Department events, and engage with members of the public in foreign countries. The Department also uses web measurement and customization technologies to measure the number of visitors to our websites and their various sections and to help make our websites more useful to visitors. In such cases, the third-party application may request an email address, username, password, and geographic location (e.g., State, region, or ZIP code) for account registration purposes. The Department of State does not use third-party websites to solicit and collect PII from individuals. Any PII passively collected (i.e., not solicited) by the third-party website will not be transmitted or stored by the Department; no PII will be disclosed, sold or transferred to any other entity outside the Department, unless required for law enforcement purposes or by statute.  The Department uses various types of online surveys to collect opinions and feedback from a random sample of visitors. Primarily, state.gov uses the ForeSee Results’ American Customer Satisfaction Index (ACSI) online survey on an ongoing basis to obtain feedback and data on visitors’ satisfaction with the state.gov website. This survey does not collect PII. Although the survey invitation pops up for a random sample of visitors, it is optional. If you decline the survey, you will still have access to the identical information and resources at the state.gov site as those who do take the survey. The survey reports are available only to state.gov managers and other designated staff who require this information to perform their duties. The Department may use other limited-time surveys for specific purposes, which are explained at the time they are posted.  The Department retains the data from the ACSI survey results as long as needed to support the mission of the state.gov website.\"\n",
        "\n",
        "\n",
        "# Load the tokenizer\n",
        "tokenizer = BartTokenizer.from_pretrained(model_path)\n",
        "\n",
        "# Load the model\n",
        "model = BartForConditionalGeneration.from_pretrained(model_path)\n",
        "\n",
        "# Function to generate a summary\n",
        "def generate_summary(text, tokenizer, model):\n",
        "    inputs = tokenizer.encode_plus(text, return_tensors=\"pt\", max_length=512, truncation=True)\n",
        "    summary_ids = model.generate(\n",
        "        inputs['input_ids'],\n",
        "        attention_mask=inputs['attention_mask'],\n",
        "        max_length=5000,  # Adjust based on expected summary length\n",
        "        min_length=500,\n",
        "        num_beams=5,\n",
        "        early_stopping=True\n",
        "    )\n",
        "    summary = tokenizer.decode(summary_ids[0], skip_special_tokens=True)\n",
        "    return summary\n",
        "\n",
        "# Assuming 'extracted_text' is the variable that contains your cleaned text\n",
        "summary = generate_summary(extracted_text, tokenizer, model)\n",
        "print(summary)\n",
        "\n",
        "\n",
        "\n",
        "from rouge_score import rouge_scorer\n",
        "\n",
        "def compute_rouge_scores(reference, generated):\n",
        "    scorer = rouge_scorer.RougeScorer(['rouge1', 'rouge2', 'rougeL'], use_stemmer=True)\n",
        "    scores = scorer.score(reference, generated)\n",
        "    return scores\n",
        "\n",
        "# Example usage\n",
        "reference_summary = \"The Department uses social media and third-party websites to interact with foreign constituencies and publicize embassy and Department events. The Department uses web measurement technologies to make their websites more useful to visitors. No personally identifiable information is collected passively by the third-party website. The Department uses surveys to collect opinions and feedback, with the ForeSee Results' American Customer Satisfaction Index (ACSI) online survey being the most commonly used. The survey is optional and does not collect personally identifiable information. The Department retains ACSI survey data as long as needed to support the state.gov website mission.\"\n",
        "#generated_summary = summarize(text, model, tokenizer)\n",
        "\n",
        "# Compute ROUGE scores\n",
        "rouge_scores = compute_rouge_scores(reference_summary, summary)\n",
        "print(\"ROUGE Scores:\", rouge_scores)"
      ],
      "metadata": {
        "outputId": "1a812206-4cb9-4118-b8cc-055c62a256ec",
        "colab": {
          "base_uri": "https://localhost:8080/"
        },
        "id": "7H7UVVr5Lnx7"
      },
      "execution_count": 6,
      "outputs": [
        {
          "output_type": "stream",
          "name": "stdout",
          "text": [
            "The Department of State uses social media websites and other kinds of third-party websites to interact with foreign constituencies and engage in public diplomacy worldwide. Social media websites are used to publicize embassy and Department events, and engage with members of the public in foreign countries. The Department also uses web measurement and customization technologies to measure the number of visitors to our websites and their various sections. Third-party applications may request email addresses, username, password, and geographic locations for account registration purposes.  The Department uses various types of online surveys to collect opinions and feedback from a random sample of visitors. Primarily, state.gov uses the ForeSee Results’ American Customer Satisfaction Index (ACSI) online survey on an ongoing basis to obtain feedback and data on visitors' satisfaction with the website. This survey does not collect PII, and participants are invited to take the survey, which is optional.  Department retains the data from the ACSI survey results as long as needed to support the mission of the state. government website.  No PII will be disclosed, sold or transferred to any other entity outside the Department, unless required for law enforcement purposes or by statute.  State.gov may use limited-time surveys for specific purposes, which are explained at the time they are posted. The survey reports are available only to state managers and other designated staff who require this information to perform their duties.  If you decline the survey invitation, you will still have access to the same information and resources as those who do take it.  Survey results are only available to managers and designated staff performing specific duties, such as managing the website's operations, maintenance, and marketing efforts.  PII passively collected by the third party will not be transmitted or stored by the Department; no data will be sold, disclosed, or transferred for non-law enforcement purposes, except for required law enforcement or statute-related reasons.  Any PII collected passively by third party applications will be retained, passively collected, and not shared with the Department for any purpose, including data collection, analysis, or data collection for marketing efforts, data analysis, and data collection related to the Department's global outreach efforts, including social media outreach, public diplomacy efforts, and outreach to foreign constituencies, embassy events, government facilities, and international organizations.  Third- party applications may collect user information like email addresses and geographic location information, which can be used to create user accounts for various purposes, including account registration and account registration efforts.\n",
            "ROUGE Scores: {'rouge1': Score(precision=0.2158273381294964, recall=0.9090909090909091, fmeasure=0.34883720930232553), 'rouge2': Score(precision=0.13942307692307693, recall=0.5918367346938775, fmeasure=0.2256809338521401), 'rougeL': Score(precision=0.16546762589928057, recall=0.696969696969697, fmeasure=0.2674418604651163)}\n"
          ]
        }
      ]
    },
    {
      "cell_type": "code",
      "source": [],
      "metadata": {
        "id": "koGwwE20N-gA"
      },
      "execution_count": null,
      "outputs": []
    },
    {
      "cell_type": "code",
      "source": [
        "model_path = '/content/drive/MyDrive/trained_model/BARTsavedmodel'  # Replace with your own directory path\n",
        "from transformers import BartTokenizer, BartForConditionalGeneration\n",
        "\n",
        "\n",
        "extracted_text = \"At Apple, we respect your ability to know, access, correct, transfer, restrict the processing of, and delete your personal data. We have provided these rights to our global customer base and if you choose to exercise these privacy rights, you have the right not to be treated in a discriminatory way nor to receive a lesser degree of service from Apple. Where you are requested to consent to the processing of your personal data by Apple, you have the right to withdraw your consent at any time.  To exercise your privacy rights and choices, including where a third-party service provider is acting on Apple’s behalf, visit the Apple Data and Privacy page at privacy.apple.com for Apple or shazam.com/privacy for Shazam. To help protect the security of your personal data, you must sign in to your account and your identity will be verified. If you want to obtain a copy of personal data that is not currently available from privacy.apple.com, you can make a request at apple.com/legal/privacy/contact. You also have the right to lodge a complaint with the applicable regulator.  There may be situations where we cannot grant your request — for example, if you ask us to delete your transaction data and Apple is legally obligated to keep a record of that transaction to comply with law. We may also decline to grant a request where doing so would undermine our legitimate use of data for anti-fraud and security purposes, such as when you request deletion of an account that is being investigated for security concerns. Other reasons your privacy request may be denied are if it jeopardizes the privacy of others, is frivolous or vexatious, or would be extremely impractical or unreasonable.\"\n",
        "\n",
        "# Load the tokenizer\n",
        "tokenizer = BartTokenizer.from_pretrained(model_path)\n",
        "\n",
        "# Load the model\n",
        "model = BartForConditionalGeneration.from_pretrained(model_path)\n",
        "\n",
        "# Function to generate a summary\n",
        "def generate_summary(text, tokenizer, model):\n",
        "    inputs = tokenizer.encode_plus(text, return_tensors=\"pt\", max_length=512, truncation=True)\n",
        "    summary_ids = model.generate(\n",
        "        inputs['input_ids'],\n",
        "        attention_mask=inputs['attention_mask'],\n",
        "        max_length=5000,  # Adjust based on expected summary length\n",
        "        min_length=500,\n",
        "        num_beams=5,\n",
        "        early_stopping=True\n",
        "    )\n",
        "    summary = tokenizer.decode(summary_ids[0], skip_special_tokens=True)\n",
        "    return summary\n",
        "\n",
        "# Assuming 'extracted_text' is the variable that contains your cleaned text\n",
        "summary = generate_summary(extracted_text, tokenizer, model)\n",
        "print(summary)\n",
        "\n",
        "\n",
        "\n",
        "from rouge_score import rouge_scorer\n",
        "\n",
        "def compute_rouge_scores(reference, generated):\n",
        "    scorer = rouge_scorer.RougeScorer(['rouge1', 'rouge2', 'rougeL'], use_stemmer=True)\n",
        "    scores = scorer.score(reference, generated)\n",
        "    return scores\n",
        "\n",
        "# Example usage\n",
        "reference_summary = \"At Apple, we respect your privacy rights to know, access, correct, transfer, restrict, and delete your personal data. You can exercise these rights without being discriminated against or receiving lesser service. If you have given consent for data processing, you can withdraw it anytime. Visit privacy.apple.com for Apple or shazam.com/privacy for Shazam to exercise your rights. For personal data not found at privacy.apple.com, request it at apple.com/legal/privacy/contact. Complaints can be lodged with the applicable regulator. We may decline your request if it jeopardizes other's privacy, is frivolous, or unreasonable. We may also decline if it undermines our anti-fraud and security purposes.\"\n",
        "#generated_summary = summarize(text, model, tokenizer)\n",
        "\n",
        "# Compute ROUGE scores\n",
        "rouge_scores = compute_rouge_scores(reference_summary, summary)\n",
        "print(\"ROUGE Scores:\", rouge_scores)"
      ],
      "metadata": {
        "outputId": "ae5185d0-65e7-4942-e7c6-5e4dd4c5330a",
        "colab": {
          "base_uri": "https://localhost:8080/"
        },
        "id": "mN2iKNwAN-zs"
      },
      "execution_count": 7,
      "outputs": [
        {
          "output_type": "stream",
          "name": "stdout",
          "text": [
            "At Apple, we respect your ability to know, access, correct, transfer, restrict the processing of, and delete your personal data. We have provided these rights to our global customer base and if you choose to exercise these privacy rights, you have the right not to be treated in a discriminatory way nor to receive a lesser degree of service from Apple.  To exercise your privacy rights and choices, visit the Apple Data and Privacy page at privacy.apple.com for Apple or shazam.com/privacy for Shazam, where you must sign in to your account and your identity will be verified.  If you want to obtain a copy of personal data that is not currently available, you can make a request at Apple's legal privacy page, and you can lodge a complaint with the applicable regulator.  There may be situations where we cannot grant your request, such as if you ask us to delete your transaction data and Apple is legally obligated to keep a record of that transaction to comply with law. We may also decline to grant a request where doing so would undermine our legitimate use of data for anti-fraud and security purposes. Other reasons privacy requests may be denied are if it jeopardizes the privacy of others, is frivolous or vexatious, or would be extremely impractical or unreasonable, like deleting an account that is under investigation for security concerns.  Apple may also refuse to grant privacy requests if the privacy request is frivolous, frivolous, unreasonable, impractical or impractical, or extremely impractical, like removing an account under security concerns, or deleting transactions that comply with legal requirements like complying with law, fraud protections, or privacy concerns related to data security, like data privacy related to financial transactions, fraud concerns, and data security related to social media platforms like Facebook, Twitter, and Google Analytics, among others.  You have the option to withdraw your consent to data processing by Apple at any time, and can do so through the legal privacy section of Apple's privacy page or through third-party service providers acting on Apple's behalf such as Apple's website.   You can also lodge complaints with applicable regulators if you feel your privacy request request is unreasonable or jeopardizes your privacy, like if Apple refuses to delete transaction data due to legal obligations, or if data privacy concerns are jeopardized by other factors such as privacy concerns surrounding your personal information, financial issues, or social media privacy concerns, like privacy related concerns surrounding social networks like Twitter, Facebook, or Google Analytics.\n",
            "ROUGE Scores: {'rouge1': Score(precision=0.234192037470726, recall=0.8849557522123894, fmeasure=0.37037037037037035), 'rouge2': Score(precision=0.13615023474178403, recall=0.5178571428571429, fmeasure=0.21561338289962828), 'rougeL': Score(precision=0.16393442622950818, recall=0.6194690265486725, fmeasure=0.25925925925925924)}\n"
          ]
        }
      ]
    },
    {
      "cell_type": "code",
      "source": [
        "import matplotlib.pyplot as plt\n",
        "\n",
        "# ROUGE scores for three different contents\n",
        "data = {\n",
        "    \"Content 1\": {\n",
        "        \"ROUGE-1\": {\"Precision\": 0.2141, \"Recall\": 0.8468, \"F-measure\": 0.3418},\n",
        "        \"ROUGE-2\": {\"Precision\": 0.1256, \"Recall\": 0.5, \"F-measure\": 0.2007},\n",
        "        \"ROUGE-L\": {\"Precision\": 0.1458, \"Recall\": 0.5766, \"F-measure\": 0.2327}\n",
        "    },\n",
        "    \"Content 2\": {\n",
        "        \"ROUGE-1\": {\"Precision\": 0.2158, \"Recall\": 0.9091, \"F-measure\": 0.3488},\n",
        "        \"ROUGE-2\": {\"Precision\": 0.1394, \"Recall\": 0.5918, \"F-measure\": 0.2257},\n",
        "        \"ROUGE-L\": {\"Precision\": 0.1655, \"Recall\": 0.6970, \"F-measure\": 0.2674}\n",
        "    },\n",
        "    \"Content 3\": {\n",
        "        \"ROUGE-1\": {\"Precision\": 0.2342, \"Recall\": 0.8850, \"F-measure\": 0.3704},\n",
        "        \"ROUGE-2\": {\"Precision\": 0.1362, \"Recall\": 0.5179, \"F-measure\": 0.2156},\n",
        "        \"ROUGE-L\": {\"Precision\": 0.1639, \"Recall\": 0.6195, \"F-measure\": 0.2593}\n",
        "    }\n",
        "}\n",
        "\n",
        "# Plotting the ROUGE scores\n",
        "metrics = [\"Precision\", \"Recall\", \"F-measure\"]\n",
        "rouge_types = [\"ROUGE-1\", \"ROUGE-2\", \"ROUGE-L\"]\n",
        "colors = ['b', 'g', 'r']\n",
        "fig, axs = plt.subplots(nrows=1, ncols=3, figsize=(15, 5), sharey=True)\n",
        "\n",
        "for idx, metric in enumerate(metrics):\n",
        "    ax = axs[idx]\n",
        "    for rouge_type, color in zip(rouge_types, colors):\n",
        "        values = [data[content][rouge_type][metric] for content in data]\n",
        "        ax.plot(data.keys(), values, 'o-', label=f\"{rouge_type}\", color=color)\n",
        "    ax.set_title(f\"{metric} Scores by ROUGE Type\")\n",
        "    ax.set_xlabel(\"Content\")\n",
        "    ax.set_ylim(0, 1)\n",
        "    ax.grid(True)\n",
        "\n",
        "axs[0].set_ylabel(\"Score\")\n",
        "handles, labels = axs[0].get_legend_handles_labels()\n",
        "fig.legend(handles, labels, loc='upper center', ncol=3)\n",
        "plt.tight_layout(rect=[0, 0.03, 1, 0.95])\n",
        "plt.show()\n"
      ],
      "metadata": {
        "colab": {
          "base_uri": "https://localhost:8080/",
          "height": 347
        },
        "id": "Zy5KWP5uTUgq",
        "outputId": "8b540646-43c7-4683-bbec-aebe85d0db15"
      },
      "execution_count": 8,
      "outputs": [
        {
          "output_type": "display_data",
          "data": {
            "text/plain": [
              "<Figure size 1500x500 with 3 Axes>"
            ],
            "image/png": "[encoded data removed]"
          },
          "metadata": {}
        }
      ]
    },
    {
      "cell_type": "markdown",
      "source": [
        "#T5"
      ],
      "metadata": {
        "id": "FkY-UdfUWk56"
      }
    },
    {
      "cell_type": "code",
      "source": [
        "from transformers import T5ForConditionalGeneration, AutoTokenizer\n",
        "\n",
        "# Load the model and tokenizer\n",
        "model_path = '/content/drive/MyDrive/trained_model/T5model2'\n",
        "model = T5ForConditionalGeneration.from_pretrained(model_path)\n",
        "tokenizer = AutoTokenizer.from_pretrained(model_path)\n",
        "\n",
        "# Prepare input text\n",
        "input_text = \"As a general rule, the Department does not collect PII about you when you visit our website, unless you choose to provide such information to us. Submitting PII through our website is voluntary. By doing so, you are giving the Department your permission to use the information for the stated purpose. However, not providing certain information may result in the Department’s inability to provide you with the service you desire. If you choose to provide us with PII on a Department website, through such methods as completing a web form or sending us an email, we will use that information to help us provide you the information or service you have requested or to respond to your message. The information we may receive from you varies based on what you do when visiting our site. Generally, the information requested by the Department will be used to respond to your inquiry or to provide you with the service you request. When this information is requested, the reasons for collecting it, a description of the Department’s intended use of the information, how to grant consent to use mandatorily provided information, and how to grant consent for other than statutorily mandated uses will be fully described in a separate customized “Privacy Notice.” This customized Privacy Notice will either appear on the web page collecting the information or be accessible through a hyperlink (link) prominently displayed immediately above or below the information request.\"\n",
        "\n",
        "inputs = tokenizer(input_text, return_tensors=\"pt\", max_length=512, truncation=True)\n",
        "\n",
        "# Generate the summary\n",
        "output_tokens = model.generate(\n",
        "    inputs.input_ids,\n",
        "    attention_mask=inputs.attention_mask,\n",
        "    max_length=150,\n",
        "    num_beams=5,\n",
        "    early_stopping=True\n",
        ")\n",
        "\n",
        "# Decode and print the summary\n",
        "summary = tokenizer.decode(output_tokens[0], skip_special_tokens=True)\n",
        "print(summary)\n",
        "\n",
        "from rouge_score import rouge_scorer\n",
        "\n",
        "def compute_rouge_scores(reference, generated):\n",
        "    scorer = rouge_scorer.RougeScorer(['rouge1', 'rouge2', 'rougeL'], use_stemmer=True)\n",
        "    scores = scorer.score(reference, generated)\n",
        "    return scores\n",
        "\n",
        "# Example usage\n",
        "reference_summary = \"We only collect Personally Identifiable Information (PII) that you provide to us on our website. This is voluntary and if you choose to provide us with PII, we will use that information to respond to your inquiry or to provide you with the service you request. If you don't provide certain information, we may not be able to provide you with the service you desire. The reasons for collecting your information, its intended use, and how to grant consent for its use will be fully explained in a Privacy Notice. This notice will either appear on the web page where the information is collected or be accessible through a hyperlink.\"\n",
        "#generated_summary = summarize(text, model, tokenizer)\n",
        "\n",
        "# Compute ROUGE scores\n",
        "rouge_scores = compute_rouge_scores(reference_summary, summary)\n",
        "print(\"ROUGE Scores:\", rouge_scores)\n",
        "\n",
        "\n"
      ],
      "metadata": {
        "colab": {
          "base_uri": "https://localhost:8080/"
        },
        "id": "4jLTVDaoWko3",
        "outputId": "9835c26b-64cb-493f-d79d-006dd68e8127"
      },
      "execution_count": 9,
      "outputs": [
        {
          "output_type": "stream",
          "name": "stderr",
          "text": [
            "Special tokens have been added in the vocabulary, make sure the associated word embeddings are fine-tuned or trained.\n",
            "You set `add_prefix_space`. The tokenizer needs to be converted from the slow tokenizers\n"
          ]
        },
        {
          "output_type": "stream",
          "name": "stdout",
          "text": [
            "the Department does not collect PII about you when you visit our website, unless you choose to provide such information to us. Submitting PII through our website is voluntary. The Department does not collect PII about you when you visit our website, unless you choose to provide such information to us. This customized Privacy Notice will appear on the web page collecting the information or be accessible through a hyperlink (link) prominently above or below the information request.\n",
            "ROUGE Scores: {'rouge1': Score(precision=0.6410256410256411, recall=0.45045045045045046, fmeasure=0.5291005291005292), 'rouge2': Score(precision=0.2597402597402597, recall=0.18181818181818182, fmeasure=0.21390374331550802), 'rougeL': Score(precision=0.4358974358974359, recall=0.3063063063063063, fmeasure=0.3597883597883598)}\n"
          ]
        }
      ]
    },
    {
      "cell_type": "code",
      "source": [
        "from transformers import T5ForConditionalGeneration, AutoTokenizer\n",
        "\n",
        "# Load the model and tokenizer\n",
        "model_path = '/content/drive/MyDrive/trained_model/T5model2'\n",
        "model = T5ForConditionalGeneration.from_pretrained(model_path)\n",
        "tokenizer = AutoTokenizer.from_pretrained(model_path)\n",
        "\n",
        "# Prepare input text\n",
        "input_text = \"The Department uses social media websites and other kinds of third-party websites. The Department uses social media websites to interact with foreign constituencies and engage in public diplomacy worldwide. Social media websites are used to publicize embassy and Department events, and engage with members of the public in foreign countries. The Department also uses web measurement and customization technologies to measure the number of visitors to our websites and their various sections and to help make our websites more useful to visitors. In such cases, the third-party application may request an email address, username, password, and geographic location (e.g., State, region, or ZIP code) for account registration purposes. The Department of State does not use third-party websites to solicit and collect PII from individuals. Any PII passively collected (i.e., not solicited) by the third-party website will not be transmitted or stored by the Department; no PII will be disclosed, sold or transferred to any other entity outside the Department, unless required for law enforcement purposes or by statute.  The Department uses various types of online surveys to collect opinions and feedback from a random sample of visitors. Primarily, state.gov uses the ForeSee Results’ American Customer Satisfaction Index (ACSI) online survey on an ongoing basis to obtain feedback and data on visitors’ satisfaction with the state.gov website. This survey does not collect PII. Although the survey invitation pops up for a random sample of visitors, it is optional. If you decline the survey, you will still have access to the identical information and resources at the state.gov site as those who do take the survey. The survey reports are available only to state.gov managers and other designated staff who require this information to perform their duties. The Department may use other limited-time surveys for specific purposes, which are explained at the time they are posted.  The Department retains the data from the ACSI survey results as long as needed to support the mission of the state.gov website.\"\n",
        "inputs = tokenizer(input_text, return_tensors=\"pt\", max_length=512, truncation=True)\n",
        "\n",
        "# Generate the summary\n",
        "output_tokens = model.generate(\n",
        "    inputs.input_ids,\n",
        "    attention_mask=inputs.attention_mask,\n",
        "    max_length=150,\n",
        "    num_beams=5,\n",
        "    early_stopping=True\n",
        ")\n",
        "\n",
        "# Decode and print the summary\n",
        "summary = tokenizer.decode(output_tokens[0], skip_special_tokens=True)\n",
        "print(summary)\n",
        "\n",
        "from rouge_score import rouge_scorer\n",
        "\n",
        "def compute_rouge_scores(reference, generated):\n",
        "    scorer = rouge_scorer.RougeScorer(['rouge1', 'rouge2', 'rougeL'], use_stemmer=True)\n",
        "    scores = scorer.score(reference, generated)\n",
        "    return scores\n",
        "\n",
        "# Example usage\n",
        "reference_summary = \"The Department uses social media and third-party websites to interact with foreign constituencies and publicize embassy and Department events. The Department uses web measurement technologies to make their websites more useful to visitors. No personally identifiable information is collected passively by the third-party website. The Department uses surveys to collect opinions and feedback, with the ForeSee Results' American Customer Satisfaction Index (ACSI) online survey being the most commonly used. The survey is optional and does not collect personally identifiable information. The Department retains ACSI survey data as long as needed to support the state.gov website mission.\"\n",
        "#generated_summary = summarize(text, model, tokenizer)\n",
        "\n",
        "# Compute ROUGE scores\n",
        "rouge_scores = compute_rouge_scores(reference_summary, summary)\n",
        "print(\"ROUGE Scores:\", rouge_scores)\n",
        "\n",
        "\n"
      ],
      "metadata": {
        "outputId": "1223826f-5f63-435a-e8cb-d9b8903e66f3",
        "colab": {
          "base_uri": "https://localhost:8080/"
        },
        "id": "wwQzT8wRZuAK"
      },
      "execution_count": 10,
      "outputs": [
        {
          "output_type": "stream",
          "name": "stderr",
          "text": [
            "Special tokens have been added in the vocabulary, make sure the associated word embeddings are fine-tuned or trained.\n"
          ]
        },
        {
          "output_type": "stream",
          "name": "stdout",
          "text": [
            "to obtain feedback and data on visitors’ satisfaction with the state.gov website. This survey does not collect PII. The Department uses social media websites and other kinds of third-party websites. The Department uses social media websites to interact with foreign constituencies and engage in public diplomacy worldwide. The Department uses social media websites to interact with foreign constituencies and engage in public diplomacy worldwide.\n",
            "ROUGE Scores: {'rouge1': Score(precision=0.6212121212121212, recall=0.41414141414141414, fmeasure=0.49696969696969695), 'rouge2': Score(precision=0.35384615384615387, recall=0.23469387755102042, fmeasure=0.28220858895705525), 'rougeL': Score(precision=0.3484848484848485, recall=0.23232323232323232, fmeasure=0.2787878787878788)}\n"
          ]
        }
      ]
    },
    {
      "cell_type": "code",
      "source": [],
      "metadata": {
        "id": "3neNMWqdcKrn"
      },
      "execution_count": null,
      "outputs": []
    },
    {
      "cell_type": "code",
      "source": [
        "from transformers import T5ForConditionalGeneration, AutoTokenizer\n",
        "\n",
        "# Load the model and tokenizer\n",
        "model_path = '/content/drive/MyDrive/trained_model/T5model2'\n",
        "model = T5ForConditionalGeneration.from_pretrained(model_path)\n",
        "tokenizer = AutoTokenizer.from_pretrained(model_path)\n",
        "\n",
        "# Prepare input text\n",
        "input_text = \"At Apple, we respect your ability to know, access, correct, transfer, restrict the processing of, and delete your personal data. We have provided these rights to our global customer base and if you choose to exercise these privacy rights, you have the right not to be treated in a discriminatory way nor to receive a lesser degree of service from Apple. Where you are requested to consent to the processing of your personal data by Apple, you have the right to withdraw your consent at any time.  To exercise your privacy rights and choices, including where a third-party service provider is acting on Apple’s behalf, visit the Apple Data and Privacy page at privacy.apple.com for Apple or shazam.com/privacy for Shazam. To help protect the security of your personal data, you must sign in to your account and your identity will be verified. If you want to obtain a copy of personal data that is not currently available from privacy.apple.com, you can make a request at apple.com/legal/privacy/contact. You also have the right to lodge a complaint with the applicable regulator.  There may be situations where we cannot grant your request — for example, if you ask us to delete your transaction data and Apple is legally obligated to keep a record of that transaction to comply with law. We may also decline to grant a request where doing so would undermine our legitimate use of data for anti-fraud and security purposes, such as when you request deletion of an account that is being investigated for security concerns. Other reasons your privacy request may be denied are if it jeopardizes the privacy of others, is frivolous or vexatious, or would be extremely impractical or unreasonable.\"\n",
        "inputs = tokenizer(input_text, return_tensors=\"pt\", max_length=512, truncation=True)\n",
        "\n",
        "# Generate the summary\n",
        "output_tokens = model.generate(\n",
        "    inputs.input_ids,\n",
        "    attention_mask=inputs.attention_mask,\n",
        "    max_length=150,\n",
        "    num_beams=5,\n",
        "    early_stopping=True\n",
        ")\n",
        "\n",
        "# Decode and print the summary\n",
        "summary = tokenizer.decode(output_tokens[0], skip_special_tokens=True)\n",
        "print(summary)\n",
        "\n",
        "from rouge_score import rouge_scorer\n",
        "\n",
        "def compute_rouge_scores(reference, generated):\n",
        "    scorer = rouge_scorer.RougeScorer(['rouge1', 'rouge2', 'rougeL'], use_stemmer=True)\n",
        "    scores = scorer.score(reference, generated)\n",
        "    return scores\n",
        "\n",
        "# Example usage\n",
        "reference_summary = \"At Apple, we respect your privacy rights to know, access, correct, transfer, restrict, and delete your personal data. You can exercise these rights without being discriminated against or receiving lesser service. If you have given consent for data processing, you can withdraw it anytime. Visit privacy.apple.com for Apple or shazam.com/privacy for Shazam to exercise your rights. For personal data not found at privacy.apple.com, request it at apple.com/legal/privacy/contact. Complaints can be lodged with the applicable regulator. We may decline your request if it jeopardizes other's privacy, is frivolous, or unreasonable. We may also decline if it undermines our anti-fraud and security purposes.\"\n",
        "#generated_summary = summarize(text, model, tokenizer)\n",
        "\n",
        "# Compute ROUGE scores\n",
        "rouge_scores = compute_rouge_scores(reference_summary, summary)\n",
        "print(\"ROUGE Scores:\", rouge_scores)\n",
        "\n",
        "\n"
      ],
      "metadata": {
        "outputId": "18ec1560-ca69-484c-8de1-210a4f4e562a",
        "colab": {
          "base_uri": "https://localhost:8080/"
        },
        "id": "B_duhG0kcK9E"
      },
      "execution_count": 11,
      "outputs": [
        {
          "output_type": "stream",
          "name": "stderr",
          "text": [
            "Special tokens have been added in the vocabulary, make sure the associated word embeddings are fine-tuned or trained.\n"
          ]
        },
        {
          "output_type": "stream",
          "name": "stdout",
          "text": [
            ".apple.com for Apple or shazam.com/privacy for Shazam. To exercise your privacy rights, you have the right to withdraw your consent at any time. Apple respects your ability to know, access, correct, transfer, restrict the processing of, and delete your personal data. You have the right to withdraw your consent at any time.\n",
            "ROUGE Scores: {'rouge1': Score(precision=0.7454545454545455, recall=0.36283185840707965, fmeasure=0.48809523809523814), 'rouge2': Score(precision=0.5, recall=0.24107142857142858, fmeasure=0.3253012048192771), 'rougeL': Score(precision=0.36363636363636365, recall=0.17699115044247787, fmeasure=0.23809523809523814)}\n"
          ]
        }
      ]
    },
    {
      "cell_type": "code",
      "source": [
        "import matplotlib.pyplot as plt\n",
        "\n",
        "# Updated ROUGE scores for three different contents\n",
        "data_updated = {\n",
        "    \"Content 1\": {\n",
        "        \"ROUGE-1\": {\"Precision\": 0.6410, \"Recall\": 0.4504, \"F-measure\": 0.5291},\n",
        "        \"ROUGE-2\": {\"Precision\": 0.2597, \"Recall\": 0.1818, \"F-measure\": 0.2139},\n",
        "        \"ROUGE-L\": {\"Precision\": 0.4359, \"Recall\": 0.3063, \"F-measure\": 0.3598}\n",
        "    },\n",
        "    \"Content 2\": {\n",
        "        \"ROUGE-1\": {\"Precision\": 0.6212, \"Recall\": 0.4141, \"F-measure\": 0.4970},\n",
        "        \"ROUGE-2\": {\"Precision\": 0.3538, \"Recall\": 0.2347, \"F-measure\": 0.2822},\n",
        "        \"ROUGE-L\": {\"Precision\": 0.3485, \"Recall\": 0.2323, \"F-measure\": 0.2788}\n",
        "    },\n",
        "    \"Content 3\": {\n",
        "        \"ROUGE-1\": {\"Precision\": 0.7455, \"Recall\": 0.3628, \"F-measure\": 0.4881},\n",
        "        \"ROUGE-2\": {\"Precision\": 0.5000, \"Recall\": 0.2411, \"F-measure\": 0.3253},\n",
        "        \"ROUGE-L\": {\"Precision\": 0.3636, \"Recall\": 0.1770, \"F-measure\": 0.2381}\n",
        "    }\n",
        "}\n",
        "\n",
        "# Plotting the ROUGE scores\n",
        "metrics = [\"Precision\", \"Recall\", \"F-measure\"]\n",
        "rouge_types = [\"ROUGE-1\", \"ROUGE-2\", \"ROUGE-L\"]\n",
        "colors = ['b', 'g', 'r']\n",
        "fig, axs = plt.subplots(nrows=1, ncols=3, figsize=(15, 5), sharey=True)\n",
        "\n",
        "for idx, metric in enumerate(metrics):\n",
        "    ax = axs[idx]\n",
        "    for rouge_type, color in zip(rouge_types, colors):\n",
        "        values = [data_updated[content][rouge_type][metric] for content in data_updated]\n",
        "        ax.plot(data_updated.keys(), values, 'o-', label=f\"{rouge_type}\", color=color)\n",
        "    ax.set_title(f\"{metric} Scores by ROUGE Type\")\n",
        "    ax.set_xlabel(\"Content\")\n",
        "    ax.set_ylim(0, 1)\n",
        "    ax.grid(True)\n",
        "\n",
        "axs[0].set_ylabel(\"Score\")\n",
        "handles, labels = axs[0].get_legend_handles_labels()\n",
        "fig.legend(handles, labels, loc='upper center', ncol=3)\n",
        "plt.tight_layout(rect=[0, 0.03, 1, 0.95])\n",
        "plt.show()\n"
      ],
      "metadata": {
        "colab": {
          "base_uri": "https://localhost:8080/",
          "height": 347
        },
        "id": "hZ6wHisEdsEg",
        "outputId": "8b44c7bc-4d9a-4e4a-e4d3-9902b626a743"
      },
      "execution_count": 12,
      "outputs": [
        {
          "output_type": "display_data",
          "data": {
            "text/plain": [
              "<Figure size 1500x500 with 3 Axes>"
            ],
            "image/png": "[encoded data removed]"
          },
          "metadata": {}
        }
      ]
    }
  ]
}